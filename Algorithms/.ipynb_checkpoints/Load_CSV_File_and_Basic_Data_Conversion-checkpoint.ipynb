{
 "cells": [
  {
   "cell_type": "code",
   "execution_count": 1,
   "id": "30c4afd0",
   "metadata": {},
   "outputs": [],
   "source": [
    "from csv import reader"
   ]
  },
  {
   "cell_type": "code",
   "execution_count": 7,
   "id": "d9e24794",
   "metadata": {},
   "outputs": [],
   "source": [
    "#Function for loading a CSV.\n",
    "def load_csv(filename):\n",
    "    file = open(filename, \"r\")\n",
    "    lines = reader(file)\n",
    "    dataset = list(lines)\n",
    "    return dataset\n"
   ]
  },
  {
   "cell_type": "code",
   "execution_count": 10,
   "id": "bf887bbf",
   "metadata": {},
   "outputs": [
    {
     "name": "stdout",
     "output_type": "stream",
     "text": [
      "Loaded data file pima-indians-diabetes.csv with 768 rows and 9 columns\n"
     ]
    }
   ],
   "source": [
    "# Load dataset\n",
    "filename='pima-indians-diabetes.csv'\n",
    "dataset  =load_csv(filename)\n",
    "print('Loaded data file {0} with {1} rows and {2} columns'.format(filename, len(dataset),\n",
    "                                                                  len(dataset[0])))"
   ]
  },
  {
   "cell_type": "code",
   "execution_count": 11,
   "id": "547fadf2",
   "metadata": {},
   "outputs": [],
   "source": [
    "# Limitation of the above function is that it will load empty lines from data files\n",
    "# and add to our list of rows. we can overcome this by adding rows of data one at a time to our dataset\n",
    "# and skipping empty rows."
   ]
  },
  {
   "cell_type": "code",
   "execution_count": 14,
   "id": "88cc24f8",
   "metadata": {},
   "outputs": [
    {
     "name": "stdout",
     "output_type": "stream",
     "text": [
      "Loaded data file pima-indians-diabetes.csv with 768 rows and 9 columns\n"
     ]
    }
   ],
   "source": [
    "# Example of loading pima indians csv dataset\n",
    "from csv import reader\n",
    "\n",
    "# load a csv file\n",
    "def load_csv(filename):\n",
    "    dataset = list()\n",
    "    with open(filename, 'r') as file:\n",
    "        csv_reader = reader(file)\n",
    "        for row in csv_reader:\n",
    "            if not row:\n",
    "                continue\n",
    "            dataset.append(row)\n",
    "    return dataset\n",
    "\n",
    "\n",
    "# Load dataset\n",
    "filename = 'pima-indians-diabetes.csv'\n",
    "dataset = load_csv(filename)\n",
    "print('Loaded data file {0} with {1} rows and {2} columns'.format(filename, len(dataset),\n",
    "                                                                  len(dataset[0])))"
   ]
  },
  {
   "cell_type": "markdown",
   "id": "16daa604",
   "metadata": {},
   "source": [
    "# Basic Data conversion"
   ]
  },
  {
   "cell_type": "markdown",
   "id": "f18a283f",
   "metadata": {},
   "source": [
    "## Converting String to Floats"
   ]
  },
  {
   "cell_type": "code",
   "execution_count": 15,
   "id": "210f5443",
   "metadata": {},
   "outputs": [],
   "source": [
    "# Our code for loading a csv file returns a dataset as a list of lists, \n",
    "# but each value is a string"
   ]
  },
  {
   "cell_type": "code",
   "execution_count": 16,
   "id": "f5d0fef4",
   "metadata": {},
   "outputs": [
    {
     "name": "stdout",
     "output_type": "stream",
     "text": [
      "['6', '148', '72', '35', '0', '33.6', '0.627', '50', '1']\n"
     ]
    }
   ],
   "source": [
    "print(dataset[0])"
   ]
  },
  {
   "cell_type": "code",
   "execution_count": 18,
   "id": "d1108441",
   "metadata": {},
   "outputs": [],
   "source": [
    "# A small function to convert specific columns of our loaded dataset to floating point values.\n",
    "def str_column_to_float(dataset, column):\n",
    "    for row in dataset:\n",
    "        row[column] = float(row[column].strip()) #careful to strip any whitespace from the value before making the conversion"
   ]
  },
  {
   "cell_type": "code",
   "execution_count": 19,
   "id": "2f11c32b",
   "metadata": {},
   "outputs": [
    {
     "name": "stdout",
     "output_type": "stream",
     "text": [
      "Loaded data file pima-indians-diabetes.csv with 768 rows and 9 columns\n",
      "['6', '148', '72', '35', '0', '33.6', '0.627', '50', '1']\n",
      "[6.0, 148.0, 72.0, 35.0, 0.0, 33.6, 0.627, 50.0, 1.0]\n"
     ]
    }
   ],
   "source": [
    "# Example of loading pima indians csv dataset\n",
    "from csv import reader\n",
    "\n",
    "# load a csv file\n",
    "def load_csv(filename):\n",
    "    dataset = list()\n",
    "    with open(filename, 'r') as file:\n",
    "        csv_reader = reader(file)\n",
    "        for row in csv_reader:\n",
    "            if not row:\n",
    "                continue\n",
    "            dataset.append(row)\n",
    "    return dataset\n",
    "\n",
    "# coverting string column to float\n",
    "def str_column_to_float(dataset, column):\n",
    "    for row in dataset:\n",
    "        row[column] = float(row[column].strip())\n",
    "        \n",
    "        \n",
    "        \n",
    "# Load dataset    \n",
    "filename = 'pima-indians-diabetes.csv'\n",
    "dataset = load_csv(filename)\n",
    "print('Loaded data file {0} with {1} rows and {2} columns'.format(filename, len(dataset),\n",
    "                                                                  len(dataset[0])))\n",
    "print(dataset[0])\n",
    "\n",
    "# converting string columns to float\n",
    "for i in range(len(dataset[0])):\n",
    "    str_column_to_float(dataset, i)\n",
    "\n",
    "print(dataset[0])"
   ]
  },
  {
   "cell_type": "code",
   "execution_count": null,
   "id": "f17dac6c",
   "metadata": {},
   "outputs": [],
   "source": []
  },
  {
   "cell_type": "code",
   "execution_count": null,
   "id": "dbe03b8d",
   "metadata": {},
   "outputs": [],
   "source": []
  },
  {
   "cell_type": "markdown",
   "id": "db4bc855",
   "metadata": {},
   "source": [
    "## Converting Strings to Integers"
   ]
  },
  {
   "cell_type": "markdown",
   "id": "1c01e937",
   "metadata": {},
   "source": [
    "##### Some machine learning algorithms prefer all values to be numeric, including the outcome or predicted value."
   ]
  },
  {
   "cell_type": "markdown",
   "id": "95ee3816",
   "metadata": {},
   "source": [
    "#### Steps:\n",
    "<ol> <li> First, we locate all of the unique class values, which happen to be: \n",
    "    <ul><li>Iris-setosa</li>\n",
    "        <li>Iris-versicolor</li>\n",
    "        <li>Iris-virginica</li></ul>\n",
    "    <li>Next, we assign an integer value to weac, such as: 0, 1 and 2.</li>\n",
    "    <li> Finally, we replace all occurrences of class string values with their corresponding integer values</li>"
   ]
  },
  {
   "cell_type": "code",
   "execution_count": 21,
   "id": "64656347",
   "metadata": {},
   "outputs": [],
   "source": [
    "# Just like previous function str_column_float(), function str_column_int()\n",
    "# it also operates on a single column in the dataset."
   ]
  },
  {
   "cell_type": "code",
   "execution_count": 27,
   "id": "e3f614c9",
   "metadata": {},
   "outputs": [
    {
     "name": "stdout",
     "output_type": "stream",
     "text": [
      "Loaded data file iris.data with 150 rows and 5 columns\n",
      "['5.1', '3.5', '1.4', '0.2', 'Iris-setosa']\n",
      "[5.1, 3.5, 1.4, 0.2, 1]\n",
      "[5.1, 3.5, 1.4, 0.2, 1]\n",
      "{'Iris-virginica': 0, 'Iris-setosa': 1, 'Iris-versicolor': 2}\n"
     ]
    }
   ],
   "source": [
    "# Example of loading pima indians csv dataset\n",
    "from csv import reader\n",
    "\n",
    "# load a csv file\n",
    "def load_csv(filename):\n",
    "    dataset = list()\n",
    "    with open(filename, 'r') as file:\n",
    "        csv_reader = reader(file)\n",
    "        for row in csv_reader:\n",
    "            if not row:\n",
    "                continue\n",
    "            dataset.append(row)\n",
    "    return dataset\n",
    "\n",
    "# coverting string column to float\n",
    "def str_column_to_float(dataset, column):\n",
    "    for row in dataset:\n",
    "        row[column] = float(row[column].strip())\n",
    "        \n",
    "        \n",
    "# coverting string column to integer\n",
    "def str_column_to_int(dataset, column):\n",
    "    class_values = [row[column] for row in dataset]\n",
    "    unique = set(class_values)\n",
    "    lookup = dict()\n",
    "    for i, value in enumerate(unique):\n",
    "        lookup[value] = i\n",
    "    for row in dataset:\n",
    "        row[column] = lookup[row[column]]\n",
    "    return lookup\n",
    "\n",
    "        \n",
    "        \n",
    "        \n",
    "# Load dataset    \n",
    "filename = 'iris.data'\n",
    "dataset = load_csv(filename)\n",
    "print('Loaded data file {0} with {1} rows and {2} columns'.format(filename, len(dataset),\n",
    "                                                                  len(dataset[0])))\n",
    "print(dataset[0])\n",
    "\n",
    "# converting string columns to float\n",
    "for i in range(4):\n",
    "    str_column_to_float(dataset, i)\n",
    "    \n",
    "# convert class column to int\n",
    "lookup = str_column_to_int(dataset, 4)\n",
    "print(dataset[0])\n",
    "\n",
    "print(dataset[0])\n",
    "print(lookup)"
   ]
  },
  {
   "cell_type": "code",
   "execution_count": null,
   "id": "1a932c89",
   "metadata": {},
   "outputs": [],
   "source": []
  }
 ],
 "metadata": {
  "kernelspec": {
   "display_name": "Python 3",
   "language": "python",
   "name": "python3"
  },
  "language_info": {
   "codemirror_mode": {
    "name": "ipython",
    "version": 3
   },
   "file_extension": ".py",
   "mimetype": "text/x-python",
   "name": "python",
   "nbconvert_exporter": "python",
   "pygments_lexer": "ipython3",
   "version": "3.8.8"
  }
 },
 "nbformat": 4,
 "nbformat_minor": 5
}
