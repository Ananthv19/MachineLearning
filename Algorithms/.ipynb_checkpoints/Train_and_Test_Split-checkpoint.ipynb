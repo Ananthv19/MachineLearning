{
 "cells": [
  {
   "cell_type": "markdown",
   "id": "e833921c",
   "metadata": {},
   "source": [
    "### The train and test split involves separating a dataset into two parts.\n",
    " 1. <b>Training Dataset</b>: The training dataset is used by the machine learning algorithm to train the model.\n",
    " \n",
    " 2. <b>Test Dataset</b>: The test dataset is held back and is used to evaluate the performance of the model."
   ]
  },
  {
   "cell_type": "code",
   "execution_count": 1,
   "id": "0ff5a54e",
   "metadata": {},
   "outputs": [],
   "source": [
    "#The rows assigned to each dataset are randomly selected. \n",
    "#This is an attempt to ensure that the training and evaluation of a model is objective."
   ]
  },
  {
   "cell_type": "code",
   "execution_count": 4,
   "id": "8899074f",
   "metadata": {},
   "outputs": [],
   "source": [
    "from random import seed\n",
    "from random import randrange"
   ]
  },
  {
   "cell_type": "code",
   "execution_count": 10,
   "id": "4985e0c7",
   "metadata": {},
   "outputs": [],
   "source": [
    "# Split a dataset into a train and test set\n",
    "# It accepts two arguments: the dataset to split as a list of lists and an optional split percentage.\n",
    "def train_test_split(dataset, split=0.60):\n",
    "    train = list()\n",
    "    train_size = split* len(dataset)\n",
    "    dataset_copy = list(dataset)\n",
    "    while len(train)<train_size:\n",
    "        index = randrange(len(dataset_copy))\n",
    "        train.append(dataset_copy.pop(index))\n",
    "    return train, dataset_copy"
   ]
  },
  {
   "cell_type": "code",
   "execution_count": 16,
   "id": "1ffc1a2d",
   "metadata": {},
   "outputs": [
    {
     "name": "stdout",
     "output_type": "stream",
     "text": [
      "[[3], [2], [7], [1], [8], [9]]\n",
      "[[4], [5], [6], [10]]\n"
     ]
    }
   ],
   "source": [
    "# Test train/test split\n",
    "seed(1) # This is to ensure the exact same split of the data is made every time the code is executed.\n",
    "dataset = [[1], [2], [3], [4], [5], [6], [7], [8], [9], [10]]\n",
    "train, test = train_test_split(dataset)\n",
    "print(train)\n",
    "print(test)"
   ]
  },
  {
   "cell_type": "code",
   "execution_count": null,
   "id": "a100644d",
   "metadata": {},
   "outputs": [],
   "source": []
  },
  {
   "cell_type": "code",
   "execution_count": null,
   "id": "4f37c2ae",
   "metadata": {},
   "outputs": [],
   "source": []
  }
 ],
 "metadata": {
  "kernelspec": {
   "display_name": "Python 3",
   "language": "python",
   "name": "python3"
  },
  "language_info": {
   "codemirror_mode": {
    "name": "ipython",
    "version": 3
   },
   "file_extension": ".py",
   "mimetype": "text/x-python",
   "name": "python",
   "nbconvert_exporter": "python",
   "pygments_lexer": "ipython3",
   "version": "3.8.8"
  }
 },
 "nbformat": 4,
 "nbformat_minor": 5
}
