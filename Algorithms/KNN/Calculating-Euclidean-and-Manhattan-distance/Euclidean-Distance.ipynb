{
 "cells": [
  {
   "cell_type": "markdown",
   "id": "8bdbba35",
   "metadata": {},
   "source": [
    "# Euclidean Distance"
   ]
  },
  {
   "cell_type": "markdown",
   "id": "0ad78924",
   "metadata": {},
   "source": [
    "d = sqrt((x<sub>2</sub> - x<sub>1</sub>)<sup>2</sup> + (y<sub>2</sub> - y<sub>1</sub>)<sup>2</sup>)"
   ]
  },
  {
   "cell_type": "code",
   "execution_count": 3,
   "id": "a78433af",
   "metadata": {},
   "outputs": [],
   "source": [
    "import numpy as np"
   ]
  },
  {
   "cell_type": "code",
   "execution_count": 1,
   "id": "20b43c9b",
   "metadata": {},
   "outputs": [],
   "source": [
    "# considering two points with 2 dimensions\n",
    "p1 = (1, 1)\n",
    "p2 = (2, 2)"
   ]
  },
  {
   "cell_type": "code",
   "execution_count": 4,
   "id": "ed5e93b2",
   "metadata": {},
   "outputs": [
    {
     "name": "stdout",
     "output_type": "stream",
     "text": [
      "1.4142135623730951\n"
     ]
    }
   ],
   "source": [
    "# calculating Euclidean distance\n",
    "\n",
    "dist = (p1[0] - p2[0])**2 + (p1[1] - p2[1])**2\n",
    "\n",
    "euclidean_dist = np.sqrt(dist)\n",
    "\n",
    "print(euclidean_dist)"
   ]
  },
  {
   "cell_type": "code",
   "execution_count": null,
   "id": "014e7c7d",
   "metadata": {},
   "outputs": [],
   "source": []
  },
  {
   "cell_type": "code",
   "execution_count": null,
   "id": "281ae985",
   "metadata": {},
   "outputs": [],
   "source": []
  },
  {
   "cell_type": "code",
   "execution_count": 5,
   "id": "d57095c5",
   "metadata": {},
   "outputs": [
    {
     "name": "stdout",
     "output_type": "stream",
     "text": [
      "2.0\n"
     ]
    }
   ],
   "source": [
    "# considering two points with 4 dimensions\n",
    "p1 = (1, 1, 1, 1)\n",
    "p2 = (2, 2, 2, 2)\n",
    "\n",
    "dist = 0\n",
    "\n",
    "for i in range(len(p1)):\n",
    "    dist = dist + (p1[i] - p2[i])**2\n",
    "    \n",
    "euclidean_dist = np.sqrt(dist)\n",
    "\n",
    "print(euclidean_dist)"
   ]
  },
  {
   "cell_type": "code",
   "execution_count": null,
   "id": "a6d6b680",
   "metadata": {},
   "outputs": [],
   "source": []
  },
  {
   "cell_type": "code",
   "execution_count": null,
   "id": "3429ada6",
   "metadata": {},
   "outputs": [],
   "source": []
  },
  {
   "cell_type": "markdown",
   "id": "13945eb5",
   "metadata": {},
   "source": [
    "### Creating a Function for Euclidean Distance"
   ]
  },
  {
   "cell_type": "code",
   "execution_count": 7,
   "id": "81d9434b",
   "metadata": {},
   "outputs": [],
   "source": [
    "def get_euclidean_distance(p1, p2):\n",
    "    dist = 0\n",
    "\n",
    "    for i in range(len(p1)):\n",
    "        dist = dist + (p1[i] - p2[i])**2\n",
    "    \n",
    "    euclidean_dist = np.sqrt(dist)\n",
    "\n",
    "    print(euclidean_dist)"
   ]
  },
  {
   "cell_type": "code",
   "execution_count": 9,
   "id": "23d75cde",
   "metadata": {},
   "outputs": [
    {
     "name": "stdout",
     "output_type": "stream",
     "text": [
      "1.7320508075688772\n"
     ]
    }
   ],
   "source": [
    "get_euclidean_distance((1,1,1), (2,2,2))"
   ]
  },
  {
   "cell_type": "code",
   "execution_count": null,
   "id": "58b171fb",
   "metadata": {},
   "outputs": [],
   "source": []
  }
 ],
 "metadata": {
  "kernelspec": {
   "display_name": "Python 3 (ipykernel)",
   "language": "python",
   "name": "python3"
  },
  "language_info": {
   "codemirror_mode": {
    "name": "ipython",
    "version": 3
   },
   "file_extension": ".py",
   "mimetype": "text/x-python",
   "name": "python",
   "nbconvert_exporter": "python",
   "pygments_lexer": "ipython3",
   "version": "3.9.7"
  }
 },
 "nbformat": 4,
 "nbformat_minor": 5
}
