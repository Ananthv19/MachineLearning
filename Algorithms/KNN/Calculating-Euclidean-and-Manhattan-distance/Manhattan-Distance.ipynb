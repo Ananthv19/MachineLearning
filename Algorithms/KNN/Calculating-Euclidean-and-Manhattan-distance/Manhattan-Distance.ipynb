{
 "cells": [
  {
   "cell_type": "markdown",
   "id": "b8f3a3fa",
   "metadata": {},
   "source": [
    "# Manhattan Distance"
   ]
  },
  {
   "cell_type": "markdown",
   "id": "4dff660e",
   "metadata": {},
   "source": [
    "d = |x<sub>2</sub> - x<sub>1</sub>| + |y<sub>2</sub> - y<sub>1</sub>|"
   ]
  },
  {
   "cell_type": "code",
   "execution_count": 4,
   "id": "23da9fdb",
   "metadata": {},
   "outputs": [],
   "source": [
    "import numpy as np"
   ]
  },
  {
   "cell_type": "markdown",
   "id": "69262ab9",
   "metadata": {},
   "source": [
    "### Creating a function for Manhattan Distance"
   ]
  },
  {
   "cell_type": "code",
   "execution_count": 5,
   "id": "cdc5de01",
   "metadata": {},
   "outputs": [],
   "source": [
    "def get_manhattan_distance(p1, p2):\n",
    "    dist = 0\n",
    "\n",
    "    for i in range(len(p1)):\n",
    "        dist = dist + abs(p1[i] - p2[i])\n",
    "        \n",
    "    manhattan_dist = dist\n",
    "\n",
    "    print(manhattan_dist)"
   ]
  },
  {
   "cell_type": "code",
   "execution_count": 8,
   "id": "f29d5f1b",
   "metadata": {},
   "outputs": [
    {
     "name": "stdout",
     "output_type": "stream",
     "text": [
      "4\n"
     ]
    }
   ],
   "source": [
    "get_manhattan_distance((1,1,1,1), (2,2,2,2))"
   ]
  },
  {
   "cell_type": "code",
   "execution_count": null,
   "id": "5947db2e",
   "metadata": {},
   "outputs": [],
   "source": []
  }
 ],
 "metadata": {
  "kernelspec": {
   "display_name": "Python 3 (ipykernel)",
   "language": "python",
   "name": "python3"
  },
  "language_info": {
   "codemirror_mode": {
    "name": "ipython",
    "version": 3
   },
   "file_extension": ".py",
   "mimetype": "text/x-python",
   "name": "python",
   "nbconvert_exporter": "python",
   "pygments_lexer": "ipython3",
   "version": "3.9.7"
  }
 },
 "nbformat": 4,
 "nbformat_minor": 5
}
