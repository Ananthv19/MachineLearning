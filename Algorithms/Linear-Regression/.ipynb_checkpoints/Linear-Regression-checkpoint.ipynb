{
 "cells": [
  {
   "cell_type": "code",
   "execution_count": 1,
   "id": "8c1f3f46",
   "metadata": {},
   "outputs": [],
   "source": [
    "import numpy as np"
   ]
  },
  {
   "cell_type": "markdown",
   "id": "76307930",
   "metadata": {},
   "source": [
    "## Linear Regression"
   ]
  },
  {
   "cell_type": "code",
   "execution_count": 3,
   "id": "b43546e9",
   "metadata": {},
   "outputs": [],
   "source": [
    "class Linear_Regression():\n",
    "    \n",
    "    # initiating parameters (learning rate & no. of iterations)\n",
    "    def __init__(self, learning_rate, no_of_iterations):\n",
    "        \n",
    "        self.learning_rate = learning_rate\n",
    "        self.no_of_iterations = no_of_iterations\n",
    "    \n",
    "    \n",
    "    # to fit the data to our model\n",
    "    def fit(self, x, y):\n",
    "        \n",
    "        # no. of training examples & no. of  features\n",
    "        \n",
    "        self.m, self.n = x.shape  # no. of rows & cols\n",
    "        \n",
    "        # initiating the weight and bias of our model\n",
    "        \n",
    "        self.w = np.zeros(self.n)\n",
    "        self.b = 0\n",
    "        self.x =x\n",
    "        self.y = y\n",
    "        \n",
    "        # implementing Gradient Descent\n",
    "        \n",
    "        for i in range(self.no_of_iterations):\n",
    "            self.update_weights\n",
    "        \n",
    "    # to update weights based on Gradient Descent\n",
    "    def update_weights(self, ):\n",
    "        y_prediction = self.predict(self.x)\n",
    "        \n",
    "        # calculating gradients\n",
    "        \n",
    "        dw = - (2 * (self.x.T).dot(self.y - y_prediction)) / self\n",
    "        \n",
    "        db = - 2 * np.sum(self.y - y_perdiction) / self.m\n",
    "        \n",
    "        # updating the weights \n",
    "        \n",
    "        self.w = self.w - self.learning_rate*dw\n",
    "        self.b = self.b - self.learning_rate*db\n",
    "    \n",
    "    def predict(self, x):\n",
    "        \n",
    "        return x.dot(self.w) + self.b\n",
    "        \n",
    "        "
   ]
  },
  {
   "cell_type": "code",
   "execution_count": null,
   "id": "727e6b57",
   "metadata": {},
   "outputs": [],
   "source": []
  }
 ],
 "metadata": {
  "kernelspec": {
   "display_name": "Python 3",
   "language": "python",
   "name": "python3"
  },
  "language_info": {
   "codemirror_mode": {
    "name": "ipython",
    "version": 3
   },
   "file_extension": ".py",
   "mimetype": "text/x-python",
   "name": "python",
   "nbconvert_exporter": "python",
   "pygments_lexer": "ipython3",
   "version": "3.8.8"
  }
 },
 "nbformat": 4,
 "nbformat_minor": 5
}
