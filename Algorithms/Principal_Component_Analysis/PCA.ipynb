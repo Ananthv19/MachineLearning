{
 "cells": [
  {
   "cell_type": "code",
   "execution_count": 1,
   "id": "3bce4606",
   "metadata": {},
   "outputs": [],
   "source": [
    "import numpy as np\n",
    "import pandas as pd\n",
    "import random as rd\n",
    "from sklearn.decomposition import PCA\n",
    "from sklearn import preprocessing\n",
    "import matplotlib.pyplot as plt"
   ]
  },
  {
   "cell_type": "code",
   "execution_count": 2,
   "id": "ad194e36",
   "metadata": {},
   "outputs": [],
   "source": [
    "genes = ['gene' + str(i) for i in range(1,101)]"
   ]
  },
  {
   "cell_type": "code",
   "execution_count": 4,
   "id": "09b69aa5",
   "metadata": {},
   "outputs": [],
   "source": [
    "wt = ['wt' + str(i) for i in range(1,6 )]"
   ]
  },
  {
   "cell_type": "code",
   "execution_count": 6,
   "id": "d57b455c",
   "metadata": {},
   "outputs": [],
   "source": [
    "ko = ['ko' + str(i) for i in range(1,6 )]"
   ]
  },
  {
   "cell_type": "code",
   "execution_count": null,
   "id": "070b05d4",
   "metadata": {},
   "outputs": [],
   "source": []
  },
  {
   "cell_type": "markdown",
   "id": "62e3fdd3",
   "metadata": {},
   "source": [
    "<p> without stars i.e [*wt, *ko] we would crfeate an array of two array and that wouldn't create 12 columns like we want </p>"
   ]
  },
  {
   "cell_type": "code",
   "execution_count": 7,
   "id": "1e9c544c",
   "metadata": {},
   "outputs": [],
   "source": [
    "data = pd.DataFrame(columns=[*wt, *ko], index=genes)"
   ]
  },
  {
   "cell_type": "code",
   "execution_count": null,
   "id": "8977fc76",
   "metadata": {},
   "outputs": [],
   "source": []
  },
  {
   "cell_type": "markdown",
   "id": "c929f391",
   "metadata": {},
   "source": [
    "<p> This is where we finally create the random data.\n",
    "    For each gene in the index (i.e. gene1, gene2, ...gene100), we create 5 values for the \"wt\" samples and 5 values for the \"ko\" samples. </p>"
   ]
  },
  {
   "cell_type": "code",
   "execution_count": 9,
   "id": "2549a391",
   "metadata": {},
   "outputs": [],
   "source": [
    "for gene in data.index:\n",
    "    data.loc[gene, 'wt1':'wt5'] = np.random.poisson(lam=rd.randrange(10, 1000), size=5)\n",
    "    data.loc[gene, 'ko1':'ko5'] = np.random.poisson(lam=rd.randrange(10, 1000), size=5)"
   ]
  },
  {
   "cell_type": "code",
   "execution_count": 10,
   "id": "0d31aa83",
   "metadata": {},
   "outputs": [
    {
     "data": {
      "text/html": [
       "<div>\n",
       "<style scoped>\n",
       "    .dataframe tbody tr th:only-of-type {\n",
       "        vertical-align: middle;\n",
       "    }\n",
       "\n",
       "    .dataframe tbody tr th {\n",
       "        vertical-align: top;\n",
       "    }\n",
       "\n",
       "    .dataframe thead th {\n",
       "        text-align: right;\n",
       "    }\n",
       "</style>\n",
       "<table border=\"1\" class=\"dataframe\">\n",
       "  <thead>\n",
       "    <tr style=\"text-align: right;\">\n",
       "      <th></th>\n",
       "      <th>wt1</th>\n",
       "      <th>wt2</th>\n",
       "      <th>wt3</th>\n",
       "      <th>wt4</th>\n",
       "      <th>wt5</th>\n",
       "      <th>ko1</th>\n",
       "      <th>ko2</th>\n",
       "      <th>ko3</th>\n",
       "      <th>ko4</th>\n",
       "      <th>ko5</th>\n",
       "    </tr>\n",
       "  </thead>\n",
       "  <tbody>\n",
       "    <tr>\n",
       "      <th>gene1</th>\n",
       "      <td>126</td>\n",
       "      <td>131</td>\n",
       "      <td>142</td>\n",
       "      <td>136</td>\n",
       "      <td>168</td>\n",
       "      <td>657</td>\n",
       "      <td>586</td>\n",
       "      <td>654</td>\n",
       "      <td>636</td>\n",
       "      <td>698</td>\n",
       "    </tr>\n",
       "    <tr>\n",
       "      <th>gene2</th>\n",
       "      <td>49</td>\n",
       "      <td>51</td>\n",
       "      <td>55</td>\n",
       "      <td>54</td>\n",
       "      <td>56</td>\n",
       "      <td>334</td>\n",
       "      <td>324</td>\n",
       "      <td>348</td>\n",
       "      <td>322</td>\n",
       "      <td>345</td>\n",
       "    </tr>\n",
       "    <tr>\n",
       "      <th>gene3</th>\n",
       "      <td>301</td>\n",
       "      <td>325</td>\n",
       "      <td>293</td>\n",
       "      <td>307</td>\n",
       "      <td>317</td>\n",
       "      <td>667</td>\n",
       "      <td>667</td>\n",
       "      <td>676</td>\n",
       "      <td>675</td>\n",
       "      <td>696</td>\n",
       "    </tr>\n",
       "    <tr>\n",
       "      <th>gene4</th>\n",
       "      <td>642</td>\n",
       "      <td>629</td>\n",
       "      <td>600</td>\n",
       "      <td>611</td>\n",
       "      <td>624</td>\n",
       "      <td>544</td>\n",
       "      <td>531</td>\n",
       "      <td>487</td>\n",
       "      <td>561</td>\n",
       "      <td>508</td>\n",
       "    </tr>\n",
       "    <tr>\n",
       "      <th>gene5</th>\n",
       "      <td>940</td>\n",
       "      <td>886</td>\n",
       "      <td>899</td>\n",
       "      <td>953</td>\n",
       "      <td>907</td>\n",
       "      <td>537</td>\n",
       "      <td>605</td>\n",
       "      <td>591</td>\n",
       "      <td>580</td>\n",
       "      <td>570</td>\n",
       "    </tr>\n",
       "  </tbody>\n",
       "</table>\n",
       "</div>"
      ],
      "text/plain": [
       "       wt1  wt2  wt3  wt4  wt5  ko1  ko2  ko3  ko4  ko5\n",
       "gene1  126  131  142  136  168  657  586  654  636  698\n",
       "gene2   49   51   55   54   56  334  324  348  322  345\n",
       "gene3  301  325  293  307  317  667  667  676  675  696\n",
       "gene4  642  629  600  611  624  544  531  487  561  508\n",
       "gene5  940  886  899  953  907  537  605  591  580  570"
      ]
     },
     "execution_count": 10,
     "metadata": {},
     "output_type": "execute_result"
    }
   ],
   "source": [
    "data.head()"
   ]
  },
  {
   "cell_type": "code",
   "execution_count": 11,
   "id": "88963179",
   "metadata": {},
   "outputs": [
    {
     "data": {
      "text/plain": [
       "(100, 10)"
      ]
     },
     "execution_count": 11,
     "metadata": {},
     "output_type": "execute_result"
    }
   ],
   "source": [
    "data.shape"
   ]
  },
  {
   "cell_type": "code",
   "execution_count": null,
   "id": "b65aa3b4",
   "metadata": {},
   "outputs": [],
   "source": []
  },
  {
   "cell_type": "code",
   "execution_count": 12,
   "id": "43c896aa",
   "metadata": {},
   "outputs": [],
   "source": [
    "scaled_data = preprocessing.scale(data.T)"
   ]
  },
  {
   "cell_type": "code",
   "execution_count": 13,
   "id": "4d89e803",
   "metadata": {},
   "outputs": [],
   "source": [
    "pca = PCA()"
   ]
  },
  {
   "cell_type": "code",
   "execution_count": 14,
   "id": "f9eb4d97",
   "metadata": {},
   "outputs": [
    {
     "data": {
      "text/plain": [
       "PCA()"
      ]
     },
     "execution_count": 14,
     "metadata": {},
     "output_type": "execute_result"
    }
   ],
   "source": [
    "pca.fit(scaled_data)"
   ]
  },
  {
   "cell_type": "code",
   "execution_count": 15,
   "id": "2e3c521a",
   "metadata": {},
   "outputs": [],
   "source": [
    "pca_data = pca.transform(scaled_data)"
   ]
  },
  {
   "cell_type": "code",
   "execution_count": null,
   "id": "51719814",
   "metadata": {},
   "outputs": [],
   "source": []
  },
  {
   "cell_type": "code",
   "execution_count": 17,
   "id": "9dbcc753",
   "metadata": {},
   "outputs": [],
   "source": [
    "per_var = np.round(pca.explained_variance_ratio_*100, decimals=1)"
   ]
  },
  {
   "cell_type": "code",
   "execution_count": 20,
   "id": "68a68885",
   "metadata": {},
   "outputs": [],
   "source": [
    "labels = ['PC' + str(x) for x in range(1, len(per_var)+1)]"
   ]
  },
  {
   "cell_type": "code",
   "execution_count": 21,
   "id": "8a1959cc",
   "metadata": {},
   "outputs": [
    {
     "data": {
      "image/png": "[encoded data removed]",
      "text/plain": [
       "<Figure size 432x288 with 1 Axes>"
      ]
     },
     "metadata": {
      "needs_background": "light"
     },
     "output_type": "display_data"
    }
   ],
   "source": [
    "plt.bar(x=range(1, len(per_var)+1), height=per_var, tick_label=labels)\n",
    "plt.ylabel('Percentage of Explained Variance')\n",
    "plt.xlabel('Principal Component')\n",
    "plt.title('Scree Plot')\n",
    "plt.show()"
   ]
  },
  {
   "cell_type": "code",
   "execution_count": null,
   "id": "350e9284",
   "metadata": {},
   "outputs": [],
   "source": []
  },
  {
   "cell_type": "code",
   "execution_count": 22,
   "id": "6fc504d0",
   "metadata": {},
   "outputs": [],
   "source": [
    "pca_df = pd.DataFrame(pca_data, index=[*wt, *ko], columns=labels)"
   ]
  },
  {
   "cell_type": "code",
   "execution_count": 25,
   "id": "7dd75ecc",
   "metadata": {},
   "outputs": [
    {
     "data": {
      "image/png": "[encoded data removed]",
      "text/plain": [
       "<Figure size 432x288 with 1 Axes>"
      ]
     },
     "metadata": {
      "needs_background": "light"
     },
     "output_type": "display_data"
    }
   ],
   "source": [
    "plt.scatter(pca_df.PC1, pca_df.PC2)\n",
    "plt.title('My PCA Graph')\n",
    "plt.xlabel('PC1 - {0}%'.format(per_var[0]))\n",
    "plt.ylabel('PC2 - {0}%'.format(per_var[1]))\n",
    "\n",
    "for sample in pca_df.index:\n",
    "    plt.annotate(sample, (pca_df.PC1.loc[sample], pca_df.PC2.loc[sample]))"
   ]
  },
  {
   "cell_type": "code",
   "execution_count": null,
   "id": "f829bf0e",
   "metadata": {},
   "outputs": [],
   "source": []
  },
  {
   "cell_type": "code",
   "execution_count": 26,
   "id": "61c2cc76",
   "metadata": {},
   "outputs": [
    {
     "name": "stdout",
     "output_type": "stream",
     "text": [
      "gene8    -0.106618\n",
      "gene62    0.106605\n",
      "gene19   -0.106588\n",
      "gene29    0.106585\n",
      "gene85    0.106576\n",
      "gene78    0.106572\n",
      "gene64    0.106570\n",
      "gene99    0.106570\n",
      "gene38    0.106567\n",
      "gene3     0.106563\n",
      "dtype: float64\n"
     ]
    }
   ],
   "source": [
    "loading_scores = pd.Series(pca.components_[0], index=genes)\n",
    "sorted_loading_scores = loading_scores.abs().sort_values(ascending=False)\n",
    "\n",
    "top_10_genes = sorted_loading_scores[0:10].index.values\n",
    "\n",
    "print(loading_scores[top_10_genes])"
   ]
  },
  {
   "cell_type": "code",
   "execution_count": null,
   "id": "24363078",
   "metadata": {},
   "outputs": [],
   "source": []
  },
  {
   "cell_type": "code",
   "execution_count": null,
   "id": "719d0bb8",
   "metadata": {},
   "outputs": [],
   "source": []
  },
  {
   "cell_type": "code",
   "execution_count": null,
   "id": "b425ed79",
   "metadata": {},
   "outputs": [],
   "source": []
  },
  {
   "cell_type": "code",
   "execution_count": null,
   "id": "d23bfe63",
   "metadata": {},
   "outputs": [],
   "source": []
  },
  {
   "cell_type": "code",
   "execution_count": null,
   "id": "2c7b42ec",
   "metadata": {},
   "outputs": [],
   "source": []
  }
 ],
 "metadata": {
  "kernelspec": {
   "display_name": "Python 3",
   "language": "python",
   "name": "python3"
  },
  "language_info": {
   "codemirror_mode": {
    "name": "ipython",
    "version": 3
   },
   "file_extension": ".py",
   "mimetype": "text/x-python",
   "name": "python",
   "nbconvert_exporter": "python",
   "pygments_lexer": "ipython3",
   "version": "3.8.8"
  }
 },
 "nbformat": 4,
 "nbformat_minor": 5
}
