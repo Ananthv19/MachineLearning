{
 "cells": [
  {
   "cell_type": "code",
   "execution_count": 1,
   "id": "454b8037",
   "metadata": {},
   "outputs": [],
   "source": [
    "def pca_np(x):\n",
    "    \n",
    "    #centering data\n",
    "    m = np.mean(x, axis=0)\n",
    "    \n",
    "    x_centered = x-m\n",
    "    \n",
    "    #calculating covariance matrix\n",
    "    x_cov = np.cov(x_centered.T)\n",
    "    \n",
    "    #eigendecomposition\n",
    "    eigenvals, eigenvecs = np.linalg.eig(x_cov)\n",
    "    \n",
    "    #sorting\n",
    "    i = np.argsort(eigenvals)[::-1]\n",
    "    \n",
    "    eigenvecs = eigenvecs[:, i]\n",
    "    \n",
    "    eigenvals = eigenvals[i]\n",
    "    \n",
    "    #returning the eigenvalues, eigenvectors and means\n",
    "    \n",
    "    return (eigenvals, eigenvecs, m)"
   ]
  },
  {
   "cell_type": "code",
   "execution_count": 4,
   "id": "d8be59cf",
   "metadata": {},
   "outputs": [
    {
     "name": "stdout",
     "output_type": "stream",
     "text": [
      "eigenvalues:  [4.22824171 0.24267075 0.0782095  0.02383509]\n",
      "eigenvectors:  [[ 0.36138659 -0.65658877 -0.58202985  0.31548719]\n",
      " [-0.08452251 -0.73016143  0.59791083 -0.3197231 ]\n",
      " [ 0.85667061  0.17337266  0.07623608 -0.47983899]\n",
      " [ 0.3582892   0.07548102  0.54583143  0.75365743]]\n"
     ]
    }
   ],
   "source": [
    "# loading the iris dataset from sklearn and applying our PCA function:\n",
    "\n",
    "import numpy as np\n",
    "from sklearn import datasets\n",
    "\n",
    "iris = datasets.load_iris()\n",
    "data = iris.data\n",
    "\n",
    "iris_evals, iris_evecs, iris_mean = pca_np(data)\n",
    "\n",
    "print(\"eigenvalues: \", iris_evals)\n",
    "\n",
    "print(\"eigenvectors: \", iris_evecs)"
   ]
  },
  {
   "cell_type": "code",
   "execution_count": null,
   "id": "57f2b09c",
   "metadata": {},
   "outputs": [],
   "source": []
  },
  {
   "cell_type": "code",
   "execution_count": 5,
   "id": "f599864d",
   "metadata": {},
   "outputs": [
    {
     "name": "stdout",
     "output_type": "stream",
     "text": [
      "[0.92461872 0.05306648 0.01710261 0.00521218]\n"
     ]
    }
   ],
   "source": [
    "import matplotlib.pyplot as plt\n",
    "\n",
    "exp_var = iris_evals/sum(iris_evals)\n",
    "\n",
    "print(exp_var)"
   ]
  },
  {
   "cell_type": "code",
   "execution_count": 6,
   "id": "2885528f",
   "metadata": {},
   "outputs": [
    {
     "data": {
      "text/plain": [
       "<BarContainer object of 4 artists>"
      ]
     },
     "execution_count": 6,
     "metadata": {},
     "output_type": "execute_result"
    },
    {
     "data": {
      "image/png": "[encoded data removed]",
      "text/plain": [
       "<Figure size 432x288 with 1 Axes>"
      ]
     },
     "metadata": {
      "needs_background": "light"
     },
     "output_type": "display_data"
    }
   ],
   "source": [
    "plt.bar(range(1,5), exp_var)"
   ]
  },
  {
   "cell_type": "code",
   "execution_count": null,
   "id": "63833b96",
   "metadata": {},
   "outputs": [],
   "source": []
  }
 ],
 "metadata": {
  "kernelspec": {
   "display_name": "Python 3",
   "language": "python",
   "name": "python3"
  },
  "language_info": {
   "codemirror_mode": {
    "name": "ipython",
    "version": 3
   },
   "file_extension": ".py",
   "mimetype": "text/x-python",
   "name": "python",
   "nbconvert_exporter": "python",
   "pygments_lexer": "ipython3",
   "version": "3.8.8"
  }
 },
 "nbformat": 4,
 "nbformat_minor": 5
}
