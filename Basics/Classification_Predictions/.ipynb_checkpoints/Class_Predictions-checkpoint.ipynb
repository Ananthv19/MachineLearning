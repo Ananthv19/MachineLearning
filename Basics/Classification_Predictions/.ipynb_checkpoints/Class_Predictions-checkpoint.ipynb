{
 "cells": [
  {
   "cell_type": "code",
   "execution_count": 21,
   "id": "045578f4",
   "metadata": {},
   "outputs": [],
   "source": [
    "# example of training a final classification model\n",
    "from keras.models import Sequential\n",
    "from keras.layers import Dense\n",
    "from sklearn.datasets import make_blobs\n",
    "from sklearn.preprocessing import MinMaxScaler\n",
    "import numpy as np"
   ]
  },
  {
   "cell_type": "code",
   "execution_count": 22,
   "id": "384c7b44",
   "metadata": {},
   "outputs": [],
   "source": [
    "# generate 2d classification dataset\n",
    "x, y = make_blobs(n_samples=100, centers=2, n_features=2, random_state=1)\n",
    "scalar = MinMaxScaler()\n",
    "scalar.fit(x)\n",
    "x = scalar.transform(x)"
   ]
  },
  {
   "cell_type": "code",
   "execution_count": 23,
   "id": "8939bd36",
   "metadata": {},
   "outputs": [
    {
     "data": {
      "text/plain": [
       "<keras.callbacks.History at 0x26c9e9c0d90>"
      ]
     },
     "execution_count": 23,
     "metadata": {},
     "output_type": "execute_result"
    }
   ],
   "source": [
    "# define and fit the final model\n",
    "model = Sequential()\n",
    "model.add(Dense(4, input_dim=2, activation='relu'))\n",
    "model.add(Dense(4, activation='relu'))\n",
    "model.add(Dense(1, activation='sigmoid'))\n",
    "model.compile(loss='binary_crossentropy', optimizer='adam')\n",
    "model.fit(x,y, epochs=200, verbose=0)"
   ]
  },
  {
   "cell_type": "code",
   "execution_count": 24,
   "id": "4fb68a35",
   "metadata": {},
   "outputs": [],
   "source": [
    "# new instances where we do not know the answer\n",
    "xnew, _ = make_blobs(n_samples=3, centers=2, n_features=2, random_state=1)\n",
    "xnew = scalar.transform(xnew)"
   ]
  },
  {
   "cell_type": "code",
   "execution_count": 25,
   "id": "4b5282a4",
   "metadata": {},
   "outputs": [],
   "source": [
    "# make a prediction\n",
    "#ynew = model.predict_classes(xnew)\n",
    "predict_x=model.predict(xnew) \n",
    "ynew=np.argmax(predict_x,axis=1)"
   ]
  },
  {
   "cell_type": "code",
   "execution_count": 26,
   "id": "12405242",
   "metadata": {},
   "outputs": [
    {
     "data": {
      "text/plain": [
       "0"
      ]
     },
     "execution_count": 26,
     "metadata": {},
     "output_type": "execute_result"
    }
   ],
   "source": [
    "classes_x[1]"
   ]
  },
  {
   "cell_type": "code",
   "execution_count": 27,
   "id": "a0653fa5",
   "metadata": {},
   "outputs": [
    {
     "name": "stdout",
     "output_type": "stream",
     "text": [
      "X=[0.89337759 0.65864154], Predicted=0\n",
      "X=[0.29097707 0.12978982], Predicted=0\n",
      "X=[0.78082614 0.75391697], Predicted=0\n"
     ]
    }
   ],
   "source": [
    "for i in range(len(xnew)):\n",
    "    print(\"X=%s, Predicted=%s\" % (xnew[i], ynew[i]))"
   ]
  },
  {
   "cell_type": "code",
   "execution_count": null,
   "id": "cc85a4dd",
   "metadata": {},
   "outputs": [],
   "source": []
  },
  {
   "cell_type": "code",
   "execution_count": null,
   "id": "43eab492",
   "metadata": {},
   "outputs": [],
   "source": []
  }
 ],
 "metadata": {
  "kernelspec": {
   "display_name": "Python 3",
   "language": "python",
   "name": "python3"
  },
  "language_info": {
   "codemirror_mode": {
    "name": "ipython",
    "version": 3
   },
   "file_extension": ".py",
   "mimetype": "text/x-python",
   "name": "python",
   "nbconvert_exporter": "python",
   "pygments_lexer": "ipython3",
   "version": "3.8.8"
  }
 },
 "nbformat": 4,
 "nbformat_minor": 5
}
