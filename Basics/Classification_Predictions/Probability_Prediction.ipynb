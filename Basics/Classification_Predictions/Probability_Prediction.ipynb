{
 "cells": [
  {
   "cell_type": "code",
   "execution_count": 2,
   "id": "20e16242",
   "metadata": {},
   "outputs": [],
   "source": [
    "from keras.models import Sequential\n",
    "from keras.layers import Dense\n",
    "from sklearn.datasets import make_blobs\n",
    "from sklearn.preprocessing import MinMaxScaler\n",
    "# generate 2d classification dataset\n",
    "X, y = make_blobs(n_samples=100, centers=2, n_features=2, random_state=1)\n",
    "scalar = MinMaxScaler()\n",
    "scalar.fit(X)\n",
    "X = scalar.transform(X)\n",
    "# define and fit the final model\n",
    "model = Sequential()\n",
    "model.add(Dense(4, input_dim=2, activation='relu'))\n",
    "model.add(Dense(4, activation='relu'))\n",
    "model.add(Dense(1, activation='sigmoid'))\n",
    "model.compile(loss='binary_crossentropy', optimizer='adam')\n",
    "model.fit(X, y, epochs=500, verbose=0)\n",
    "# new instances where we do not know the answer\n",
    "Xnew, _ = make_blobs(n_samples=3, centers=2, n_features=2, random_state=1)\n",
    "Xnew = scalar.transform(Xnew)"
   ]
  },
  {
   "cell_type": "code",
   "execution_count": 5,
   "id": "a21ae56e",
   "metadata": {},
   "outputs": [
    {
     "name": "stdout",
     "output_type": "stream",
     "text": [
      "X=[0.89337759 0.65864154], Predicted=[0.004558]\n",
      "X=[0.29097707 0.12978982], Predicted=[0.9915686]\n",
      "X=[0.78082614 0.75391697], Predicted=[0.00748005]\n"
     ]
    }
   ],
   "source": [
    "# make a prediction\n",
    "# ynew = model.predict_proba(Xnew)\n",
    "# # show the inputs and predicted outputs\n",
    "# for i in range(len(Xnew)):\n",
    "# \tprint(\"X=%s, Predicted=%s\" % (Xnew[i], ynew[i]))\n",
    "\n",
    "ynew = model.predict(Xnew) \n",
    "# classes_x=np.argmax(ynew,axis=1)\n",
    "\n",
    "for i in range(len(Xnew)):\n",
    " \tprint(\"X=%s, Predicted=%s\" % (Xnew[i], ynew[i]))"
   ]
  },
  {
   "cell_type": "code",
   "execution_count": null,
   "id": "71d8ace3",
   "metadata": {},
   "outputs": [],
   "source": []
  }
 ],
 "metadata": {
  "kernelspec": {
   "display_name": "Python 3",
   "language": "python",
   "name": "python3"
  },
  "language_info": {
   "codemirror_mode": {
    "name": "ipython",
    "version": 3
   },
   "file_extension": ".py",
   "mimetype": "text/x-python",
   "name": "python",
   "nbconvert_exporter": "python",
   "pygments_lexer": "ipython3",
   "version": "3.8.8"
  }
 },
 "nbformat": 4,
 "nbformat_minor": 5
}
