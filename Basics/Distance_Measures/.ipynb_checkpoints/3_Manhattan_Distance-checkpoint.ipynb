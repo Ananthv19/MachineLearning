{
 "cells": [
  {
   "cell_type": "markdown",
   "id": "ec5539d4",
   "metadata": {},
   "source": [
    "# Manhattan Distance (Taxicab or City Block Distance)"
   ]
  },
  {
   "cell_type": "markdown",
   "id": "2e38e37f",
   "metadata": {},
   "source": [
    "Manhattan distance is calculated as the sum of the absolute differences between the two vectors.\n",
    "\n",
    "\n",
    "<ul>\n",
    "    <li>ManhattanDistance = sum for i to N sum |v1[i] – v2[i]| </li>\n",
    "</ul>"
   ]
  },
  {
   "cell_type": "code",
   "execution_count": 2,
   "id": "637956c4",
   "metadata": {},
   "outputs": [
    {
     "name": "stdout",
     "output_type": "stream",
     "text": [
      "13\n"
     ]
    }
   ],
   "source": [
    "# calculating manhattan distance between vectors\n",
    "from math import sqrt\n",
    "\n",
    "# calculate manhattan distance\n",
    "def manhattan_distance(a, b):\n",
    "    return sum(abs(e1-e2) for e1, e2 in zip(a, b))\n",
    "\n",
    "# define data\n",
    "row1 = [10, 20, 15, 10, 5]\n",
    "row2 = [12, 24, 18, 8, 7]\n",
    "\n",
    "# calculate distance\n",
    "dist = manhattan_distance(row1, row2)\n",
    "print(dist)"
   ]
  },
  {
   "cell_type": "code",
   "execution_count": null,
   "id": "bd669e46",
   "metadata": {},
   "outputs": [],
   "source": []
  },
  {
   "cell_type": "code",
   "execution_count": null,
   "id": "63f1bdca",
   "metadata": {},
   "outputs": [],
   "source": []
  },
  {
   "cell_type": "markdown",
   "id": "cae3f964",
   "metadata": {},
   "source": [
    "We can also perform the same calculation using the cityblock() function from SciPy. The complete example is listed below."
   ]
  },
  {
   "cell_type": "code",
   "execution_count": 3,
   "id": "97dfeee0",
   "metadata": {},
   "outputs": [
    {
     "name": "stdout",
     "output_type": "stream",
     "text": [
      "13\n"
     ]
    }
   ],
   "source": [
    "# calculating manhattan distance between vectors\n",
    "from scipy.spatial.distance import cityblock\n",
    "\n",
    "# define data\n",
    "row1 = [10, 20, 15, 10, 5]\n",
    "row2 = [12, 24, 18, 8, 7]\n",
    "\n",
    "# calculate distance\n",
    "dist = cityblock(row1, row2)\n",
    "print(dist)"
   ]
  },
  {
   "cell_type": "code",
   "execution_count": null,
   "id": "70a7cf43",
   "metadata": {},
   "outputs": [],
   "source": []
  }
 ],
 "metadata": {
  "kernelspec": {
   "display_name": "Python 3",
   "language": "python",
   "name": "python3"
  },
  "language_info": {
   "codemirror_mode": {
    "name": "ipython",
    "version": 3
   },
   "file_extension": ".py",
   "mimetype": "text/x-python",
   "name": "python",
   "nbconvert_exporter": "python",
   "pygments_lexer": "ipython3",
   "version": "3.8.8"
  }
 },
 "nbformat": 4,
 "nbformat_minor": 5
}
