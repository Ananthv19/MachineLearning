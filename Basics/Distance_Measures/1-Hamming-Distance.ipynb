{
 "cells": [
  {
   "cell_type": "markdown",
   "id": "d88499f3",
   "metadata": {},
   "source": [
    "## Hamming Distance:\n",
    "  Hamming distance calculates the distance between two binary vectors, also reffered to as binary strings or bitstrings for short"
   ]
  },
  {
   "cell_type": "markdown",
   "id": "6a744982",
   "metadata": {},
   "source": [
    "We are most likely going to encounter bitstrings when we one-hot encode categorical columns of data."
   ]
  },
  {
   "cell_type": "markdown",
   "id": "34596562",
   "metadata": {},
   "source": [
    "<ul>\n",
    "    <li>HammingDistance = sum for i to N abs(v1[i] – v2[i]) / N</li>\n",
    "</ul>"
   ]
  },
  {
   "cell_type": "code",
   "execution_count": 2,
   "id": "6629adda",
   "metadata": {},
   "outputs": [
    {
     "name": "stdout",
     "output_type": "stream",
     "text": [
      "0.3333333333333333\n"
     ]
    }
   ],
   "source": [
    "# calculating hamming distance between bit strings\n",
    "\n",
    "# calculate hamming distance\n",
    "def hamming_distance(a, b):\n",
    "    return sum(abs(e1 - e2) for e1, e2 in zip(a, b)) / len(a)\n",
    "\n",
    "#define data\n",
    "# here we have to apply XOR operation(2/6)\n",
    "row1 = [0, 0, 0, 0, 0, 1]\n",
    "row2 = [0, 0, 0, 0, 1, 0]\n",
    "\n",
    "#calculate distance\n",
    "dist = hamming_distance(row1, row2)\n",
    "print(dist)"
   ]
  },
  {
   "cell_type": "code",
   "execution_count": null,
   "id": "ffbe2b5b",
   "metadata": {},
   "outputs": [],
   "source": []
  },
  {
   "cell_type": "markdown",
   "id": "4b7da166",
   "metadata": {},
   "source": [
    "We can also perform the same calculation using the hamming() function from SciPy"
   ]
  },
  {
   "cell_type": "code",
   "execution_count": 3,
   "id": "a31ef790",
   "metadata": {},
   "outputs": [
    {
     "name": "stdout",
     "output_type": "stream",
     "text": [
      "0.3333333333333333\n"
     ]
    }
   ],
   "source": [
    "# calculating hamming distance between bit strings\n",
    "from scipy.spatial.distance import hamming\n",
    "\n",
    "\n",
    "#define data\n",
    "row1 = [0, 0, 0, 0, 0, 1]\n",
    "row2 = [0, 0, 0, 0, 1, 0]\n",
    "\n",
    "#calculate distance\n",
    "dist = hamming_distance(row1, row2)\n",
    "print(dist)"
   ]
  },
  {
   "cell_type": "code",
   "execution_count": null,
   "id": "e3b2217d",
   "metadata": {},
   "outputs": [],
   "source": []
  }
 ],
 "metadata": {
  "kernelspec": {
   "display_name": "Python 3",
   "language": "python",
   "name": "python3"
  },
  "language_info": {
   "codemirror_mode": {
    "name": "ipython",
    "version": 3
   },
   "file_extension": ".py",
   "mimetype": "text/x-python",
   "name": "python",
   "nbconvert_exporter": "python",
   "pygments_lexer": "ipython3",
   "version": "3.8.8"
  }
 },
 "nbformat": 4,
 "nbformat_minor": 5
}
