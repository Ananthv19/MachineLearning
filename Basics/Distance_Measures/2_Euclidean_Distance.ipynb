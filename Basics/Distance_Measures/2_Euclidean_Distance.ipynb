{
 "cells": [
  {
   "cell_type": "markdown",
   "id": "6b8f479c",
   "metadata": {},
   "source": [
    "# Euclidean Distance\n",
    "\n",
    "Euclidean Distance calculates the distance between two real-valued vectors."
   ]
  },
  {
   "cell_type": "markdown",
   "id": "4f9220d7",
   "metadata": {},
   "source": [
    "Euclidean distance is calculated as the square root of the sum of the squared differences between the two vectors."
   ]
  },
  {
   "cell_type": "markdown",
   "id": "37987439",
   "metadata": {},
   "source": [
    "Euclidean distance is calculated as the square root of the sum of the squared differences between the two vectors.\n",
    "\n",
    "<ul>\n",
    "    <li>EuclideanDistance = sqrt(sum for i to N (v1[i] – v2[i])^2)</li>\n",
    "</ul>\n",
    "\n",
    "\n",
    "If the distance calculation is to be performed thousands or millions of times, it is common to remove the square root operation in an effort to speed up the calculation. The resulting scores will have the same relative proportions after this modification and can still be used effectively within a machine learning algorithm for finding the most similar examples.\n",
    "\n",
    "\n",
    "<ul>\n",
    "    <li>EuclideanDistance = sum for i to N (v1[i] – v2[i])^2</li>\n",
    "</ul>"
   ]
  },
  {
   "cell_type": "code",
   "execution_count": 4,
   "id": "db5abd25",
   "metadata": {},
   "outputs": [
    {
     "name": "stdout",
     "output_type": "stream",
     "text": [
      "6.082762530298219\n"
     ]
    }
   ],
   "source": [
    "# calculating eulidean distance between vectros\n",
    "from math import sqrt\n",
    "\n",
    "# calculate euclidean distance\n",
    "def euclidean_distance(a, b):\n",
    "    return sqrt(sum((e1 - e2)**2 for e1, e2 in zip(a,b)))\n",
    "\n",
    "# define data\n",
    "row1 = [10, 20, 15, 10, 5]\n",
    "row2 = [12, 24, 18, 8, 7]\n",
    "\n",
    "# calculate distance\n",
    "dist = euclidean_distance(row1, row2)\n",
    "print(dist)"
   ]
  },
  {
   "cell_type": "code",
   "execution_count": null,
   "id": "efef5d3a",
   "metadata": {},
   "outputs": [],
   "source": []
  },
  {
   "cell_type": "code",
   "execution_count": null,
   "id": "9c73c190",
   "metadata": {},
   "outputs": [],
   "source": []
  },
  {
   "cell_type": "markdown",
   "id": "b3075562",
   "metadata": {},
   "source": [
    "We can also perform the same calculation using the euclidean() function from SciPy. The complete example is listed below."
   ]
  },
  {
   "cell_type": "code",
   "execution_count": 5,
   "id": "592614e7",
   "metadata": {},
   "outputs": [
    {
     "name": "stdout",
     "output_type": "stream",
     "text": [
      "6.082762530298219\n"
     ]
    }
   ],
   "source": [
    "# calculating eulidean distance between vectros\n",
    "from scipy.spatial.distance import euclidean\n",
    "\n",
    "# define data\n",
    "row1 = [10, 20, 15, 10, 5]\n",
    "row2 = [12, 24, 18, 8, 7]\n",
    "\n",
    "# calculate distance\n",
    "dist = euclidean(row1, row2)\n",
    "print(dist)"
   ]
  },
  {
   "cell_type": "code",
   "execution_count": null,
   "id": "845f0361",
   "metadata": {},
   "outputs": [],
   "source": []
  }
 ],
 "metadata": {
  "kernelspec": {
   "display_name": "Python 3",
   "language": "python",
   "name": "python3"
  },
  "language_info": {
   "codemirror_mode": {
    "name": "ipython",
    "version": 3
   },
   "file_extension": ".py",
   "mimetype": "text/x-python",
   "name": "python",
   "nbconvert_exporter": "python",
   "pygments_lexer": "ipython3",
   "version": "3.8.8"
  }
 },
 "nbformat": 4,
 "nbformat_minor": 5
}
