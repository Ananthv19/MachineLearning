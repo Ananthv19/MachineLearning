{
 "cells": [
  {
   "cell_type": "markdown",
   "id": "9597262e",
   "metadata": {},
   "source": [
    "\n",
    "# Minkowski Distance\n",
    "\n",
    "Minkowski distance calculates the distance between two real-valued vectors.\n",
    "\n",
    "It is a generalization of the Euclidean and Manhattan distance measures and adds a parameter, called the “order” or “p“, that allows different distance measures to be calculated.\n",
    "\n",
    "The Minkowski distance measure is calculated as follows:\n",
    "\n",
    "EuclideanDistance = (sum for i to N (abs(v1[i] – v2[i]))^p)^(1/p)\n",
    "Where “p” is the order parameter.\n",
    "\n",
    "When p is set to 1, the calculation is the same as the Manhattan distance. When p is set to 2, it is the same as the Euclidean distance.\n",
    "\n",
    "p=1: Manhattan distance.\n",
    "\n",
    "p=2: Euclidean distance."
   ]
  },
  {
   "cell_type": "code",
   "execution_count": 1,
   "id": "a803b967",
   "metadata": {},
   "outputs": [
    {
     "name": "stdout",
     "output_type": "stream",
     "text": [
      "13.0\n",
      "6.082762530298219\n"
     ]
    }
   ],
   "source": [
    "# calculating minkowski distance between vectors\n",
    "from math import sqrt\n",
    "\n",
    "# calculatre minkowski distance\n",
    "def minkowski_distance(a, b, p):\n",
    "    return sum(abs(e1-e2)**p for e1, e2 in zip(a,b))**(1/p)\n",
    "\n",
    "# define data\n",
    "row1 = [10, 20, 15, 10, 5]\n",
    "row2 = [12, 24, 18, 8, 7]\n",
    "# calculate distance (p=1)\n",
    "dist = minkowski_distance(row1, row2, 1)\n",
    "print(dist)\n",
    "\n",
    "# calculate distance (p=2)\n",
    "dist = minkowski_distance(row1, row2, 2)\n",
    "print(dist)"
   ]
  },
  {
   "cell_type": "markdown",
   "id": "55492af1",
   "metadata": {},
   "source": [
    "We can also perform the same calculation using the minkowski_distance() function from SciPy. The complete example is listed below."
   ]
  },
  {
   "cell_type": "code",
   "execution_count": 2,
   "id": "7958a56f",
   "metadata": {},
   "outputs": [
    {
     "name": "stdout",
     "output_type": "stream",
     "text": [
      "13.0\n",
      "6.082762530298219\n"
     ]
    }
   ],
   "source": [
    "# calculating minkowski distance between vectors\n",
    "from scipy.spatial import minkowski_distance\n",
    "\n",
    "# define data\n",
    "row1 = [10, 20, 15, 10, 5]\n",
    "row2 = [12, 24, 18, 8, 7]\n",
    "\n",
    "# calculate distance (p=1)\n",
    "dist = minkowski_distance(row1, row2, 1)\n",
    "print(dist)\n",
    "\n",
    "# calculate distance (p=2)\n",
    "dist = minkowski_distance(row1, row2, 2)\n",
    "print(dist)"
   ]
  },
  {
   "cell_type": "code",
   "execution_count": null,
   "id": "1d75c7cc",
   "metadata": {},
   "outputs": [],
   "source": []
  }
 ],
 "metadata": {
  "kernelspec": {
   "display_name": "Python 3",
   "language": "python",
   "name": "python3"
  },
  "language_info": {
   "codemirror_mode": {
    "name": "ipython",
    "version": 3
   },
   "file_extension": ".py",
   "mimetype": "text/x-python",
   "name": "python",
   "nbconvert_exporter": "python",
   "pygments_lexer": "ipython3",
   "version": "3.8.8"
  }
 },
 "nbformat": 4,
 "nbformat_minor": 5
}
