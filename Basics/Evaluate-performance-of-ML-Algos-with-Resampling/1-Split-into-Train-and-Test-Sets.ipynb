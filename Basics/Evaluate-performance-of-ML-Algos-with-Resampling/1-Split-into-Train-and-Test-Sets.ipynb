{
 "cells": [
  {
   "cell_type": "markdown",
   "id": "18223570",
   "metadata": {},
   "source": [
    "# Split into Train and Test Sets"
   ]
  },
  {
   "cell_type": "code",
   "execution_count": 4,
   "id": "5d3170ac",
   "metadata": {},
   "outputs": [
    {
     "name": "stdout",
     "output_type": "stream",
     "text": [
      "Accuracy:  78.74015748031496\n"
     ]
    }
   ],
   "source": [
    "# Evaluting using a train and a test set\n",
    "from pandas import read_csv\n",
    "from sklearn.model_selection import train_test_split\n",
    "from sklearn.linear_model import LogisticRegression\n",
    "filename = 'pima-indians-diabetes.csv'\n",
    "names = ['preg', 'plas', 'pres', 'skin', 'test', 'mass', 'pedi', 'age', 'class']\n",
    "dataframe = read_csv(filename, names=names)\n",
    "array = dataframe.values\n",
    "\n",
    "x = array[:, 0:8]\n",
    "y = array[:, 8]\n",
    "\n",
    "\n",
    "test_size=0.33\n",
    "seed=7\n",
    "x_train, x_test, y_train, y_test = train_test_split(x,y, test_size=test_size, random_state=seed)\n",
    "\n",
    "model = LogisticRegression(solver='lbfgs', max_iter=1000)\n",
    "model.fit(x_train, y_train)\n",
    "result = model.score(x_test, y_test)\n",
    "print(\"Accuracy: \", result*100.0)"
   ]
  },
  {
   "cell_type": "code",
   "execution_count": null,
   "id": "0f3160cb",
   "metadata": {},
   "outputs": [],
   "source": []
  }
 ],
 "metadata": {
  "kernelspec": {
   "display_name": "Python 3 (ipykernel)",
   "language": "python",
   "name": "python3"
  },
  "language_info": {
   "codemirror_mode": {
    "name": "ipython",
    "version": 3
   },
   "file_extension": ".py",
   "mimetype": "text/x-python",
   "name": "python",
   "nbconvert_exporter": "python",
   "pygments_lexer": "ipython3",
   "version": "3.9.7"
  }
 },
 "nbformat": 4,
 "nbformat_minor": 5
}
