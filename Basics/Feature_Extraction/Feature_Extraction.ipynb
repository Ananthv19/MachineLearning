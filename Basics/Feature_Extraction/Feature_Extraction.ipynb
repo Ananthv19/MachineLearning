{
 "cells": [
  {
   "cell_type": "markdown",
   "id": "2a854087",
   "metadata": {},
   "source": [
    "## Feature Extraction\n",
    "\n",
    "The mapping from textual data to real valued vectors is called feature extraction."
   ]
  },
  {
   "cell_type": "code",
   "execution_count": null,
   "id": "439b4fbe",
   "metadata": {},
   "outputs": [],
   "source": []
  },
  {
   "cell_type": "markdown",
   "id": "e2221ad3",
   "metadata": {},
   "source": [
    "### Bag Of Words(BOW): \n",
    "list of unique words in the text corpus."
   ]
  },
  {
   "cell_type": "code",
   "execution_count": null,
   "id": "a0667a29",
   "metadata": {},
   "outputs": [],
   "source": []
  },
  {
   "cell_type": "markdown",
   "id": "66e097f1",
   "metadata": {},
   "source": [
    "### Term Frequency-Inverse Document Frequency (TF-IDF):\n",
    "\n",
    "To count the number of items each word appears in a document."
   ]
  },
  {
   "cell_type": "code",
   "execution_count": null,
   "id": "1b3c3aa6",
   "metadata": {},
   "outputs": [],
   "source": []
  },
  {
   "cell_type": "markdown",
   "id": "ff1422bc",
   "metadata": {},
   "source": [
    "# Tf-idf Vectorizer\n",
    "\n",
    "### Term Frequency(TF) = \n",
    "(Number of times term t appears in a document)/(Number of terms in the document)\n",
    "\n",
    "\n",
    "### Inverse Document Frequency(IDF) = log(N/n), \n",
    "\n",
    "where, N is the number of words, and n is the number of documents a term t has appeared in.\n"
   ]
  },
  {
   "cell_type": "code",
   "execution_count": null,
   "id": "2df0a7fb",
   "metadata": {},
   "outputs": [],
   "source": []
  },
  {
   "cell_type": "markdown",
   "id": "49a68310",
   "metadata": {},
   "source": [
    "The IDF value of a rare word is high, whereas the IDF of a frequent word is low.\n",
    "\n",
    "TF-IDF value of a term = TF * IDF"
   ]
  },
  {
   "cell_type": "code",
   "execution_count": null,
   "id": "cebccbe0",
   "metadata": {},
   "outputs": [],
   "source": []
  },
  {
   "cell_type": "code",
   "execution_count": null,
   "id": "e1481755",
   "metadata": {},
   "outputs": [],
   "source": []
  }
 ],
 "metadata": {
  "kernelspec": {
   "display_name": "Python 3",
   "language": "python",
   "name": "python3"
  },
  "language_info": {
   "codemirror_mode": {
    "name": "ipython",
    "version": 3
   },
   "file_extension": ".py",
   "mimetype": "text/x-python",
   "name": "python",
   "nbconvert_exporter": "python",
   "pygments_lexer": "ipython3",
   "version": "3.8.8"
  }
 },
 "nbformat": 4,
 "nbformat_minor": 5
}
