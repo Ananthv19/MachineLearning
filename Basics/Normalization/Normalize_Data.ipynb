{
 "cells": [
  {
   "cell_type": "code",
   "execution_count": 13,
   "id": "02aef0ec",
   "metadata": {},
   "outputs": [
    {
     "name": "stdout",
     "output_type": "stream",
     "text": [
      "[[50, 30], [20, 90]]\n",
      "[[20, 50], [30, 90]]\n"
     ]
    }
   ],
   "source": [
    "# Finding the min and max values for each column\n",
    "def dataset_minmax(dataset):\n",
    "    minmax = list()\n",
    "    for i in range(len(dataset[0])):\n",
    "        col_values = [row[i] for row in dataset]\n",
    "        value_min = min(col_values)\n",
    "        value_max = max(col_values)\n",
    "        minmax.append([value_min, value_max])\n",
    "    return minmax\n",
    "                   \n",
    "dataset = [[50, 30], [20, 90]]\n",
    "print(dataset)\n",
    "minmax = dataset_minmax(dataset)\n",
    "print(minmax)"
   ]
  },
  {
   "cell_type": "code",
   "execution_count": null,
   "id": "004c0ed4",
   "metadata": {},
   "outputs": [],
   "source": []
  },
  {
   "cell_type": "code",
   "execution_count": 18,
   "id": "d51489a5",
   "metadata": {},
   "outputs": [],
   "source": [
    "#The calculation to normalize a single value for a column is:"
   ]
  },
  {
   "cell_type": "code",
   "execution_count": 19,
   "id": "455cf475",
   "metadata": {},
   "outputs": [],
   "source": [
    "# scaled_value = (value - min) / (max - min)"
   ]
  },
  {
   "cell_type": "code",
   "execution_count": 20,
   "id": "55d9496a",
   "metadata": {},
   "outputs": [
    {
     "name": "stdout",
     "output_type": "stream",
     "text": [
      "[[1.0, 0.0], [0.0, 1.0]]\n"
     ]
    }
   ],
   "source": [
    "# Rescale dataset columns to the range 0-1\n",
    "def normalize_dataset(dataset, minmax):\n",
    "    for row in dataset:\n",
    "        for i in range(len(row)):\n",
    "            row[i] = (row[i] - minmax[i][0])/(minmax[i][1]-minmax[i][0])\n",
    "            \n",
    "normalize_dataset(dataset, minmax)\n",
    "print(dataset)"
   ]
  },
  {
   "cell_type": "code",
   "execution_count": 21,
   "id": "60ca87b7",
   "metadata": {},
   "outputs": [],
   "source": [
    "#We can tie this function together with the dataset_minmax() function and normalize the contrived dataset"
   ]
  },
  {
   "cell_type": "code",
   "execution_count": 23,
   "id": "70cfc35d",
   "metadata": {},
   "outputs": [
    {
     "name": "stdout",
     "output_type": "stream",
     "text": [
      "[[50, 30], [20, 90]]\n",
      "[[20, 50], [30, 90]]\n",
      "[[1.0, 0.0], [0.0, 1.0]]\n"
     ]
    }
   ],
   "source": [
    "# Finding the min and max values for each column\n",
    "def dataset_minmax(dataset):\n",
    "    minmax = list()\n",
    "    for i in range(len(dataset[0])):\n",
    "        col_values = [row[i] for row in dataset]\n",
    "        value_min = min(col_values)\n",
    "        value_max = max(col_values)\n",
    "        minmax.append([value_min, value_max])\n",
    "    return minmax\n",
    "\n",
    "# Rescale dataset columns to the range 0-1\n",
    "def normalize_dataset(dataset, minmax):\n",
    "    for row in dataset:\n",
    "        for i in range(len(row)):\n",
    "            row[i] = (row[i] - minmax[i][0])/(minmax[i][1]-minmax[i][0])\n",
    "            \n",
    "            \n",
    "\n",
    "# Contrive small dataset\n",
    "dataset = [[50, 30], [20, 90]]\n",
    "print(dataset)\n",
    "\n",
    "#calculate the min and max for each column\n",
    "minmax = dataset_minmax(dataset)\n",
    "print(minmax)\n",
    "\n",
    "#Normalize columns\n",
    "\n",
    "normalize_dataset(dataset, minmax)\n",
    "print(dataset)\n"
   ]
  },
  {
   "cell_type": "code",
   "execution_count": null,
   "id": "7fa0e31d",
   "metadata": {},
   "outputs": [],
   "source": []
  },
  {
   "cell_type": "code",
   "execution_count": null,
   "id": "2b396acd",
   "metadata": {},
   "outputs": [],
   "source": []
  },
  {
   "cell_type": "code",
   "execution_count": null,
   "id": "c105fd7e",
   "metadata": {},
   "outputs": [],
   "source": []
  },
  {
   "cell_type": "code",
   "execution_count": 24,
   "id": "c0fe813d",
   "metadata": {},
   "outputs": [],
   "source": [
    "# The example first loads the dataset and converts the vakues for each column\n",
    "# from string to floating point valuse"
   ]
  },
  {
   "cell_type": "code",
   "execution_count": 25,
   "id": "b3349a4d",
   "metadata": {},
   "outputs": [],
   "source": [
    "# The minimum and maximum values for each column are estimated from the dataset, and finally, \n",
    "# the values in the dataset are normalized."
   ]
  },
  {
   "cell_type": "code",
   "execution_count": 35,
   "id": "ed4bf147",
   "metadata": {},
   "outputs": [
    {
     "name": "stdout",
     "output_type": "stream",
     "text": [
      "Loaded data file pima-indians-diabetes.csv with 768 rows and 9 columns\n",
      "[6.0, 148.0, 72.0, 35.0, 0.0, 33.6, 0.627, 50.0, 1.0]\n",
      "[0.35294117647058826, 0.7437185929648241, 0.5901639344262295, 0.35353535353535354, 0.0, 0.5007451564828614, 0.23441502988898377, 0.48333333333333334, 1.0]\n"
     ]
    }
   ],
   "source": [
    "from csv import reader\n",
    "\n",
    "# Load a csv file\n",
    "def load_csv(filename):\n",
    "    file = open(filename, \"rt\")\n",
    "    lines = reader(file)\n",
    "    dataset = list(lines)\n",
    "    return dataset\n",
    "\n",
    "\n",
    "# Converting string column to float\n",
    "def str_col_to_float(dataset, column):\n",
    "    for row in dataset:\n",
    "        row[column] = float(row[column].strip())\n",
    "       \n",
    "    \n",
    "# Finding the min and max values for each column\n",
    "def dataset_minmax(dataset):\n",
    "    minmax = list()\n",
    "    for i in range(len(dataset[0])):\n",
    "        col_values = [row[i] for row in dataset]\n",
    "        value_min = min(col_values)\n",
    "        value_max = max(col_values)\n",
    "        minmax.append([value_min, value_max])\n",
    "    return minmax\n",
    "\n",
    "\n",
    "# Rescale dataset columns to the range 0-1\n",
    "def normalize_dataset(dataset, minmax):\n",
    "    for row in dataset:\n",
    "        for i in range(len(row)):\n",
    "            row[i] = (row[i] - minmax[i][0])/(minmax[i][1]-minmax[i][0])\n",
    "            \n",
    "\n",
    "# Load pima-indians-diabets dataset\n",
    "filename = 'pima-indians-diabetes.csv'\n",
    "dataset = load_csv(filename)\n",
    "print('Loaded data file {0} with {1} rows and {2} columns'.format(filename, len(dataset), len(dataset[0])))\n",
    "\n",
    "#convert string columns to float\n",
    "for i in range(len(dataset[0])):\n",
    "    str_col_to_float(dataset, i)\n",
    "print(dataset[0])\n",
    "\n",
    "# Calculate min and max for each column\n",
    "minmax = dataset_minmax(dataset)\n",
    "\n",
    "# Normalize columns\n",
    "normalize_dataset(dataset, minmax)\n",
    "print(dataset[0])"
   ]
  },
  {
   "cell_type": "code",
   "execution_count": null,
   "id": "b6a789e1",
   "metadata": {},
   "outputs": [],
   "source": []
  }
 ],
 "metadata": {
  "kernelspec": {
   "display_name": "Python 3",
   "language": "python",
   "name": "python3"
  },
  "language_info": {
   "codemirror_mode": {
    "name": "ipython",
    "version": 3
   },
   "file_extension": ".py",
   "mimetype": "text/x-python",
   "name": "python",
   "nbconvert_exporter": "python",
   "pygments_lexer": "ipython3",
   "version": "3.8.8"
  }
 },
 "nbformat": 4,
 "nbformat_minor": 5
}
