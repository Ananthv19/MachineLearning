{
 "cells": [
  {
   "cell_type": "markdown",
   "id": "bafecdb6",
   "metadata": {},
   "source": [
    "#### Standardization is a rescaling technique that refers to centering the distribution of the data on the value 0 and the standard deviation to the value 1."
   ]
  },
  {
   "cell_type": "markdown",
   "id": "83025536",
   "metadata": {},
   "source": [
    "#### Together, the mean and the standard deviation can be used to summarize a normal distribution, also called the Gaussian distribution or bell curve"
   ]
  },
  {
   "cell_type": "markdown",
   "id": "9167f343",
   "metadata": {},
   "source": [
    "#### It requires that the mean and standard deviation of the values for each column be known prior to scaling. As with normalizing above, we can estimate these values from training data, or use domain knowledge to specify their values."
   ]
  },
  {
   "cell_type": "code",
   "execution_count": null,
   "id": "f232d31b",
   "metadata": {},
   "outputs": [],
   "source": []
  }
 ],
 "metadata": {
  "kernelspec": {
   "display_name": "Python 3",
   "language": "python",
   "name": "python3"
  },
  "language_info": {
   "codemirror_mode": {
    "name": "ipython",
    "version": 3
   },
   "file_extension": ".py",
   "mimetype": "text/x-python",
   "name": "python",
   "nbconvert_exporter": "python",
   "pygments_lexer": "ipython3",
   "version": "3.8.8"
  }
 },
 "nbformat": 4,
 "nbformat_minor": 5
}
