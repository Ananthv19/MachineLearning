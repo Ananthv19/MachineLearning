{
 "cells": [
  {
   "cell_type": "markdown",
   "id": "217eb5d6",
   "metadata": {},
   "source": [
    "# Binarize Data(Make Binary)\n",
    "\n",
    "<ul/><li>can transform your data using a binary threshold. All values above the threshold are\n",
    "marked 1 and all equal to or below are marked as 0. This is called binarizing your data or\n",
    "thresholding your data."
   ]
  },
  {
   "cell_type": "code",
   "execution_count": 7,
   "id": "6a6226b9",
   "metadata": {},
   "outputs": [],
   "source": [
    "# binarization\n",
    "from sklearn.preprocessing import Binarizer\n",
    "from pandas import read_csv\n",
    "from numpy import set_printoptions\n",
    "filename = 'pima-indians-diabetes.csv'\n",
    "names = ['preg', 'plas', 'pres', 'skin', 'test', 'mass', 'pedi', 'age', 'class']\n",
    "dataframe = read_csv(filename, names=names)\n",
    "array = dataframe.values\n",
    "\n",
    "x = array[:,0:8]\n",
    "y = array[:,8]\n",
    "\n",
    "binarizer = Binarizer(threshold=0.0).fit(x)\n",
    "binaryx = binarizer.transform(x)"
   ]
  },
  {
   "cell_type": "code",
   "execution_count": 8,
   "id": "59a0da55",
   "metadata": {},
   "outputs": [
    {
     "name": "stdout",
     "output_type": "stream",
     "text": [
      "[[1. 1. 1. 1. 0. 1. 1. 1.]\n",
      " [1. 1. 1. 1. 0. 1. 1. 1.]\n",
      " [1. 1. 1. 0. 0. 1. 1. 1.]\n",
      " [1. 1. 1. 1. 1. 1. 1. 1.]\n",
      " [0. 1. 1. 1. 1. 1. 1. 1.]]\n"
     ]
    }
   ],
   "source": [
    "# summarizing transformed data\n",
    "set_printoptions(precision=3)\n",
    "print(binaryx[0:5, :])"
   ]
  },
  {
   "cell_type": "code",
   "execution_count": null,
   "id": "cab32748",
   "metadata": {},
   "outputs": [],
   "source": []
  }
 ],
 "metadata": {
  "kernelspec": {
   "display_name": "Python 3 (ipykernel)",
   "language": "python",
   "name": "python3"
  },
  "language_info": {
   "codemirror_mode": {
    "name": "ipython",
    "version": 3
   },
   "file_extension": ".py",
   "mimetype": "text/x-python",
   "name": "python",
   "nbconvert_exporter": "python",
   "pygments_lexer": "ipython3",
   "version": "3.9.7"
  }
 },
 "nbformat": 4,
 "nbformat_minor": 5
}
