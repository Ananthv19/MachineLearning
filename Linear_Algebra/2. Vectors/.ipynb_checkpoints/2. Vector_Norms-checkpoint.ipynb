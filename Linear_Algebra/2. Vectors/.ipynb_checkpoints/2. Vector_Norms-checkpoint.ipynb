{
 "cells": [
  {
   "cell_type": "markdown",
   "id": "f955818c",
   "metadata": {},
   "source": [
    "## 2.1 Vector L^1 Norm\n",
    "\n",
    "The length of a vector can be calculated using the L 1 norm, where the 1 is a superscript of the L.\n",
    "\n",
    "\n",
    "The notation for the L^1 norm of a vector is ||v||<sub>1</sub>\n",
    "\n",
    " As such, this\n",
    "length is sometimes called the taxicab norm or the Manhattan norm.\n",
    "L<sup>1</sup>(v) = ||v||<sub>1</sub>"
   ]
  },
  {
   "cell_type": "markdown",
   "id": "eca03c2e",
   "metadata": {},
   "source": [
    "Where: ||v||1 = |a1| + |a2| + |a3|"
   ]
  },
  {
   "cell_type": "code",
   "execution_count": 48,
   "id": "abaeb45d",
   "metadata": {},
   "outputs": [],
   "source": [
    "# https://www.datasciencelearner.com/np-linalg-norm-numpy-find-norms/#:~:text=Finding%20the%20norms%20using%20np%20linalg%20norm%20method.,Calculate%20the%20np%20linalg%20norm%20of%20the%20array\n",
    "# https://docs.scipy.org/doc/numpy-1.13.0/reference/generated/numpy.linalg.norm.html"
   ]
  },
  {
   "cell_type": "code",
   "execution_count": null,
   "id": "2f92708d",
   "metadata": {},
   "outputs": [],
   "source": []
  },
  {
   "cell_type": "code",
   "execution_count": null,
   "id": "53c1090c",
   "metadata": {},
   "outputs": [],
   "source": []
  },
  {
   "cell_type": "markdown",
   "id": "63be2939",
   "metadata": {},
   "source": [
    "The L1 norm of a vector can be calculated in NumPy using the norm() function with a parameter to specify the norm order, in this case 1."
   ]
  },
  {
   "cell_type": "code",
   "execution_count": 2,
   "id": "bc460d69",
   "metadata": {},
   "outputs": [
    {
     "name": "stdout",
     "output_type": "stream",
     "text": [
      "[1 2 3]\n",
      "6.0\n"
     ]
    }
   ],
   "source": [
    "# Vector L1 norm\n",
    "from numpy import array\n",
    "from numpy.linalg import norm\n",
    "\n",
    "#define vector\n",
    "a = array([1,2,3])\n",
    "print(a)\n",
    "\n",
    "l1 = norm(a,1)\n",
    "print(l1)"
   ]
  },
  {
   "cell_type": "code",
   "execution_count": null,
   "id": "90f22134",
   "metadata": {},
   "outputs": [],
   "source": []
  },
  {
   "cell_type": "code",
   "execution_count": null,
   "id": "4ca80f33",
   "metadata": {},
   "outputs": [],
   "source": []
  },
  {
   "cell_type": "code",
   "execution_count": null,
   "id": "733870a6",
   "metadata": {},
   "outputs": [],
   "source": []
  },
  {
   "cell_type": "markdown",
   "id": "2dc424cf",
   "metadata": {},
   "source": [
    "## 2.2 Vector L^2 Norm"
   ]
  },
  {
   "cell_type": "markdown",
   "id": "684d863e",
   "metadata": {},
   "source": [
    "The length of a vector can be calculated using the L<sup>2</sup> norm, where the 2 is a superscript of the\n",
    "L. The notation for the L<sup>2</sup> norm of a vector is ||v||<sub>2</sub> where 2 is a subscript."
   ]
  },
  {
   "cell_type": "markdown",
   "id": "dea20580",
   "metadata": {},
   "source": [
    "||v<sub>2</sub>|| = sqrt(a<sub>1</sub><sup>2</sup>+a<sub>2</sub><sup>2</sup>+a<sub>3</sub><sup>2</sup>)"
   ]
  },
  {
   "cell_type": "code",
   "execution_count": null,
   "id": "dacab380",
   "metadata": {},
   "outputs": [],
   "source": []
  },
  {
   "cell_type": "code",
   "execution_count": 6,
   "id": "a71c6a33",
   "metadata": {},
   "outputs": [
    {
     "name": "stdout",
     "output_type": "stream",
     "text": [
      "[1 2 3]\n"
     ]
    },
    {
     "data": {
      "text/plain": [
       "3.7416573867739413"
      ]
     },
     "execution_count": 6,
     "metadata": {},
     "output_type": "execute_result"
    }
   ],
   "source": [
    "# vector L2 norm\n",
    "from numpy import array\n",
    "from numpy.linalg import norm\n",
    "# define vector\n",
    "a = array([1, 2, 3])\n",
    "print(a)\n",
    "\n",
    "#calculate norm\n",
    "l2 = norm(a)\n",
    "l2"
   ]
  },
  {
   "cell_type": "code",
   "execution_count": null,
   "id": "a1da740d",
   "metadata": {},
   "outputs": [],
   "source": []
  },
  {
   "cell_type": "code",
   "execution_count": null,
   "id": "451780ce",
   "metadata": {},
   "outputs": [],
   "source": []
  },
  {
   "cell_type": "code",
   "execution_count": null,
   "id": "0960974a",
   "metadata": {},
   "outputs": [],
   "source": []
  },
  {
   "cell_type": "markdown",
   "id": "0a1fd9fc",
   "metadata": {},
   "source": [
    "## 8.5 Vector Max Norm"
   ]
  },
  {
   "cell_type": "markdown",
   "id": "36d70b7e",
   "metadata": {},
   "source": [
    "The length of a vector can be calculated using the maximum norm, also called max norm. Max norm of a vector is referred to as L<sup>inf</sup> where inf is a superscript and can be represented with the infinity symbol. The notation for max norm is ||v||<sub>inf</sub> , where inf is a subscript."
   ]
  },
  {
   "cell_type": "markdown",
   "id": "bd787b98",
   "metadata": {},
   "source": [
    "L<sup>inf</sup>(v) = ||v||<sub>inf</sub>"
   ]
  },
  {
   "cell_type": "markdown",
   "id": "952e2731",
   "metadata": {},
   "source": [
    "The max norm is calculated as returning the maximum value of the vector, hence the name.\n",
    "||v||<sub>inf</sub> = max a1, a2, a3 "
   ]
  },
  {
   "cell_type": "code",
   "execution_count": null,
   "id": "ffa7f6c4",
   "metadata": {},
   "outputs": [],
   "source": []
  },
  {
   "cell_type": "code",
   "execution_count": null,
   "id": "b755d2bf",
   "metadata": {},
   "outputs": [],
   "source": []
  },
  {
   "cell_type": "code",
   "execution_count": 8,
   "id": "d55b2339",
   "metadata": {},
   "outputs": [
    {
     "name": "stdout",
     "output_type": "stream",
     "text": [
      "[1 2 3]\n",
      "3.0\n"
     ]
    }
   ],
   "source": [
    "#vector max norm\n",
    "from math import inf\n",
    "#define vector\n",
    "\n",
    "a = array([1,2,3])\n",
    "print(a)\n",
    "\n",
    "#calculate norm\n",
    "maxnorm = norm(a, inf)\n",
    "print(maxnorm)"
   ]
  },
  {
   "cell_type": "code",
   "execution_count": null,
   "id": "9bae6a4e",
   "metadata": {},
   "outputs": [],
   "source": []
  },
  {
   "cell_type": "code",
   "execution_count": null,
   "id": "73742ebb",
   "metadata": {},
   "outputs": [],
   "source": []
  },
  {
   "cell_type": "code",
   "execution_count": null,
   "id": "bd38107b",
   "metadata": {},
   "outputs": [],
   "source": []
  },
  {
   "cell_type": "code",
   "execution_count": 14,
   "id": "7d27e2bb",
   "metadata": {},
   "outputs": [
    {
     "data": {
      "text/plain": [
       "array([0, 1, 2, 3, 4, 5, 6, 7, 8])"
      ]
     },
     "execution_count": 14,
     "metadata": {},
     "output_type": "execute_result"
    }
   ],
   "source": [
    "import numpy as np\n",
    "from numpy import linalg as LA\n",
    "np.arange(9)"
   ]
  },
  {
   "cell_type": "code",
   "execution_count": 15,
   "id": "b3f7b815",
   "metadata": {},
   "outputs": [
    {
     "data": {
      "text/plain": [
       "array([-4, -3, -2, -1,  0,  1,  2,  3,  4])"
      ]
     },
     "execution_count": 15,
     "metadata": {},
     "output_type": "execute_result"
    }
   ],
   "source": [
    "np.arange(9) - 4"
   ]
  },
  {
   "cell_type": "code",
   "execution_count": 17,
   "id": "42f75f4c",
   "metadata": {},
   "outputs": [
    {
     "data": {
      "text/plain": [
       "array([-4, -3, -2, -1,  0,  1,  2,  3,  4])"
      ]
     },
     "execution_count": 17,
     "metadata": {},
     "output_type": "execute_result"
    }
   ],
   "source": [
    "a = np.arange(9) - 4\n",
    "a"
   ]
  },
  {
   "cell_type": "code",
   "execution_count": 18,
   "id": "c9143fb4",
   "metadata": {},
   "outputs": [
    {
     "data": {
      "text/plain": [
       "array([[-4, -3, -2],\n",
       "       [-1,  0,  1],\n",
       "       [ 2,  3,  4]])"
      ]
     },
     "execution_count": 18,
     "metadata": {},
     "output_type": "execute_result"
    }
   ],
   "source": [
    "b = a.reshape((3,3))\n",
    "b"
   ]
  },
  {
   "cell_type": "code",
   "execution_count": 19,
   "id": "ad6cbc83",
   "metadata": {},
   "outputs": [
    {
     "data": {
      "text/plain": [
       "7.745966692414834"
      ]
     },
     "execution_count": 19,
     "metadata": {},
     "output_type": "execute_result"
    }
   ],
   "source": [
    "LA.norm(a)"
   ]
  },
  {
   "cell_type": "code",
   "execution_count": 20,
   "id": "f65f20b5",
   "metadata": {},
   "outputs": [
    {
     "data": {
      "text/plain": [
       "7.745966692414834"
      ]
     },
     "execution_count": 20,
     "metadata": {},
     "output_type": "execute_result"
    }
   ],
   "source": [
    "LA.norm(b)"
   ]
  },
  {
   "cell_type": "code",
   "execution_count": null,
   "id": "98a96026",
   "metadata": {},
   "outputs": [],
   "source": []
  },
  {
   "cell_type": "code",
   "execution_count": null,
   "id": "83e552ea",
   "metadata": {},
   "outputs": [],
   "source": []
  },
  {
   "cell_type": "code",
   "execution_count": null,
   "id": "1a2fc721",
   "metadata": {},
   "outputs": [],
   "source": []
  },
  {
   "cell_type": "code",
   "execution_count": null,
   "id": "e6fe0500",
   "metadata": {},
   "outputs": [],
   "source": []
  },
  {
   "cell_type": "code",
   "execution_count": null,
   "id": "0dad6cfa",
   "metadata": {},
   "outputs": [],
   "source": []
  },
  {
   "cell_type": "markdown",
   "id": "49aad903",
   "metadata": {},
   "source": [
    "### 1D"
   ]
  },
  {
   "cell_type": "code",
   "execution_count": 44,
   "id": "6208fbce",
   "metadata": {},
   "outputs": [],
   "source": [
    "array_1d = np.array([10,20,30,40,50,60,70,80])"
   ]
  },
  {
   "cell_type": "code",
   "execution_count": 45,
   "id": "36c4c159",
   "metadata": {},
   "outputs": [
    {
     "data": {
      "text/plain": [
       "360.0"
      ]
     },
     "execution_count": 45,
     "metadata": {},
     "output_type": "execute_result"
    }
   ],
   "source": [
    "LA.norm(array_1d, 1) # l1"
   ]
  },
  {
   "cell_type": "code",
   "execution_count": 46,
   "id": "5fd83b05",
   "metadata": {},
   "outputs": [
    {
     "data": {
      "text/plain": [
       "142.828568570857"
      ]
     },
     "execution_count": 46,
     "metadata": {},
     "output_type": "execute_result"
    }
   ],
   "source": [
    "LA.norm(array_1d)   #l2"
   ]
  },
  {
   "cell_type": "code",
   "execution_count": 47,
   "id": "9feabf0c",
   "metadata": {},
   "outputs": [
    {
     "data": {
      "text/plain": [
       "80.0"
      ]
     },
     "execution_count": 47,
     "metadata": {},
     "output_type": "execute_result"
    }
   ],
   "source": [
    "LA.norm(array_1d, inf)"
   ]
  },
  {
   "cell_type": "code",
   "execution_count": null,
   "id": "acc1bdae",
   "metadata": {},
   "outputs": [],
   "source": []
  },
  {
   "cell_type": "code",
   "execution_count": null,
   "id": "2acd1ad6",
   "metadata": {},
   "outputs": [],
   "source": []
  },
  {
   "cell_type": "markdown",
   "id": "d68c2b0d",
   "metadata": {},
   "source": [
    "### 2D"
   ]
  },
  {
   "cell_type": "code",
   "execution_count": 57,
   "id": "2c496496",
   "metadata": {},
   "outputs": [
    {
     "data": {
      "text/plain": [
       "array([[10, 20, 30, 40],\n",
       "       [50, 60, 70, 80]])"
      ]
     },
     "execution_count": 57,
     "metadata": {},
     "output_type": "execute_result"
    }
   ],
   "source": [
    "array_2d = np.array([[10,20,30,40],[50,60,70,80]])\n",
    "array_2d"
   ]
  },
  {
   "cell_type": "code",
   "execution_count": 58,
   "id": "560a1cad",
   "metadata": {},
   "outputs": [
    {
     "data": {
      "text/plain": [
       "120.0"
      ]
     },
     "execution_count": 58,
     "metadata": {},
     "output_type": "execute_result"
    }
   ],
   "source": [
    "LA.norm(array_2d, 1)"
   ]
  },
  {
   "cell_type": "code",
   "execution_count": 59,
   "id": "658673ae",
   "metadata": {},
   "outputs": [
    {
     "data": {
      "text/plain": [
       "142.828568570857"
      ]
     },
     "execution_count": 59,
     "metadata": {},
     "output_type": "execute_result"
    }
   ],
   "source": [
    "LA.norm(array_2d)"
   ]
  },
  {
   "cell_type": "code",
   "execution_count": 60,
   "id": "077b82d4",
   "metadata": {},
   "outputs": [
    {
     "data": {
      "text/plain": [
       "260.0"
      ]
     },
     "execution_count": 60,
     "metadata": {},
     "output_type": "execute_result"
    }
   ],
   "source": [
    "LA.norm(array_2d, inf)"
   ]
  },
  {
   "cell_type": "code",
   "execution_count": 32,
   "id": "6051f4b6",
   "metadata": {},
   "outputs": [],
   "source": [
    "LA.norm?"
   ]
  },
  {
   "cell_type": "code",
   "execution_count": 61,
   "id": "cc1ee623",
   "metadata": {},
   "outputs": [
    {
     "data": {
      "text/plain": [
       "array([ 54.77225575, 131.90905958])"
      ]
     },
     "execution_count": 61,
     "metadata": {},
     "output_type": "execute_result"
    }
   ],
   "source": [
    "LA.norm(array_2d, axis=1)"
   ]
  },
  {
   "cell_type": "code",
   "execution_count": 35,
   "id": "dce90ca3",
   "metadata": {},
   "outputs": [
    {
     "data": {
      "text/plain": [
       "196.21416870348583"
      ]
     },
     "execution_count": 35,
     "metadata": {},
     "output_type": "execute_result"
    }
   ],
   "source": [
    "LA.norm(array_2d, 'fro')"
   ]
  },
  {
   "cell_type": "code",
   "execution_count": null,
   "id": "0fd509da",
   "metadata": {},
   "outputs": [],
   "source": []
  },
  {
   "cell_type": "code",
   "execution_count": null,
   "id": "c42d6bd7",
   "metadata": {},
   "outputs": [],
   "source": []
  },
  {
   "cell_type": "code",
   "execution_count": null,
   "id": "99490140",
   "metadata": {},
   "outputs": [],
   "source": []
  },
  {
   "cell_type": "code",
   "execution_count": 50,
   "id": "5bcdd7ca",
   "metadata": {},
   "outputs": [
    {
     "data": {
      "text/plain": [
       "array([[-1,  3,  1],\n",
       "       [ 3, -4,  7]])"
      ]
     },
     "execution_count": 50,
     "metadata": {},
     "output_type": "execute_result"
    }
   ],
   "source": [
    "arr = array([[-1, 3, 1],\n",
    "            [3, -4, 7]])\n",
    "arr"
   ]
  },
  {
   "cell_type": "code",
   "execution_count": 51,
   "id": "8cb39513",
   "metadata": {},
   "outputs": [
    {
     "data": {
      "text/plain": [
       "9.219544457292887"
      ]
     },
     "execution_count": 51,
     "metadata": {},
     "output_type": "execute_result"
    }
   ],
   "source": [
    "LA.norm(arr)"
   ]
  },
  {
   "cell_type": "code",
   "execution_count": null,
   "id": "b4d44311",
   "metadata": {},
   "outputs": [],
   "source": []
  },
  {
   "cell_type": "code",
   "execution_count": null,
   "id": "6f95ba8f",
   "metadata": {},
   "outputs": [],
   "source": []
  },
  {
   "cell_type": "code",
   "execution_count": 53,
   "id": "e0ff7045",
   "metadata": {},
   "outputs": [
    {
     "data": {
      "text/plain": [
       "array([[1, 2],\n",
       "       [3, 4]])"
      ]
     },
     "execution_count": 53,
     "metadata": {},
     "output_type": "execute_result"
    }
   ],
   "source": [
    "arr = array([[1,2],\n",
    "            [3,4]])\n",
    "arr"
   ]
  },
  {
   "cell_type": "code",
   "execution_count": 54,
   "id": "99ec3812",
   "metadata": {},
   "outputs": [
    {
     "data": {
      "text/plain": [
       "5.477225575051661"
      ]
     },
     "execution_count": 54,
     "metadata": {},
     "output_type": "execute_result"
    }
   ],
   "source": [
    "LA.norm(arr)"
   ]
  },
  {
   "cell_type": "code",
   "execution_count": null,
   "id": "7632221f",
   "metadata": {},
   "outputs": [],
   "source": []
  },
  {
   "cell_type": "code",
   "execution_count": null,
   "id": "b16d0edd",
   "metadata": {},
   "outputs": [],
   "source": []
  },
  {
   "cell_type": "code",
   "execution_count": 55,
   "id": "cdc37ca9",
   "metadata": {},
   "outputs": [],
   "source": [
    "arr = array([[1,2,3,4],\n",
    "            [1,2,3,4]])"
   ]
  },
  {
   "cell_type": "code",
   "execution_count": 56,
   "id": "367ab2c8",
   "metadata": {},
   "outputs": [
    {
     "data": {
      "text/plain": [
       "7.745966692414834"
      ]
     },
     "execution_count": 56,
     "metadata": {},
     "output_type": "execute_result"
    }
   ],
   "source": [
    "LA.norm(arr)"
   ]
  },
  {
   "cell_type": "code",
   "execution_count": null,
   "id": "5e526ead",
   "metadata": {},
   "outputs": [],
   "source": []
  }
 ],
 "metadata": {
  "kernelspec": {
   "display_name": "Python 3",
   "language": "python",
   "name": "python3"
  },
  "language_info": {
   "codemirror_mode": {
    "name": "ipython",
    "version": 3
   },
   "file_extension": ".py",
   "mimetype": "text/x-python",
   "name": "python",
   "nbconvert_exporter": "python",
   "pygments_lexer": "ipython3",
   "version": "3.8.8"
  }
 },
 "nbformat": 4,
 "nbformat_minor": 5
}
