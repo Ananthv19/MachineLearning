{
 "cells": [
  {
   "cell_type": "code",
   "execution_count": 1,
   "id": "1c595ee3",
   "metadata": {},
   "outputs": [],
   "source": [
    "import numpy as np"
   ]
  },
  {
   "cell_type": "markdown",
   "id": "d26261e5",
   "metadata": {},
   "source": [
    "## Dot Product of 2 Vectors"
   ]
  },
  {
   "cell_type": "code",
   "execution_count": 2,
   "id": "47ae2748",
   "metadata": {},
   "outputs": [],
   "source": [
    "a = np.array([2, 3])\n",
    "\n",
    "b = np.array([4, 4])\n",
    "\n",
    "a_dot_b = np.dot(a, b)"
   ]
  },
  {
   "cell_type": "code",
   "execution_count": 3,
   "id": "a62e1406",
   "metadata": {},
   "outputs": [
    {
     "name": "stdout",
     "output_type": "stream",
     "text": [
      "20\n"
     ]
    }
   ],
   "source": [
    "print(a_dot_b)"
   ]
  },
  {
   "cell_type": "code",
   "execution_count": 4,
   "id": "3ab0424e",
   "metadata": {},
   "outputs": [],
   "source": [
    "c = np.array([40, 20, 35])\n",
    "\n",
    "d = np.array([53, 24, 68])\n",
    "\n",
    "c_dot_d = np.dot(c, d)"
   ]
  },
  {
   "cell_type": "code",
   "execution_count": 5,
   "id": "78da3eda",
   "metadata": {},
   "outputs": [
    {
     "name": "stdout",
     "output_type": "stream",
     "text": [
      "4980\n"
     ]
    }
   ],
   "source": [
    "print(c_dot_d)"
   ]
  },
  {
   "cell_type": "code",
   "execution_count": null,
   "id": "08830270",
   "metadata": {},
   "outputs": [],
   "source": []
  },
  {
   "cell_type": "markdown",
   "id": "074f4b7a",
   "metadata": {},
   "source": [
    "## Cross Product of 2 Vectors"
   ]
  },
  {
   "cell_type": "code",
   "execution_count": 6,
   "id": "e7d27917",
   "metadata": {},
   "outputs": [],
   "source": [
    "a = np.array([2, 3])\n",
    "\n",
    "b = np.array([4, 4])\n",
    "\n",
    "a_cross_b = np.cross(a, b)"
   ]
  },
  {
   "cell_type": "code",
   "execution_count": 7,
   "id": "f45e33ee",
   "metadata": {},
   "outputs": [
    {
     "name": "stdout",
     "output_type": "stream",
     "text": [
      "-4\n"
     ]
    }
   ],
   "source": [
    "print(a_cross_b)"
   ]
  },
  {
   "cell_type": "code",
   "execution_count": null,
   "id": "810bcd53",
   "metadata": {},
   "outputs": [],
   "source": []
  },
  {
   "cell_type": "code",
   "execution_count": 8,
   "id": "3bef80c8",
   "metadata": {},
   "outputs": [],
   "source": [
    "c = np.array([5, 10, 20])\n",
    "\n",
    "d = np.array([18, 32, 50])\n",
    "\n",
    "c_cross_d = np.cross(c, d)"
   ]
  },
  {
   "cell_type": "code",
   "execution_count": 9,
   "id": "8302c0c8",
   "metadata": {},
   "outputs": [
    {
     "name": "stdout",
     "output_type": "stream",
     "text": [
      "[-140  110  -20]\n"
     ]
    }
   ],
   "source": [
    "print(c_cross_d)"
   ]
  },
  {
   "cell_type": "code",
   "execution_count": null,
   "id": "888e6391",
   "metadata": {},
   "outputs": [],
   "source": []
  },
  {
   "cell_type": "code",
   "execution_count": null,
   "id": "e4b8ec37",
   "metadata": {},
   "outputs": [],
   "source": []
  },
  {
   "cell_type": "markdown",
   "id": "f97c8c6b",
   "metadata": {},
   "source": [
    "## Projection of \"a\" vector on \"v\" vector\n",
    "\n",
    "proj<sub>v</sub>a = ((a.v)/(||v||<sup>2</sup>) * v"
   ]
  },
  {
   "cell_type": "code",
   "execution_count": 11,
   "id": "6910e5b5",
   "metadata": {},
   "outputs": [
    {
     "name": "stdout",
     "output_type": "stream",
     "text": [
      "Projection of a vector on v vector =  [30.18242937 54.99909352 44.93828373]\n"
     ]
    }
   ],
   "source": [
    "a = np.array([23, 45, 62])\n",
    "\n",
    "v = np.array([45, 82, 67])\n",
    "\n",
    "# magnitude of \"v\" vector\n",
    "magnitude_of_v = np.sqrt(sum(v**2))\n",
    "\n",
    "proj_of_a_on_v = (np.dot(a, v)/magnitude_of_v**2)*v\n",
    "\n",
    "print(\"Projection of a vector on v vector = \", proj_of_a_on_v)"
   ]
  },
  {
   "cell_type": "code",
   "execution_count": null,
   "id": "4688263b",
   "metadata": {},
   "outputs": [],
   "source": []
  },
  {
   "cell_type": "code",
   "execution_count": null,
   "id": "7e665fd4",
   "metadata": {},
   "outputs": [],
   "source": []
  },
  {
   "cell_type": "code",
   "execution_count": null,
   "id": "7174ffe5",
   "metadata": {},
   "outputs": [],
   "source": []
  }
 ],
 "metadata": {
  "kernelspec": {
   "display_name": "Python 3",
   "language": "python",
   "name": "python3"
  },
  "language_info": {
   "codemirror_mode": {
    "name": "ipython",
    "version": 3
   },
   "file_extension": ".py",
   "mimetype": "text/x-python",
   "name": "python",
   "nbconvert_exporter": "python",
   "pygments_lexer": "ipython3",
   "version": "3.8.8"
  }
 },
 "nbformat": 4,
 "nbformat_minor": 5
}
