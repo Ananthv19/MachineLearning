{
 "cells": [
  {
   "cell_type": "markdown",
   "id": "2d3aec38",
   "metadata": {},
   "source": [
    "## 2.1 Square Matrix\n",
    "\n",
    "The number of rows (n) is equivalent to the number of\n",
    "columns (m)."
   ]
  },
  {
   "cell_type": "code",
   "execution_count": 1,
   "id": "8f2e2acf",
   "metadata": {},
   "outputs": [
    {
     "data": {
      "text/plain": [
       "array([[1, 2, 3],\n",
       "       [1, 2, 3],\n",
       "       [1, 2, 3]])"
      ]
     },
     "execution_count": 1,
     "metadata": {},
     "output_type": "execute_result"
    }
   ],
   "source": [
    "from numpy import array\n",
    "\n",
    "a = array([[1,2,3], [1,2,3], [1,2,3]])\n",
    "a"
   ]
  },
  {
   "cell_type": "code",
   "execution_count": null,
   "id": "38af0650",
   "metadata": {},
   "outputs": [],
   "source": []
  },
  {
   "cell_type": "code",
   "execution_count": null,
   "id": "5716be02",
   "metadata": {},
   "outputs": [],
   "source": []
  },
  {
   "cell_type": "markdown",
   "id": "1d20f06b",
   "metadata": {},
   "source": [
    "## 2.2 Symmetric Matrix\n",
    "\n",
    "A symmetric matrix is a type of square matrix where the top-right triangle is the same as the bottom-left triangle.\n",
    "\n",
    "A symmetric matrix is always square and equal to its own transpose."
   ]
  },
  {
   "cell_type": "code",
   "execution_count": 2,
   "id": "a77a2228",
   "metadata": {},
   "outputs": [
    {
     "name": "stdout",
     "output_type": "stream",
     "text": [
      "[[1 2 3 4 5]\n",
      " [2 1 2 3 4]\n",
      " [3 2 1 2 3]\n",
      " [4 3 2 1 2]\n",
      " [5 4 3 2 1]]\n"
     ]
    }
   ],
   "source": [
    "b = array([[1,2,3,4,5], [2,1,2,3,4], [3,2,1,2,3], [4,3,2,1,2], [5,4,3,2,1]])\n",
    "print(b)"
   ]
  },
  {
   "cell_type": "code",
   "execution_count": null,
   "id": "7871a151",
   "metadata": {},
   "outputs": [],
   "source": []
  },
  {
   "cell_type": "code",
   "execution_count": null,
   "id": "0a175497",
   "metadata": {},
   "outputs": [],
   "source": []
  },
  {
   "cell_type": "markdown",
   "id": "a4947efa",
   "metadata": {},
   "source": [
    "## 2.3 Triangular Matrix\n",
    "\n",
    "A triangular matrix is a type of square matrix that has all values in the upper-right or lower-left of the matrix with the remaining elements filled with zero values. \n",
    "\n",
    "A triangular matrix with values only above the main diagonal is called an upper triangular matrix.\n",
    "\n",
    "Whereas, a triangular matrix with values only below the main diagonal is called a lower triangular matrix."
   ]
  },
  {
   "cell_type": "code",
   "execution_count": 4,
   "id": "edfedca7",
   "metadata": {},
   "outputs": [
    {
     "name": "stdout",
     "output_type": "stream",
     "text": [
      "[[1 2 3]\n",
      " [1 2 3]\n",
      " [1 2 3]]\n",
      "[[1 0 0]\n",
      " [1 2 0]\n",
      " [1 2 3]]\n",
      "[[1 2 3]\n",
      " [0 2 3]\n",
      " [0 0 3]]\n"
     ]
    }
   ],
   "source": [
    "# triangular matrices\n",
    "from numpy import array\n",
    "from numpy import tril\n",
    "from numpy import triu\n",
    "\n",
    "#define a square matrix\n",
    "M = array([[1,2,3],[1,2,3],[1,2,3]])\n",
    "\n",
    "print(M)\n",
    "\n",
    "lower = tril(M)\n",
    "print(lower)\n",
    "\n",
    "upper = triu(M)\n",
    "print(upper)"
   ]
  },
  {
   "cell_type": "code",
   "execution_count": null,
   "id": "73f98979",
   "metadata": {},
   "outputs": [],
   "source": []
  },
  {
   "cell_type": "code",
   "execution_count": null,
   "id": "327c1eea",
   "metadata": {},
   "outputs": [],
   "source": []
  },
  {
   "cell_type": "code",
   "execution_count": null,
   "id": "1efaee57",
   "metadata": {},
   "outputs": [],
   "source": []
  },
  {
   "cell_type": "markdown",
   "id": "c4e8b98b",
   "metadata": {},
   "source": [
    "## 2.4 Diagonal Matrix"
   ]
  },
  {
   "cell_type": "code",
   "execution_count": 7,
   "id": "f16f0873",
   "metadata": {},
   "outputs": [
    {
     "name": "stdout",
     "output_type": "stream",
     "text": [
      "[[1 2 3]\n",
      " [1 2 3]\n",
      " [1 2 3]]\n"
     ]
    }
   ],
   "source": [
    "# diagonal matrix\n",
    "from numpy import diag\n",
    "# define square matrix\n",
    "\n",
    "M = array([[1,2,3],[1,2,3],[1,2,3]])\n",
    "\n",
    "print(M)"
   ]
  },
  {
   "cell_type": "code",
   "execution_count": 8,
   "id": "f31a1869",
   "metadata": {},
   "outputs": [
    {
     "name": "stdout",
     "output_type": "stream",
     "text": [
      "[1 2 3]\n"
     ]
    }
   ],
   "source": [
    "# extract diagonal vector\n",
    "d = diag(M)\n",
    "print(d)"
   ]
  },
  {
   "cell_type": "code",
   "execution_count": 9,
   "id": "d5705d8b",
   "metadata": {},
   "outputs": [
    {
     "name": "stdout",
     "output_type": "stream",
     "text": [
      "[[1 0 0]\n",
      " [0 2 0]\n",
      " [0 0 3]]\n"
     ]
    }
   ],
   "source": [
    "# create diagonal matrix from vector\n",
    "D = diag(d)\n",
    "print(D)"
   ]
  },
  {
   "cell_type": "markdown",
   "id": "80326d44",
   "metadata": {},
   "source": [
    "## 2.5 Identity Matrix\n",
    "\n",
    "An identity matrix is a square matrix that does not change a vector when multiplied."
   ]
  },
  {
   "cell_type": "code",
   "execution_count": 13,
   "id": "a5b9e4b9",
   "metadata": {},
   "outputs": [
    {
     "name": "stdout",
     "output_type": "stream",
     "text": [
      "[[1. 0. 0.]\n",
      " [0. 1. 0.]\n",
      " [0. 0. 1.]]\n"
     ]
    }
   ],
   "source": [
    "# identity matrix\n",
    "from numpy import identity\n",
    "I = identity(3)\n",
    "print(I)"
   ]
  },
  {
   "cell_type": "code",
   "execution_count": null,
   "id": "276e7b63",
   "metadata": {},
   "outputs": [],
   "source": []
  },
  {
   "cell_type": "code",
   "execution_count": null,
   "id": "5849fb4b",
   "metadata": {},
   "outputs": [],
   "source": []
  },
  {
   "cell_type": "markdown",
   "id": "69b98a5f",
   "metadata": {},
   "source": [
    "## 2.6 Orthogonal Matrix\n",
    "\n",
    "Two vectors are orthogonal when their dot product equals zero.\n",
    "\n",
    "v.w = 0\n",
    "<br>\n",
    "v.w<sup>T</sup> = 0"
   ]
  },
  {
   "cell_type": "markdown",
   "id": "ac2bd0ba",
   "metadata": {},
   "source": [
    "This is intuitive when we consider that one line is orthogonal with another if it is perpendicular\n",
    "to it."
   ]
  },
  {
   "cell_type": "markdown",
   "id": "f10d25db",
   "metadata": {},
   "source": [
    "### Q<sup>T</sup>.Q = Q.Q<sup>T</sup> = I\n",
    "\n",
    "where Q is the orthogonal matrix\n",
    "Q<sup>T</sup> is the transpose of Q\n",
    "I is the identity matrix"
   ]
  },
  {
   "cell_type": "markdown",
   "id": "798d4991",
   "metadata": {},
   "source": [
    "A matrix is orthogonal if its transpose is equal to its inverse."
   ]
  },
  {
   "cell_type": "markdown",
   "id": "96fae647",
   "metadata": {},
   "source": [
    "### Q<sup>T</sup> = Q<sup>-1</sup>"
   ]
  },
  {
   "cell_type": "code",
   "execution_count": null,
   "id": "c1c20878",
   "metadata": {},
   "outputs": [],
   "source": []
  },
  {
   "cell_type": "markdown",
   "id": "d28997cd",
   "metadata": {},
   "source": [
    "Orthogonal matrices are used a lot for linear transformations, such as reflections and\n",
    "permutations. A simple 2 × 2 orthogonal matrix is listed below, which is an example of a\n",
    "reflection matrix or coordinate reflection.\n"
   ]
  },
  {
   "cell_type": "code",
   "execution_count": 14,
   "id": "363199c7",
   "metadata": {},
   "outputs": [
    {
     "name": "stdout",
     "output_type": "stream",
     "text": [
      "[[ 1  0]\n",
      " [ 0 -1]]\n"
     ]
    }
   ],
   "source": [
    "from numpy.linalg import inv\n",
    "\n",
    "#define orthogonal matrix\n",
    "Q = array([[1,0], [0, -1]])\n",
    "\n",
    "print(Q)"
   ]
  },
  {
   "cell_type": "code",
   "execution_count": 16,
   "id": "03d390a5",
   "metadata": {},
   "outputs": [
    {
     "data": {
      "text/plain": [
       "array([[ 1.,  0.],\n",
       "       [-0., -1.]])"
      ]
     },
     "execution_count": 16,
     "metadata": {},
     "output_type": "execute_result"
    }
   ],
   "source": [
    "# inverse equivalence\n",
    "V=inv(Q)\n",
    "V"
   ]
  },
  {
   "cell_type": "code",
   "execution_count": 17,
   "id": "3b4a7ae8",
   "metadata": {},
   "outputs": [
    {
     "data": {
      "text/plain": [
       "array([[ 1,  0],\n",
       "       [ 0, -1]])"
      ]
     },
     "execution_count": 17,
     "metadata": {},
     "output_type": "execute_result"
    }
   ],
   "source": [
    "Q.T"
   ]
  },
  {
   "cell_type": "code",
   "execution_count": 18,
   "id": "a9901e5a",
   "metadata": {},
   "outputs": [
    {
     "name": "stdout",
     "output_type": "stream",
     "text": [
      "[[1 0]\n",
      " [0 1]]\n"
     ]
    }
   ],
   "source": [
    "# identity equivaence\n",
    "I = Q.dot(Q.T)\n",
    "print(I)"
   ]
  },
  {
   "cell_type": "code",
   "execution_count": null,
   "id": "46c909c4",
   "metadata": {},
   "outputs": [],
   "source": []
  },
  {
   "cell_type": "code",
   "execution_count": null,
   "id": "8f144a0a",
   "metadata": {},
   "outputs": [],
   "source": []
  },
  {
   "cell_type": "markdown",
   "id": "0cffc090",
   "metadata": {},
   "source": [
    "#### numpy.diag"
   ]
  },
  {
   "cell_type": "code",
   "execution_count": 21,
   "id": "d5b74f1d",
   "metadata": {},
   "outputs": [
    {
     "data": {
      "text/plain": [
       "array([[0, 1, 2],\n",
       "       [3, 4, 5],\n",
       "       [6, 7, 8]])"
      ]
     },
     "execution_count": 21,
     "metadata": {},
     "output_type": "execute_result"
    }
   ],
   "source": [
    "import numpy as np\n",
    "\n",
    "x = np.arange(9).reshape((3,3))\n",
    "x"
   ]
  },
  {
   "cell_type": "code",
   "execution_count": 22,
   "id": "f2e87ca7",
   "metadata": {},
   "outputs": [
    {
     "data": {
      "text/plain": [
       "array([0, 4, 8])"
      ]
     },
     "execution_count": 22,
     "metadata": {},
     "output_type": "execute_result"
    }
   ],
   "source": [
    "np.diag(x)"
   ]
  },
  {
   "cell_type": "code",
   "execution_count": 23,
   "id": "c259361e",
   "metadata": {},
   "outputs": [
    {
     "data": {
      "text/plain": [
       "array([1, 5])"
      ]
     },
     "execution_count": 23,
     "metadata": {},
     "output_type": "execute_result"
    }
   ],
   "source": [
    "np.diag(x, k=1)"
   ]
  },
  {
   "cell_type": "code",
   "execution_count": 24,
   "id": "5189e398",
   "metadata": {},
   "outputs": [
    {
     "data": {
      "text/plain": [
       "array([3, 7])"
      ]
     },
     "execution_count": 24,
     "metadata": {},
     "output_type": "execute_result"
    }
   ],
   "source": [
    "np.diag(x, k=-1)"
   ]
  },
  {
   "cell_type": "code",
   "execution_count": 25,
   "id": "a8c8df93",
   "metadata": {},
   "outputs": [
    {
     "data": {
      "text/plain": [
       "array([2])"
      ]
     },
     "execution_count": 25,
     "metadata": {},
     "output_type": "execute_result"
    }
   ],
   "source": [
    "np.diag(x, k=2)"
   ]
  },
  {
   "cell_type": "code",
   "execution_count": 27,
   "id": "a5d17eda",
   "metadata": {},
   "outputs": [
    {
     "data": {
      "text/plain": [
       "array([[0, 0, 0],\n",
       "       [0, 4, 0],\n",
       "       [0, 0, 8]])"
      ]
     },
     "execution_count": 27,
     "metadata": {},
     "output_type": "execute_result"
    }
   ],
   "source": [
    "np.diag(np.diag(x))"
   ]
  },
  {
   "cell_type": "code",
   "execution_count": null,
   "id": "2116f8da",
   "metadata": {},
   "outputs": [],
   "source": []
  }
 ],
 "metadata": {
  "kernelspec": {
   "display_name": "Python 3",
   "language": "python",
   "name": "python3"
  },
  "language_info": {
   "codemirror_mode": {
    "name": "ipython",
    "version": 3
   },
   "file_extension": ".py",
   "mimetype": "text/x-python",
   "name": "python",
   "nbconvert_exporter": "python",
   "pygments_lexer": "ipython3",
   "version": "3.8.8"
  }
 },
 "nbformat": 4,
 "nbformat_minor": 5
}
