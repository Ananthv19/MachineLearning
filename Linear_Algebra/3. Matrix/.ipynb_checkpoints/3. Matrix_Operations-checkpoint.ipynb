{
 "cells": [
  {
   "cell_type": "markdown",
   "id": "15811807",
   "metadata": {},
   "source": [
    "## 3.1 Transpose"
   ]
  },
  {
   "cell_type": "code",
   "execution_count": 2,
   "id": "44cac0f8",
   "metadata": {},
   "outputs": [
    {
     "name": "stdout",
     "output_type": "stream",
     "text": [
      "[[1 2]\n",
      " [3 4]\n",
      " [5 6]]\n"
     ]
    },
    {
     "data": {
      "text/plain": [
       "array([[1, 3, 5],\n",
       "       [2, 4, 6]])"
      ]
     },
     "execution_count": 2,
     "metadata": {},
     "output_type": "execute_result"
    }
   ],
   "source": [
    "from numpy import array\n",
    "\n",
    "# transpose matrix\n",
    "A = array([[1,2], [3,4], [5,6]])\n",
    "print(A)\n",
    "\n",
    "#tanspose\n",
    "C = A.T\n",
    "C"
   ]
  },
  {
   "cell_type": "code",
   "execution_count": null,
   "id": "96bbf149",
   "metadata": {},
   "outputs": [],
   "source": []
  },
  {
   "cell_type": "code",
   "execution_count": null,
   "id": "dc072d49",
   "metadata": {},
   "outputs": [],
   "source": []
  },
  {
   "cell_type": "markdown",
   "id": "bde3a23c",
   "metadata": {},
   "source": [
    "## 3.2 Inverse\n",
    "\n",
    "Matrix inversion is a process that finds another matrix that when multiplied with the matrix, results in an identity matrix. Given a matrix A, find matrix B, such that <br> \n",
    "AB = I<sup>n</sup> or BA = I<sup>n</sup>."
   ]
  },
  {
   "cell_type": "code",
   "execution_count": 4,
   "id": "bcfbffdd",
   "metadata": {},
   "outputs": [
    {
     "name": "stdout",
     "output_type": "stream",
     "text": [
      "[[1. 2.]\n",
      " [3. 4.]]\n",
      "[[-2.   1. ]\n",
      " [ 1.5 -0.5]]\n",
      "[[1.00000000e+00 1.11022302e-16]\n",
      " [0.00000000e+00 1.00000000e+00]]\n"
     ]
    }
   ],
   "source": [
    "from numpy.linalg import inv\n",
    "\n",
    "#define matrix\n",
    "A = array([[1.0, 2.0],\n",
    "           [3.0, 4.0]])\n",
    "print(A)\n",
    "\n",
    "#invert matrix\n",
    "B=inv(A)\n",
    "print(B)\n",
    "\n",
    "# multiply A and B\n",
    "I = A.dot(B)\n",
    "print(I)"
   ]
  },
  {
   "cell_type": "code",
   "execution_count": null,
   "id": "d406f5f6",
   "metadata": {},
   "outputs": [],
   "source": []
  },
  {
   "cell_type": "code",
   "execution_count": null,
   "id": "e316df8e",
   "metadata": {},
   "outputs": [],
   "source": []
  },
  {
   "cell_type": "markdown",
   "id": "b34d6527",
   "metadata": {},
   "source": [
    "## 3.2 Trace"
   ]
  },
  {
   "cell_type": "code",
   "execution_count": null,
   "id": "bf9a1a59",
   "metadata": {},
   "outputs": [],
   "source": []
  },
  {
   "cell_type": "code",
   "execution_count": null,
   "id": "3a7065c2",
   "metadata": {},
   "outputs": [],
   "source": []
  }
 ],
 "metadata": {
  "kernelspec": {
   "display_name": "Python 3",
   "language": "python",
   "name": "python3"
  },
  "language_info": {
   "codemirror_mode": {
    "name": "ipython",
    "version": 3
   },
   "file_extension": ".py",
   "mimetype": "text/x-python",
   "name": "python",
   "nbconvert_exporter": "python",
   "pygments_lexer": "ipython3",
   "version": "3.8.8"
  }
 },
 "nbformat": 4,
 "nbformat_minor": 5
}
