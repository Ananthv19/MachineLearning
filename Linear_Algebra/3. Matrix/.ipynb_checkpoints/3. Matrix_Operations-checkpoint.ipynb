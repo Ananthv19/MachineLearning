{
 "cells": [
  {
   "cell_type": "markdown",
   "id": "15811807",
   "metadata": {},
   "source": [
    "## 3.1 Transpose"
   ]
  },
  {
   "cell_type": "code",
   "execution_count": 1,
   "id": "44cac0f8",
   "metadata": {},
   "outputs": [
    {
     "name": "stdout",
     "output_type": "stream",
     "text": [
      "[[1 2]\n",
      " [3 4]\n",
      " [5 6]]\n"
     ]
    },
    {
     "data": {
      "text/plain": [
       "array([[1, 3, 5],\n",
       "       [2, 4, 6]])"
      ]
     },
     "execution_count": 1,
     "metadata": {},
     "output_type": "execute_result"
    }
   ],
   "source": [
    "from numpy import array\n",
    "\n",
    "# transpose matrix\n",
    "A = array([[1,2], [3,4], [5,6]])\n",
    "print(A)\n",
    "\n",
    "#tanspose\n",
    "C = A.T\n",
    "C"
   ]
  },
  {
   "cell_type": "code",
   "execution_count": null,
   "id": "96bbf149",
   "metadata": {},
   "outputs": [],
   "source": []
  },
  {
   "cell_type": "code",
   "execution_count": null,
   "id": "dc072d49",
   "metadata": {},
   "outputs": [],
   "source": []
  },
  {
   "cell_type": "markdown",
   "id": "bde3a23c",
   "metadata": {},
   "source": [
    "## 3.2 Inverse\n",
    "\n",
    "Matrix inversion is a process that finds another matrix that when multiplied with the matrix, results in an identity matrix. Given a matrix A, find matrix B, such that <br> \n",
    "AB = I<sup>n</sup> or BA = I<sup>n</sup>."
   ]
  },
  {
   "cell_type": "code",
   "execution_count": 2,
   "id": "bcfbffdd",
   "metadata": {},
   "outputs": [
    {
     "name": "stdout",
     "output_type": "stream",
     "text": [
      "[[1. 2.]\n",
      " [3. 4.]]\n",
      "[[-2.   1. ]\n",
      " [ 1.5 -0.5]]\n",
      "[[1.00000000e+00 1.11022302e-16]\n",
      " [0.00000000e+00 1.00000000e+00]]\n"
     ]
    }
   ],
   "source": [
    "from numpy.linalg import inv\n",
    "\n",
    "#define matrix\n",
    "A = array([[1.0, 2.0],\n",
    "           [3.0, 4.0]])\n",
    "print(A)\n",
    "\n",
    "#invert matrix\n",
    "B=inv(A)\n",
    "print(B)\n",
    "\n",
    "# multiply A and B\n",
    "I = A.dot(B)\n",
    "print(I)"
   ]
  },
  {
   "cell_type": "code",
   "execution_count": null,
   "id": "d406f5f6",
   "metadata": {},
   "outputs": [],
   "source": []
  },
  {
   "cell_type": "code",
   "execution_count": null,
   "id": "e316df8e",
   "metadata": {},
   "outputs": [],
   "source": []
  },
  {
   "cell_type": "markdown",
   "id": "b34d6527",
   "metadata": {},
   "source": [
    "## 3.3 Trace\n",
    "\n",
    "A trace of a square matrix is the sum of the values on the main diagonal of the matrix (top-left\n",
    "to bottom-right).\n"
   ]
  },
  {
   "cell_type": "code",
   "execution_count": 3,
   "id": "bf9a1a59",
   "metadata": {},
   "outputs": [],
   "source": [
    "from numpy import trace"
   ]
  },
  {
   "cell_type": "code",
   "execution_count": 4,
   "id": "3a7065c2",
   "metadata": {},
   "outputs": [],
   "source": [
    "A = array([\n",
    "[1, 2, 3],\n",
    "[4, 5, 6],\n",
    "[7, 8, 9]])"
   ]
  },
  {
   "cell_type": "code",
   "execution_count": 5,
   "id": "a800474c",
   "metadata": {},
   "outputs": [
    {
     "data": {
      "text/plain": [
       "array([[1, 2, 3],\n",
       "       [4, 5, 6],\n",
       "       [7, 8, 9]])"
      ]
     },
     "execution_count": 5,
     "metadata": {},
     "output_type": "execute_result"
    }
   ],
   "source": [
    "A"
   ]
  },
  {
   "cell_type": "code",
   "execution_count": 6,
   "id": "d448c47e",
   "metadata": {},
   "outputs": [
    {
     "data": {
      "text/plain": [
       "15"
      ]
     },
     "execution_count": 6,
     "metadata": {},
     "output_type": "execute_result"
    }
   ],
   "source": [
    "# Calculate Trace\n",
    "B = trace(A)\n",
    "B"
   ]
  },
  {
   "cell_type": "code",
   "execution_count": null,
   "id": "a5068934",
   "metadata": {},
   "outputs": [],
   "source": []
  },
  {
   "cell_type": "code",
   "execution_count": null,
   "id": "dd93a4e7",
   "metadata": {},
   "outputs": [],
   "source": []
  },
  {
   "cell_type": "markdown",
   "id": "e5151678",
   "metadata": {},
   "source": [
    "## 3.4 Determinant\n",
    "\n",
    "The determinant of a square matrix is a scalar representation of the volume of the matrix\n",
    "\n",
    "The determinant describes the relative geometry of the vectors that make up the rows of the matrix. More specifically, the determinant of a matrix A tells you the volume of a box with sides given by rows of A."
   ]
  },
  {
   "cell_type": "markdown",
   "id": "c8f6124b",
   "metadata": {},
   "source": [
    "the determinant is the product of all the eigenvalues of the matrix."
   ]
  },
  {
   "cell_type": "markdown",
   "id": "a3844ef8",
   "metadata": {},
   "source": [
    "The determinant of a square matrix is a single number. [...] It tells immediately\n",
    "whether the matrix is invertible. The determinant is a zero when the matrix has no\n",
    "inverse."
   ]
  },
  {
   "cell_type": "code",
   "execution_count": 10,
   "id": "c0bc814a",
   "metadata": {},
   "outputs": [
    {
     "name": "stdout",
     "output_type": "stream",
     "text": [
      "[[1 2 3]\n",
      " [4 5 6]\n",
      " [7 8 9]]\n",
      "-9.51619735392994e-16\n"
     ]
    }
   ],
   "source": [
    "from numpy.linalg import det\n",
    "\n",
    "print(A)\n",
    "\n",
    "# calculating Determinant\n",
    "B = det(A)\n",
    "print(B)"
   ]
  },
  {
   "cell_type": "code",
   "execution_count": 11,
   "id": "17b47fa7",
   "metadata": {},
   "outputs": [],
   "source": [
    "c = det([[1,2], [3,4]])"
   ]
  },
  {
   "cell_type": "code",
   "execution_count": 12,
   "id": "3a71c12b",
   "metadata": {},
   "outputs": [
    {
     "data": {
      "text/plain": [
       "-2.0000000000000004"
      ]
     },
     "execution_count": 12,
     "metadata": {},
     "output_type": "execute_result"
    }
   ],
   "source": [
    "c"
   ]
  },
  {
   "cell_type": "code",
   "execution_count": null,
   "id": "75aa32d4",
   "metadata": {},
   "outputs": [],
   "source": []
  },
  {
   "cell_type": "code",
   "execution_count": null,
   "id": "62065bf6",
   "metadata": {},
   "outputs": [],
   "source": []
  },
  {
   "cell_type": "markdown",
   "id": "57d66837",
   "metadata": {},
   "source": [
    "## 3.5 Rank\n",
    "\n",
    "The rank of a matrix is the estimate of the number of linearly independent rows or columns in a matrix."
   ]
  },
  {
   "cell_type": "markdown",
   "id": "2ced630c",
   "metadata": {},
   "source": [
    "The rank of a matrix is the estimate of the number of linearly independent rows or columns in a matrix."
   ]
  },
  {
   "cell_type": "code",
   "execution_count": 16,
   "id": "8ef68467",
   "metadata": {},
   "outputs": [
    {
     "name": "stdout",
     "output_type": "stream",
     "text": [
      "[1 2 3]\n"
     ]
    },
    {
     "data": {
      "text/plain": [
       "1"
      ]
     },
     "execution_count": 16,
     "metadata": {},
     "output_type": "execute_result"
    }
   ],
   "source": [
    "# vector rank\n",
    "from numpy.linalg  import matrix_rank\n",
    "\n",
    "#rank\n",
    "v1 = array([1,2,3])   #line\n",
    "print(v1)\n",
    "matrix_rank(v1)"
   ]
  },
  {
   "cell_type": "code",
   "execution_count": 17,
   "id": "023061b0",
   "metadata": {},
   "outputs": [
    {
     "name": "stdout",
     "output_type": "stream",
     "text": [
      "[0 0 0 0 0]\n"
     ]
    },
    {
     "data": {
      "text/plain": [
       "0"
      ]
     },
     "execution_count": 17,
     "metadata": {},
     "output_type": "execute_result"
    }
   ],
   "source": [
    "v2 = array([0,0,0,0,0])   #point\n",
    "print(v2)\n",
    "matrix_rank(v2)"
   ]
  },
  {
   "cell_type": "code",
   "execution_count": null,
   "id": "475424e5",
   "metadata": {},
   "outputs": [],
   "source": []
  },
  {
   "cell_type": "code",
   "execution_count": null,
   "id": "92e3cf2e",
   "metadata": {},
   "outputs": [],
   "source": []
  },
  {
   "cell_type": "code",
   "execution_count": 19,
   "id": "c30d89f4",
   "metadata": {},
   "outputs": [
    {
     "name": "stdout",
     "output_type": "stream",
     "text": [
      "[[0 0]\n",
      " [0 0]]\n"
     ]
    },
    {
     "data": {
      "text/plain": [
       "0"
      ]
     },
     "execution_count": 19,
     "metadata": {},
     "output_type": "execute_result"
    }
   ],
   "source": [
    "#rank 0\n",
    "M0 = array([[0,0], [0,0]])\n",
    "print(M0)\n",
    "\n",
    "matrix_rank(M0)"
   ]
  },
  {
   "cell_type": "code",
   "execution_count": 21,
   "id": "c1c5f8ce",
   "metadata": {},
   "outputs": [
    {
     "name": "stdout",
     "output_type": "stream",
     "text": [
      "[[1 2]\n",
      " [1 2]]\n"
     ]
    },
    {
     "data": {
      "text/plain": [
       "1"
      ]
     },
     "execution_count": 21,
     "metadata": {},
     "output_type": "execute_result"
    }
   ],
   "source": [
    "#rank 1\n",
    "M1 = array([[1,2], [1,2]])\n",
    "print(M1)\n",
    "matrix_rank(M1)"
   ]
  },
  {
   "cell_type": "code",
   "execution_count": 22,
   "id": "2d4ae1ee",
   "metadata": {},
   "outputs": [
    {
     "name": "stdout",
     "output_type": "stream",
     "text": [
      "[[1 2]\n",
      " [3 4]]\n"
     ]
    },
    {
     "data": {
      "text/plain": [
       "2"
      ]
     },
     "execution_count": 22,
     "metadata": {},
     "output_type": "execute_result"
    }
   ],
   "source": [
    "# rank 2\n",
    "M2 = array([[1,2], [3,4]])\n",
    "print(M2)\n",
    "matrix_rank(M2)"
   ]
  },
  {
   "cell_type": "code",
   "execution_count": null,
   "id": "05202551",
   "metadata": {},
   "outputs": [],
   "source": []
  },
  {
   "cell_type": "code",
   "execution_count": 25,
   "id": "72c81bbb",
   "metadata": {},
   "outputs": [
    {
     "data": {
      "text/plain": [
       "2"
      ]
     },
     "execution_count": 25,
     "metadata": {},
     "output_type": "execute_result"
    }
   ],
   "source": [
    "A = array([\n",
    "[1, 2, 3],\n",
    "[4, 5, 6],\n",
    "[7, 8, 9]])\n",
    "\n",
    "matrix_rank(A)"
   ]
  },
  {
   "cell_type": "code",
   "execution_count": null,
   "id": "c2f581f4",
   "metadata": {},
   "outputs": [],
   "source": []
  }
 ],
 "metadata": {
  "kernelspec": {
   "display_name": "Python 3",
   "language": "python",
   "name": "python3"
  },
  "language_info": {
   "codemirror_mode": {
    "name": "ipython",
    "version": 3
   },
   "file_extension": ".py",
   "mimetype": "text/x-python",
   "name": "python",
   "nbconvert_exporter": "python",
   "pygments_lexer": "ipython3",
   "version": "3.8.8"
  }
 },
 "nbformat": 4,
 "nbformat_minor": 5
}
