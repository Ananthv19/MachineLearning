{
 "cells": [
  {
   "cell_type": "markdown",
   "id": "e44a87f9",
   "metadata": {},
   "source": [
    "#### Matrices that contain mostly zero values are called sparse, distinct from matrices where most of the values are non-zero, called dense"
   ]
  },
  {
   "cell_type": "code",
   "execution_count": null,
   "id": "9fbf57bd",
   "metadata": {},
   "outputs": [],
   "source": []
  },
  {
   "cell_type": "code",
   "execution_count": null,
   "id": "e7abb39a",
   "metadata": {},
   "outputs": [],
   "source": []
  },
  {
   "cell_type": "markdown",
   "id": "e7f00c16",
   "metadata": {},
   "source": [
    "The sparsity of a matrix can be quantified with a score, which is the number of zero values\n",
    "in the matrix divided by the total number of elements in the matrix."
   ]
  },
  {
   "cell_type": "code",
   "execution_count": null,
   "id": "bc64d729",
   "metadata": {},
   "outputs": [],
   "source": []
  },
  {
   "cell_type": "code",
   "execution_count": 2,
   "id": "06112217",
   "metadata": {},
   "outputs": [
    {
     "name": "stdout",
     "output_type": "stream",
     "text": [
      "[[1 0 0 1 0 0]\n",
      " [0 0 2 0 0 1]\n",
      " [0 0 0 2 0 0]]\n",
      "  (0, 0)\t1\n",
      "  (0, 3)\t1\n",
      "  (1, 2)\t2\n",
      "  (1, 5)\t1\n",
      "  (2, 3)\t2\n",
      "[[1 0 0 1 0 0]\n",
      " [0 0 2 0 0 1]\n",
      " [0 0 0 2 0 0]]\n"
     ]
    }
   ],
   "source": [
    "#sparse matrix\n",
    "from numpy import array\n",
    "from scipy.sparse import csr_matrix\n",
    "\n",
    "#create dense matrix\n",
    "\n",
    "A=array([\n",
    "    [1,0,0,1,0,0],\n",
    "    [0,0,2,0,0,1],\n",
    "    [0,0,0,2,0,0]])\n",
    "\n",
    "print(A)\n",
    "\n",
    "#convert to sparse matrix (CSR method)\n",
    "S=csr_matrix(A)\n",
    "print(S)\n",
    "\n",
    "# reconstruct dense matrix\n",
    "B=S.todense()\n",
    "print(B)"
   ]
  },
  {
   "cell_type": "code",
   "execution_count": null,
   "id": "c0176242",
   "metadata": {},
   "outputs": [],
   "source": []
  },
  {
   "cell_type": "code",
   "execution_count": null,
   "id": "c3360408",
   "metadata": {},
   "outputs": [],
   "source": []
  },
  {
   "cell_type": "code",
   "execution_count": 3,
   "id": "4dde2189",
   "metadata": {},
   "outputs": [],
   "source": [
    "## NumPy does not provide a function to calculate the sparsity of a matrix.\n",
    "## sparsity of a matrix = number of zero values in the matrix divided by the total number of elements in the matrix"
   ]
  },
  {
   "cell_type": "code",
   "execution_count": null,
   "id": "94560060",
   "metadata": {},
   "outputs": [],
   "source": []
  },
  {
   "cell_type": "markdown",
   "id": "ae8c185d",
   "metadata": {},
   "source": [
    "## sparsity = 1.0 - count_nonzero(A) / A.size"
   ]
  },
  {
   "cell_type": "code",
   "execution_count": 5,
   "id": "4bab935b",
   "metadata": {},
   "outputs": [
    {
     "name": "stdout",
     "output_type": "stream",
     "text": [
      "[[1 0 0 1 0 0]\n",
      " [0 0 2 0 0 1]\n",
      " [0 0 0 2 0 0]]\n",
      "0.7222222222222222\n"
     ]
    }
   ],
   "source": [
    "# sparsity calculation\n",
    "from numpy import array\n",
    "from numpy import count_nonzero\n",
    "\n",
    "#create dense matrix\n",
    "\n",
    "print(A)\n",
    "\n",
    "#calculate sparsity\n",
    "sparsity = 1.0 - count_nonzero(A)/A.size\n",
    "print(sparsity)"
   ]
  },
  {
   "cell_type": "code",
   "execution_count": null,
   "id": "d989b25c",
   "metadata": {},
   "outputs": [],
   "source": []
  },
  {
   "cell_type": "code",
   "execution_count": null,
   "id": "e18310c8",
   "metadata": {},
   "outputs": [],
   "source": []
  }
 ],
 "metadata": {
  "kernelspec": {
   "display_name": "Python 3",
   "language": "python",
   "name": "python3"
  },
  "language_info": {
   "codemirror_mode": {
    "name": "ipython",
    "version": 3
   },
   "file_extension": ".py",
   "mimetype": "text/x-python",
   "name": "python",
   "nbconvert_exporter": "python",
   "pygments_lexer": "ipython3",
   "version": "3.8.8"
  }
 },
 "nbformat": 4,
 "nbformat_minor": 5
}
