{
 "cells": [
  {
   "cell_type": "markdown",
   "id": "961df36b",
   "metadata": {},
   "source": [
    "#### Matrix decompositions are methods that reduce a matrix into constituent parts that make it easier to calculate more complex matrix operations."
   ]
  },
  {
   "cell_type": "markdown",
   "id": "9baaf6a8",
   "metadata": {},
   "source": [
    "Matrix decomposition\n",
    "methods, also called matrix factorization methods, are a foundation of linear algebra in computers,\n",
    "even for basic operations such as solving systems of linear equations, calculating the inverse, and\n",
    "calculating the determinant of a matrix."
   ]
  },
  {
   "cell_type": "code",
   "execution_count": null,
   "id": "9b6ca9e5",
   "metadata": {},
   "outputs": [],
   "source": []
  },
  {
   "cell_type": "markdown",
   "id": "9253182d",
   "metadata": {},
   "source": [
    "## 1.1 LU Decomposition\n",
    "\n",
    "A = L.U\n",
    "\n",
    "where A:- the square matrix\n",
    "      L:- the lower triangle matrix\n",
    "      U:- the upper triangle matrix."
   ]
  },
  {
   "cell_type": "code",
   "execution_count": null,
   "id": "38287d01",
   "metadata": {},
   "outputs": [],
   "source": []
  },
  {
   "cell_type": "markdown",
   "id": "70a2f032",
   "metadata": {},
   "source": [
    "A variation of this decomposition that is numerically more stable to solve in practice is called the LUP decomposition, or the LU decomposition with partial pivoting.\n",
    "\n",
    "A = L.U.P\n",
    "P:- "
   ]
  },
  {
   "cell_type": "code",
   "execution_count": 1,
   "id": "9a889ec2",
   "metadata": {
    "scrolled": true
   },
   "outputs": [
    {
     "name": "stdout",
     "output_type": "stream",
     "text": [
      "[[1 2 3]\n",
      " [4 5 6]\n",
      " [7 8 9]]\n",
      "[[0. 1. 0.]\n",
      " [0. 0. 1.]\n",
      " [1. 0. 0.]]\n",
      "[[1.         0.         0.        ]\n",
      " [0.14285714 1.         0.        ]\n",
      " [0.57142857 0.5        1.        ]]\n",
      "[[ 7.00000000e+00  8.00000000e+00  9.00000000e+00]\n",
      " [ 0.00000000e+00  8.57142857e-01  1.71428571e+00]\n",
      " [ 0.00000000e+00  0.00000000e+00 -1.58603289e-16]]\n",
      "[[1. 2. 3.]\n",
      " [4. 5. 6.]\n",
      " [7. 8. 9.]]\n"
     ]
    }
   ],
   "source": [
    "# LU decomposition\n",
    "from numpy import array\n",
    "from scipy.linalg import lu\n",
    "\n",
    "# square matrix\n",
    "A = array([\n",
    "    [1, 2, 3],\n",
    "    [4, 5, 6],\n",
    "    [7, 8, 9]])\n",
    "\n",
    "print(A)\n",
    "\n",
    "# factorize\n",
    "P, L, U = lu(A)\n",
    "print(P)\n",
    "print(L)\n",
    "print(U)\n",
    "\n",
    "#reconstruct\n",
    "B = P.dot(L).dot(U)\n",
    "print(B)"
   ]
  },
  {
   "cell_type": "code",
   "execution_count": null,
   "id": "a99c20cf",
   "metadata": {},
   "outputs": [],
   "source": []
  },
  {
   "cell_type": "code",
   "execution_count": null,
   "id": "b11f2ef0",
   "metadata": {},
   "outputs": [],
   "source": []
  },
  {
   "cell_type": "markdown",
   "id": "5a3246ad",
   "metadata": {},
   "source": [
    "## 1.2 QR Decomposition"
   ]
  },
  {
   "cell_type": "markdown",
   "id": "312c834b",
   "metadata": {},
   "source": [
    "The QR decomposition is for n × m matrices (not limited to square matrices) and decomposes\n",
    "a matrix into Q and R components."
   ]
  },
  {
   "cell_type": "markdown",
   "id": "a28f6f67",
   "metadata": {},
   "source": [
    "A = Q · R "
   ]
  },
  {
   "cell_type": "markdown",
   "id": "a728c60c",
   "metadata": {},
   "source": [
    "Where A is the matrix that we wish to decompose, Q a matrix with the size m × m, and R is\n",
    "an upper triangle matrix with the size m × n. The QR decomposition is found using an iterative\n",
    "numerical method that can fail for those matrices that cannot be decomposed, or decomposed\n",
    "easily. Like the LU decomposition, the QR decomposition is often used to solve systems of\n",
    "linear equations, although is not limited to square matrices."
   ]
  },
  {
   "cell_type": "code",
   "execution_count": 5,
   "id": "0fa66c4d",
   "metadata": {},
   "outputs": [
    {
     "name": "stdout",
     "output_type": "stream",
     "text": [
      "[[1 2]\n",
      " [3 4]\n",
      " [5 6]]\n",
      "[[-0.16903085  0.89708523  0.40824829]\n",
      " [-0.50709255  0.27602622 -0.81649658]\n",
      " [-0.84515425 -0.34503278  0.40824829]]\n",
      "[[-5.91607978 -7.43735744]\n",
      " [ 0.          0.82807867]\n",
      " [ 0.          0.        ]]\n",
      "[[1. 2.]\n",
      " [3. 4.]\n",
      " [5. 6.]]\n"
     ]
    }
   ],
   "source": [
    "# QR decomposition\n",
    "\n",
    "from numpy import array\n",
    "from numpy.linalg import qr\n",
    "\n",
    "# define rectangular matrix\n",
    "A = array([\n",
    "    [1, 2],\n",
    "    [3, 4],\n",
    "    [5, 6]])\n",
    "\n",
    "print(A)\n",
    "\n",
    "#factorize\n",
    "Q, R = qr(A, 'complete')\n",
    "print(Q)\n",
    "print(R)\n",
    "\n",
    "#reconstruct\n",
    "\n",
    "B = Q.dot(R)\n",
    "print(B)"
   ]
  },
  {
   "cell_type": "code",
   "execution_count": null,
   "id": "786c0105",
   "metadata": {},
   "outputs": [],
   "source": []
  },
  {
   "cell_type": "code",
   "execution_count": null,
   "id": "56caf7a0",
   "metadata": {},
   "outputs": [],
   "source": []
  },
  {
   "cell_type": "markdown",
   "id": "7f891b34",
   "metadata": {},
   "source": [
    "## 1.3 Cholesky Decomposition"
   ]
  },
  {
   "cell_type": "markdown",
   "id": "42f08abe",
   "metadata": {},
   "source": [
    "The Cholesky decomposition is for square symmetric matrices where all values are greater than zero, so-called positive definite matrices."
   ]
  },
  {
   "cell_type": "markdown",
   "id": "116d329b",
   "metadata": {},
   "source": [
    "A = L.L<sup>T</sup>\n",
    "<br> or <br>\n",
    "A = U.U<sup>T</sup>"
   ]
  },
  {
   "cell_type": "markdown",
   "id": "f0d34c2b",
   "metadata": {},
   "source": [
    "where L is the lower triangular matrix and L<sup>T</sup> is the transpose of L."
   ]
  },
  {
   "cell_type": "code",
   "execution_count": 6,
   "id": "fb7a0b12",
   "metadata": {},
   "outputs": [
    {
     "name": "stdout",
     "output_type": "stream",
     "text": [
      "[[2 1 2]\n",
      " [1 2 1]\n",
      " [1 1 2]]\n",
      "[[1.41421356 0.         0.        ]\n",
      " [0.70710678 1.22474487 0.        ]\n",
      " [0.70710678 0.40824829 1.15470054]]\n",
      "[[2. 1. 1.]\n",
      " [1. 2. 1.]\n",
      " [1. 1. 2.]]\n"
     ]
    }
   ],
   "source": [
    "# cholesky decomposition\n",
    "from numpy.linalg import cholesky\n",
    "\n",
    "# symmetrical matrix\n",
    "\n",
    "A=array([[2,1,2],\n",
    "         [1,2,1],\n",
    "         [1,1,2]])\n",
    "\n",
    "print(A)\n",
    "\n",
    "#factorize\n",
    "L = cholesky(A)\n",
    "print(L)\n",
    "\n",
    "# reconstruct\n",
    "B=L.dot(L.T)\n",
    "print(B)"
   ]
  },
  {
   "cell_type": "code",
   "execution_count": null,
   "id": "779caddf",
   "metadata": {},
   "outputs": [],
   "source": []
  },
  {
   "cell_type": "code",
   "execution_count": 4,
   "id": "8d4e9bc7",
   "metadata": {},
   "outputs": [
    {
     "data": {
      "text/plain": [
       "array([[ 1.+0.j, -0.-2.j],\n",
       "       [ 0.+2.j,  5.+0.j]])"
      ]
     },
     "execution_count": 4,
     "metadata": {},
     "output_type": "execute_result"
    }
   ],
   "source": [
    "A = np.array([[1,-2j],[2j,5]])\n",
    "A"
   ]
  },
  {
   "cell_type": "code",
   "execution_count": 5,
   "id": "3b8ebb4b",
   "metadata": {},
   "outputs": [],
   "source": [
    "L = np.linalg.cholesky(A)"
   ]
  },
  {
   "cell_type": "code",
   "execution_count": 6,
   "id": "ab7e9da9",
   "metadata": {},
   "outputs": [
    {
     "data": {
      "text/plain": [
       "array([[1.+0.j, 0.+0.j],\n",
       "       [0.+2.j, 1.+0.j]])"
      ]
     },
     "execution_count": 6,
     "metadata": {},
     "output_type": "execute_result"
    }
   ],
   "source": [
    "L"
   ]
  },
  {
   "cell_type": "code",
   "execution_count": null,
   "id": "61348b43",
   "metadata": {},
   "outputs": [],
   "source": []
  },
  {
   "cell_type": "code",
   "execution_count": null,
   "id": "eed4711d",
   "metadata": {},
   "outputs": [],
   "source": []
  },
  {
   "cell_type": "code",
   "execution_count": 2,
   "id": "76898fe5",
   "metadata": {},
   "outputs": [
    {
     "name": "stdout",
     "output_type": "stream",
     "text": [
      "[[ 0.06858457 -0.37619781 -0.07233413  0.02307353 -0.97836963  0.09028585]\n",
      " [-1.57665461  0.94158667  0.58166653  0.29713299 -0.63477234  1.90405164]\n",
      " [-0.13982739  2.17387262 -1.03673909  0.65102143  0.69090307  0.18816731]\n",
      " [ 0.94094325  2.17047681 -1.23101137  1.24446061 -0.9776402   0.04021565]\n",
      " [ 1.1827741  -1.16744083 -0.8664867   0.70146739  0.29023714 -0.79777224]\n",
      " [-0.51388965 -0.37167475 -0.45728795 -1.62000446  0.91791281 -2.04143351]\n",
      " [ 0.97302945  0.67393625  1.74109075 -0.4876927   0.26403862  0.63721187]\n",
      " [ 0.49861991 -0.57048562  0.05566542  0.47575775  0.01033172  0.61924531]\n",
      " [-0.06008644  1.19204306  1.10000928 -0.01649523 -0.36309462 -0.10077399]]\n"
     ]
    }
   ],
   "source": [
    "import numpy as np\n",
    "\n",
    "a= np.random.randn(9, 6)\n",
    "print(a)"
   ]
  },
  {
   "cell_type": "code",
   "execution_count": 11,
   "id": "c73153e0",
   "metadata": {},
   "outputs": [],
   "source": [
    "q, r = np.linalg.qr(a)"
   ]
  },
  {
   "cell_type": "code",
   "execution_count": 12,
   "id": "878e1709",
   "metadata": {},
   "outputs": [
    {
     "data": {
      "text/plain": [
       "array([[-0.3322732 , -0.07672056, -0.00549582, -0.27758158, -0.37406854,\n",
       "         0.01102795],\n",
       "       [-0.43846592, -0.29453402,  0.03779968, -0.4683623 ,  0.10288891,\n",
       "         0.44842422],\n",
       "       [-0.07478883, -0.25090279, -0.30914198, -0.45104857,  0.20003805,\n",
       "        -0.22623488],\n",
       "       [ 0.05439914,  0.50875332,  0.47334909, -0.1720553 ,  0.04941352,\n",
       "         0.11056496],\n",
       "       [ 0.50903695, -0.51193751,  0.05833594, -0.09019337, -0.47168549,\n",
       "        -0.19454735],\n",
       "       [-0.43988557, -0.36986836,  0.23467115,  0.43747819,  0.34373044,\n",
       "        -0.42611046],\n",
       "       [-0.25864306, -0.10744483, -0.15951047,  0.50254721, -0.43122509,\n",
       "         0.48784189],\n",
       "       [ 0.2724912 , -0.41439798,  0.57495127,  0.01776177,  0.25805307,\n",
       "         0.39712697],\n",
       "       [ 0.30825948, -0.05855616, -0.51422434,  0.1347078 ,  0.4624342 ,\n",
       "         0.34679813]])"
      ]
     },
     "execution_count": 12,
     "metadata": {},
     "output_type": "execute_result"
    }
   ],
   "source": [
    "q"
   ]
  },
  {
   "cell_type": "code",
   "execution_count": 13,
   "id": "0088c7fb",
   "metadata": {},
   "outputs": [
    {
     "data": {
      "text/plain": [
       "array([[ 2.8740027 , -0.38696902,  0.350633  , -0.69949445,  0.33636411,\n",
       "        -1.51355363],\n",
       "       [ 0.        ,  2.71305052, -1.43311617, -0.97714625, -1.16787123,\n",
       "        -2.40259554],\n",
       "       [ 0.        ,  0.        ,  2.56747122, -1.35443367,  0.47558895,\n",
       "        -0.10339457],\n",
       "       [ 0.        ,  0.        ,  0.        ,  4.47350242,  0.1636203 ,\n",
       "         1.69484992],\n",
       "       [ 0.        ,  0.        ,  0.        ,  0.        ,  2.69903581,\n",
       "         1.48009136],\n",
       "       [ 0.        ,  0.        ,  0.        ,  0.        ,  0.        ,\n",
       "        -1.82096923]])"
      ]
     },
     "execution_count": 13,
     "metadata": {},
     "output_type": "execute_result"
    }
   ],
   "source": [
    "r"
   ]
  },
  {
   "cell_type": "code",
   "execution_count": 14,
   "id": "b5aba6e7",
   "metadata": {},
   "outputs": [
    {
     "data": {
      "text/plain": [
       "True"
      ]
     },
     "execution_count": 14,
     "metadata": {},
     "output_type": "execute_result"
    }
   ],
   "source": [
    "np.allclose(a, np.dot(q, r))"
   ]
  },
  {
   "cell_type": "code",
   "execution_count": 16,
   "id": "29e9a9df",
   "metadata": {},
   "outputs": [
    {
     "data": {
      "text/plain": [
       "array([[ 2.8740027 , -0.38696902,  0.350633  , -0.69949445,  0.33636411,\n",
       "        -1.51355363],\n",
       "       [ 0.        ,  2.71305052, -1.43311617, -0.97714625, -1.16787123,\n",
       "        -2.40259554],\n",
       "       [ 0.        ,  0.        ,  2.56747122, -1.35443367,  0.47558895,\n",
       "        -0.10339457],\n",
       "       [ 0.        ,  0.        ,  0.        ,  4.47350242,  0.1636203 ,\n",
       "         1.69484992],\n",
       "       [ 0.        ,  0.        ,  0.        ,  0.        ,  2.69903581,\n",
       "         1.48009136],\n",
       "       [ 0.        ,  0.        ,  0.        ,  0.        ,  0.        ,\n",
       "        -1.82096923]])"
      ]
     },
     "execution_count": 16,
     "metadata": {},
     "output_type": "execute_result"
    }
   ],
   "source": [
    "r2 = np.linalg.qr(a, mode='r')\n",
    "r2"
   ]
  },
  {
   "cell_type": "code",
   "execution_count": 19,
   "id": "91bb7879",
   "metadata": {},
   "outputs": [
    {
     "name": "stdout",
     "output_type": "stream",
     "text": [
      "[[ 2.8740027  -0.38696902  0.350633   -0.69949445  0.33636411 -1.51355363]\n",
      " [ 0.32911112  2.71305052 -1.43311617 -0.97714625 -1.16787123 -2.40259554]\n",
      " [ 0.05613626  0.19427953  2.56747122 -1.35443367  0.47558895 -0.10339457]\n",
      " [-0.04083182 -0.39835097 -0.37135748  4.47350242  0.1636203   1.69484992]\n",
      " [-0.3820815   0.42642217 -0.02988631  0.03154685  2.69903581  1.48009136]\n",
      " [ 0.3301767   0.27144194 -0.1714618  -0.3878235  -0.2979119  -1.82096923]\n",
      " [ 0.19413665  0.07291553  0.12254318 -0.42798185  0.18431986 -0.38544908]\n",
      " [-0.20453102  0.33884424 -0.42566955  0.04458341 -0.10042556 -0.04108868]\n",
      " [-0.23137858  0.06011864  0.39336568 -0.16050305 -0.18876544 -0.2410044 ]]\n"
     ]
    },
    {
     "name": "stderr",
     "output_type": "stream",
     "text": [
      "<ipython-input-19-cf355f26fd29>:1: DeprecationWarning: The 'economic' option is deprecated.\n",
      "  r3 = np.linalg.qr(a, mode='economic')\n"
     ]
    }
   ],
   "source": [
    "r3 = np.linalg.qr(a, mode='economic')\n",
    "print(r3)"
   ]
  },
  {
   "cell_type": "code",
   "execution_count": 21,
   "id": "06674952",
   "metadata": {},
   "outputs": [
    {
     "data": {
      "text/plain": [
       "True"
      ]
     },
     "execution_count": 21,
     "metadata": {},
     "output_type": "execute_result"
    }
   ],
   "source": [
    "np.allclose(r, r2) # mode='r' returns the same r as mode='full'"
   ]
  },
  {
   "cell_type": "code",
   "execution_count": 22,
   "id": "9290c172",
   "metadata": {},
   "outputs": [],
   "source": [
    "# But only triu parts are guaranteed equal when mode='economic'"
   ]
  },
  {
   "cell_type": "code",
   "execution_count": 23,
   "id": "ce45a037",
   "metadata": {},
   "outputs": [
    {
     "data": {
      "text/plain": [
       "True"
      ]
     },
     "execution_count": 23,
     "metadata": {},
     "output_type": "execute_result"
    }
   ],
   "source": [
    "np.allclose(r, np.triu(r3[:6,:6], k=0))"
   ]
  },
  {
   "cell_type": "code",
   "execution_count": null,
   "id": "e17d1254",
   "metadata": {},
   "outputs": [],
   "source": []
  },
  {
   "cell_type": "code",
   "execution_count": null,
   "id": "d8761046",
   "metadata": {},
   "outputs": [],
   "source": []
  },
  {
   "cell_type": "code",
   "execution_count": 28,
   "id": "076ac260",
   "metadata": {},
   "outputs": [
    {
     "data": {
      "text/plain": [
       "array([[ 1,  2,  3],\n",
       "       [ 4,  5,  6],\n",
       "       [ 0,  8,  9],\n",
       "       [ 0,  0, 12]])"
      ]
     },
     "execution_count": 28,
     "metadata": {},
     "output_type": "execute_result"
    }
   ],
   "source": [
    "np.triu([[1,2,3],[4,5,6],[7,8,9],[10,11,12]], -1)"
   ]
  },
  {
   "cell_type": "code",
   "execution_count": null,
   "id": "939a4fd0",
   "metadata": {},
   "outputs": [],
   "source": []
  }
 ],
 "metadata": {
  "kernelspec": {
   "display_name": "Python 3",
   "language": "python",
   "name": "python3"
  },
  "language_info": {
   "codemirror_mode": {
    "name": "ipython",
    "version": 3
   },
   "file_extension": ".py",
   "mimetype": "text/x-python",
   "name": "python",
   "nbconvert_exporter": "python",
   "pygments_lexer": "ipython3",
   "version": "3.8.8"
  }
 },
 "nbformat": 4,
 "nbformat_minor": 5
}
