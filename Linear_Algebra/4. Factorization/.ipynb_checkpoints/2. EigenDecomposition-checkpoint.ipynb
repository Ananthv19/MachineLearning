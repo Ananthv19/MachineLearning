{
 "cells": [
  {
   "cell_type": "markdown",
   "id": "5cca8b8d",
   "metadata": {},
   "source": [
    "## 2.1 Eigendecompositon of a Matrix"
   ]
  },
  {
   "cell_type": "markdown",
   "id": "6f8d3131",
   "metadata": {},
   "source": [
    "Eigendecomposition of a matrix is a type of decomposition that involves decomposing a square matrix into a set of eigenvectors and eigenvalues."
   ]
  },
  {
   "cell_type": "markdown",
   "id": "a379caa1",
   "metadata": {},
   "source": [
    "A vector is an eigenvector of a matrix if it satisfies the following equation.\n",
    "<br>\n",
    "A · v = λ · v <br>\n",
    "This is called the eigenvector."
   ]
  },
  {
   "cell_type": "markdown",
   "id": "366a1a0d",
   "metadata": {},
   "source": [
    "where:This is called the eigenvalue equation, where A is the parent square matrix that we are\n",
    "decomposing, v is the eigenvector of the matrix, and λ is the lowercase Greek letter lambda and\n",
    "represents the eigenvalue scalar."
   ]
  },
  {
   "cell_type": "code",
   "execution_count": null,
   "id": "ddb6749f",
   "metadata": {},
   "outputs": [],
   "source": []
  },
  {
   "cell_type": "markdown",
   "id": "bb036a0b",
   "metadata": {},
   "source": [
    "## 2.2 Calculation of Eigendecomposition"
   ]
  },
  {
   "cell_type": "code",
   "execution_count": 1,
   "id": "1f3a98a0",
   "metadata": {},
   "outputs": [
    {
     "name": "stdout",
     "output_type": "stream",
     "text": [
      "[[1 2 3]\n",
      " [4 5 6]\n",
      " [7 8 9]]\n",
      "[ 1.61168440e+01 -1.11684397e+00 -3.38433605e-16]\n",
      "[[-0.23197069 -0.78583024  0.40824829]\n",
      " [-0.52532209 -0.08675134 -0.81649658]\n",
      " [-0.8186735   0.61232756  0.40824829]]\n"
     ]
    }
   ],
   "source": [
    "# eigendecomposition\n",
    "from numpy import array\n",
    "from numpy.linalg import eig\n",
    "\n",
    "# define matrix\n",
    "A = array([[1,2,3],\n",
    "          [4,5,6],\n",
    "          [7,8,9]])\n",
    "\n",
    "print(A)\n",
    "\n",
    "#factorize\n",
    "values, vectors = eig(A)\n",
    "print(values)\n",
    "print(vectors)"
   ]
  },
  {
   "cell_type": "code",
   "execution_count": null,
   "id": "47641e98",
   "metadata": {},
   "outputs": [],
   "source": []
  },
  {
   "cell_type": "code",
   "execution_count": null,
   "id": "5bac09e0",
   "metadata": {},
   "outputs": [],
   "source": []
  },
  {
   "cell_type": "markdown",
   "id": "92639d67",
   "metadata": {},
   "source": [
    "## 2.3 Confirm an Eigenvector and Eigenvalue"
   ]
  },
  {
   "cell_type": "code",
   "execution_count": 3,
   "id": "a713735a",
   "metadata": {},
   "outputs": [
    {
     "data": {
      "text/plain": [
       "array([ 1.61168440e+01, -1.11684397e+00, -3.38433605e-16])"
      ]
     },
     "execution_count": 3,
     "metadata": {},
     "output_type": "execute_result"
    }
   ],
   "source": [
    "# define matrix\n",
    "A = array([[1,2,3],\n",
    "          [4,5,6],\n",
    "          [7,8,9]])\n",
    "\n",
    "#factorize\n",
    "values, vectors = eig(A)\n",
    "values"
   ]
  },
  {
   "cell_type": "code",
   "execution_count": 4,
   "id": "97bc7a3f",
   "metadata": {},
   "outputs": [
    {
     "data": {
      "text/plain": [
       "array([[-0.23197069, -0.78583024,  0.40824829],\n",
       "       [-0.52532209, -0.08675134, -0.81649658],\n",
       "       [-0.8186735 ,  0.61232756,  0.40824829]])"
      ]
     },
     "execution_count": 4,
     "metadata": {},
     "output_type": "execute_result"
    }
   ],
   "source": [
    "vectors"
   ]
  },
  {
   "cell_type": "code",
   "execution_count": 5,
   "id": "5d66ad1c",
   "metadata": {},
   "outputs": [
    {
     "name": "stdout",
     "output_type": "stream",
     "text": [
      "[ -3.73863537  -8.46653421 -13.19443305]\n"
     ]
    }
   ],
   "source": [
    "# confirm first eigenvector\n",
    "B= A.dot(vectors[:, 0])\n",
    "print(B)"
   ]
  },
  {
   "cell_type": "code",
   "execution_count": 6,
   "id": "ff3c5cfe",
   "metadata": {},
   "outputs": [
    {
     "name": "stdout",
     "output_type": "stream",
     "text": [
      "[ -3.73863537  -8.46653421 -13.19443305]\n"
     ]
    }
   ],
   "source": [
    "C = vectors[:, 0]* values[0]\n",
    "print(C)"
   ]
  },
  {
   "cell_type": "code",
   "execution_count": null,
   "id": "eeb9bc11",
   "metadata": {},
   "outputs": [],
   "source": []
  },
  {
   "cell_type": "code",
   "execution_count": null,
   "id": "59b1a446",
   "metadata": {},
   "outputs": [],
   "source": []
  },
  {
   "cell_type": "markdown",
   "id": "de03d782",
   "metadata": {},
   "source": [
    "## 2.4 Reconstruct Matrix"
   ]
  },
  {
   "cell_type": "code",
   "execution_count": 11,
   "id": "ca523f18",
   "metadata": {},
   "outputs": [
    {
     "name": "stdout",
     "output_type": "stream",
     "text": [
      "[[1 2 3]\n",
      " [4 5 6]\n",
      " [7 8 9]]\n",
      "[[1. 2. 3.]\n",
      " [4. 5. 6.]\n",
      " [7. 8. 9.]]\n"
     ]
    }
   ],
   "source": [
    "from numpy.linalg import inv\n",
    "from numpy import diag\n",
    "print(A)\n",
    "\n",
    "#factorize\n",
    "values, vectors = eig(A)\n",
    "\n",
    "#create matrix from eigenvectors\n",
    "Q=vectors\n",
    "#create inverse of eigenvectors matrix\n",
    "R=inv(Q)\n",
    "#create diagonal matrix from eigenvalues\n",
    "L= diag(values)\n",
    "B=Q.dot(L).dot(R)\n",
    "print(B)"
   ]
  },
  {
   "cell_type": "code",
   "execution_count": null,
   "id": "00fa3750",
   "metadata": {},
   "outputs": [],
   "source": []
  }
 ],
 "metadata": {
  "kernelspec": {
   "display_name": "Python 3",
   "language": "python",
   "name": "python3"
  },
  "language_info": {
   "codemirror_mode": {
    "name": "ipython",
    "version": 3
   },
   "file_extension": ".py",
   "mimetype": "text/x-python",
   "name": "python",
   "nbconvert_exporter": "python",
   "pygments_lexer": "ipython3",
   "version": "3.8.8"
  }
 },
 "nbformat": 4,
 "nbformat_minor": 5
}
