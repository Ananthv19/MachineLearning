{
 "cells": [
  {
   "cell_type": "markdown",
   "id": "260d7354",
   "metadata": {},
   "source": [
    "The pseudo-inverse of a matrix A, denoted A^+, is defined as: “the matrix that ‘solves’ [the least-squares problem] Ax = b,” i.e., if \\bar{x} is said solution, then A^+ is that matrix such that \\bar{x} = A^+b."
   ]
  },
  {
   "cell_type": "code",
   "execution_count": null,
   "id": "9e7a6133",
   "metadata": {},
   "outputs": [],
   "source": []
  },
  {
   "cell_type": "markdown",
   "id": "20783f2b",
   "metadata": {},
   "source": [
    "It can be shown that if Q_1 \\Sigma Q_2^T = A is the singular value decomposition of A, then A^+ = Q_2 \\Sigma^+ Q_1^T, where Q_{1,2} are orthogonal matrices, \\Sigma is a diagonal matrix consisting of A’s so-called singular values, (followed, typically, by zeros), and then \\Sigma^+ is simply the diagonal matrix consisting of the reciprocals of A’s singular values (again, followed by zeros)."
   ]
  },
  {
   "cell_type": "code",
   "execution_count": 1,
   "id": "35323d28",
   "metadata": {},
   "outputs": [],
   "source": [
    "import numpy as np\n",
    "\n",
    "a = np.random.randn(9, 6)"
   ]
  },
  {
   "cell_type": "code",
   "execution_count": 2,
   "id": "87ea3cea",
   "metadata": {},
   "outputs": [
    {
     "data": {
      "text/plain": [
       "array([[-0.71805687,  0.41718829, -0.21202983,  0.53602774, -2.17898466,\n",
       "        -0.92577591],\n",
       "       [ 0.67456773, -1.96713528,  0.30674181,  1.54874669,  0.89686348,\n",
       "         0.58989515],\n",
       "       [-1.22334931,  0.21740731,  0.12949661,  0.96964227,  0.33980613,\n",
       "        -2.28590421],\n",
       "       [-0.53061501, -0.30876147, -1.4620127 ,  0.9129857 ,  0.57344803,\n",
       "         0.3323223 ],\n",
       "       [ 0.16056584,  0.97030195, -0.45036575,  0.56261212,  1.1680673 ,\n",
       "        -2.70597394],\n",
       "       [-1.47643585, -1.89404747,  0.85689955,  0.15018453,  0.66578869,\n",
       "         0.02089642],\n",
       "       [ 1.08335572,  0.31476862,  0.13489127, -1.41190695, -1.79577058,\n",
       "        -2.0815626 ],\n",
       "       [ 1.11035881, -0.58919456, -1.29530166, -0.90106471,  1.38777805,\n",
       "        -0.05226873],\n",
       "       [-0.32018799, -0.26575637, -1.38692642, -0.78848173,  0.39268912,\n",
       "         0.70386305]])"
      ]
     },
     "execution_count": 2,
     "metadata": {},
     "output_type": "execute_result"
    }
   ],
   "source": [
    "a"
   ]
  },
  {
   "cell_type": "code",
   "execution_count": 3,
   "id": "376a50ef",
   "metadata": {},
   "outputs": [
    {
     "data": {
      "text/plain": [
       "array([[-0.04792266,  0.23171446, -0.13604934, -0.04753807,  0.04487758,\n",
       "        -0.22616708,  0.12082508,  0.09272458, -0.13317287],\n",
       "       [-0.07298478, -0.22245977, -0.00930887, -0.04523779,  0.09601676,\n",
       "        -0.23825809, -0.17576893, -0.12365952, -0.07121447],\n",
       "       [-0.16547757, -0.01113015, -0.0028675 , -0.27134632, -0.00788199,\n",
       "         0.08762223, -0.02853543, -0.15044734, -0.21798469],\n",
       "       [ 0.12725325,  0.2399894 ,  0.03576267,  0.13475189,  0.05967967,\n",
       "        -0.17501828, -0.1295544 , -0.11452015, -0.13824303],\n",
       "       [-0.24329335, -0.05594628,  0.04219663, -0.05634968,  0.13502015,\n",
       "         0.04317684, -0.14295324,  0.07093771, -0.00916159],\n",
       "       [-0.03306505, -0.02824331, -0.12529108,  0.01322349, -0.13568191,\n",
       "        -0.07248493, -0.15212502, -0.06026468,  0.01393331]])"
      ]
     },
     "execution_count": 3,
     "metadata": {},
     "output_type": "execute_result"
    }
   ],
   "source": [
    "B = np.linalg.pinv(a)\n",
    "B"
   ]
  },
  {
   "cell_type": "code",
   "execution_count": null,
   "id": "395af6ab",
   "metadata": {},
   "outputs": [],
   "source": []
  },
  {
   "cell_type": "code",
   "execution_count": 4,
   "id": "c59fe013",
   "metadata": {},
   "outputs": [
    {
     "data": {
      "text/plain": [
       "True"
      ]
     },
     "execution_count": 4,
     "metadata": {},
     "output_type": "execute_result"
    }
   ],
   "source": [
    "np.allclose(a, np.dot(a, np.dot(B, a)))"
   ]
  },
  {
   "cell_type": "code",
   "execution_count": 5,
   "id": "18a1c78c",
   "metadata": {},
   "outputs": [
    {
     "data": {
      "text/plain": [
       "True"
      ]
     },
     "execution_count": 5,
     "metadata": {},
     "output_type": "execute_result"
    }
   ],
   "source": [
    "np.allclose(B, np.dot(B, np.dot(a, B)))"
   ]
  },
  {
   "cell_type": "code",
   "execution_count": null,
   "id": "3f44720d",
   "metadata": {},
   "outputs": [],
   "source": []
  },
  {
   "cell_type": "code",
   "execution_count": null,
   "id": "c0cc36d3",
   "metadata": {},
   "outputs": [],
   "source": []
  }
 ],
 "metadata": {
  "kernelspec": {
   "display_name": "Python 3 (ipykernel)",
   "language": "python",
   "name": "python3"
  },
  "language_info": {
   "codemirror_mode": {
    "name": "ipython",
    "version": 3
   },
   "file_extension": ".py",
   "mimetype": "text/x-python",
   "name": "python",
   "nbconvert_exporter": "python",
   "pygments_lexer": "ipython3",
   "version": "3.9.7"
  }
 },
 "nbformat": 4,
 "nbformat_minor": 5
}
