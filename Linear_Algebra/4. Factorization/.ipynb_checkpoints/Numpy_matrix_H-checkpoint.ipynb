{
 "cells": [
  {
   "cell_type": "markdown",
   "id": "586902ce",
   "metadata": {},
   "source": [
    "Returns the (complex) conjugate transpose of self.\n",
    "\n",
    "Equivalent to np.transpose(self) if self is real-valued."
   ]
  },
  {
   "cell_type": "code",
   "execution_count": 1,
   "id": "73aab3f6",
   "metadata": {},
   "outputs": [],
   "source": [
    "import numpy as np"
   ]
  },
  {
   "cell_type": "code",
   "execution_count": 3,
   "id": "ae7298bb",
   "metadata": {},
   "outputs": [],
   "source": [
    "x = np.matrix(np.arange(12).reshape(3,4))"
   ]
  },
  {
   "cell_type": "code",
   "execution_count": 4,
   "id": "a2c8b975",
   "metadata": {},
   "outputs": [
    {
     "data": {
      "text/plain": [
       "matrix([[ 0,  1,  2,  3],\n",
       "        [ 4,  5,  6,  7],\n",
       "        [ 8,  9, 10, 11]])"
      ]
     },
     "execution_count": 4,
     "metadata": {},
     "output_type": "execute_result"
    }
   ],
   "source": [
    "x"
   ]
  },
  {
   "cell_type": "code",
   "execution_count": 5,
   "id": "a57a8f93",
   "metadata": {},
   "outputs": [
    {
     "data": {
      "text/plain": [
       "matrix([[ 0. +0.j,  1. -1.j,  2. -2.j,  3. -3.j],\n",
       "        [ 4. -4.j,  5. -5.j,  6. -6.j,  7. -7.j],\n",
       "        [ 8. -8.j,  9. -9.j, 10.-10.j, 11.-11.j]])"
      ]
     },
     "execution_count": 5,
     "metadata": {},
     "output_type": "execute_result"
    }
   ],
   "source": [
    "z = x - 1j*x;\n",
    "z"
   ]
  },
  {
   "cell_type": "code",
   "execution_count": 6,
   "id": "452bc28f",
   "metadata": {},
   "outputs": [
    {
     "data": {
      "text/plain": [
       "matrix([[ 0. -0.j,  4. +4.j,  8. +8.j],\n",
       "        [ 1. +1.j,  5. +5.j,  9. +9.j],\n",
       "        [ 2. +2.j,  6. +6.j, 10.+10.j],\n",
       "        [ 3. +3.j,  7. +7.j, 11.+11.j]])"
      ]
     },
     "execution_count": 6,
     "metadata": {},
     "output_type": "execute_result"
    }
   ],
   "source": [
    "z.getH()"
   ]
  },
  {
   "cell_type": "code",
   "execution_count": null,
   "id": "3b30a6bc",
   "metadata": {},
   "outputs": [],
   "source": []
  }
 ],
 "metadata": {
  "kernelspec": {
   "display_name": "Python 3",
   "language": "python",
   "name": "python3"
  },
  "language_info": {
   "codemirror_mode": {
    "name": "ipython",
    "version": 3
   },
   "file_extension": ".py",
   "mimetype": "text/x-python",
   "name": "python",
   "nbconvert_exporter": "python",
   "pygments_lexer": "ipython3",
   "version": "3.8.8"
  }
 },
 "nbformat": 4,
 "nbformat_minor": 5
}
