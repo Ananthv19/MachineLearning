{
 "cells": [
  {
   "cell_type": "markdown",
   "id": "652214d8",
   "metadata": {},
   "source": [
    "it is often used\n",
    "in a wide array of applications including compressing, denoising, and data reduction."
   ]
  },
  {
   "cell_type": "markdown",
   "id": "733d792a",
   "metadata": {},
   "source": [
    "the Singular Value Decomposition (SVD) of a matrix is a factorization of that matrix into three matrices."
   ]
  },
  {
   "cell_type": "markdown",
   "id": "65f9094b",
   "metadata": {},
   "source": [
    "The diagonal values in the Σ matrix are known as the singular values of the original matrix\n",
    "A."
   ]
  },
  {
   "cell_type": "markdown",
   "id": "292ad916",
   "metadata": {},
   "source": [
    "The columns of the U matrix are called the left-singular vectors of A, and the columns\n",
    "of V are called the right-singular vectors of A."
   ]
  },
  {
   "cell_type": "code",
   "execution_count": 2,
   "id": "eb937e49",
   "metadata": {},
   "outputs": [
    {
     "name": "stdout",
     "output_type": "stream",
     "text": [
      "[[-0.2298477   0.88346102  0.40824829]\n",
      " [-0.52474482  0.24078249 -0.81649658]\n",
      " [-0.81964194 -0.40189603  0.40824829]]\n",
      "[9.52551809 0.51430058]\n",
      "[[-0.61962948 -0.78489445]\n",
      " [-0.78489445  0.61962948]]\n"
     ]
    }
   ],
   "source": [
    "from numpy import array\n",
    "from scipy.linalg import svd\n",
    "\n",
    "A = array([[1, 2], \n",
    "           [3, 4],\n",
    "           [5,6]])\n",
    "\n",
    "# factorize\n",
    "U, s, v = svd(A)\n",
    "print(U)\n",
    "print(s)\n",
    "print(v)"
   ]
  },
  {
   "cell_type": "code",
   "execution_count": 9,
   "id": "c6bc2a88",
   "metadata": {},
   "outputs": [
    {
     "name": "stdout",
     "output_type": "stream",
     "text": [
      "[[ 5  5]\n",
      " [-1  7]]\n",
      "[[-0.31622777 -0.9486833 ]\n",
      " [-0.9486833   0.31622777]]\n",
      "[8.94427191 4.47213595]\n",
      "[[-0.70710678 -0.70710678]\n",
      " [-0.70710678  0.70710678]]\n"
     ]
    }
   ],
   "source": [
    "u1, s1, v1 = svd(array([[5, -1], [5, 7]]))\n",
    "print(array([[5, 5], [-1, 7]]))\n",
    "print(u1)\n",
    "print(s1)\n",
    "print(v1)"
   ]
  },
  {
   "cell_type": "code",
   "execution_count": null,
   "id": "9e3f9242",
   "metadata": {},
   "outputs": [],
   "source": []
  },
  {
   "cell_type": "code",
   "execution_count": null,
   "id": "416ab379",
   "metadata": {},
   "outputs": [],
   "source": []
  },
  {
   "cell_type": "markdown",
   "id": "eec9ca53",
   "metadata": {},
   "source": [
    "## 3.2 Reconstruct Matrix"
   ]
  },
  {
   "cell_type": "markdown",
   "id": "ce57af56",
   "metadata": {},
   "source": [
    "The U, s, and V\n",
    "elements returned from the svd() cannot be multiplied directly. The s vector must be converted\n",
    "into a diagonal matrix using the diag() function."
   ]
  },
  {
   "cell_type": "code",
   "execution_count": 11,
   "id": "c712e548",
   "metadata": {},
   "outputs": [
    {
     "data": {
      "text/plain": [
       "array([[0., 0.],\n",
       "       [0., 0.],\n",
       "       [0., 0.]])"
      ]
     },
     "execution_count": 11,
     "metadata": {},
     "output_type": "execute_result"
    }
   ],
   "source": [
    "# reconstruct rectangular matrix from svd.\n",
    "from numpy import zeros\n",
    "from numpy import diag\n",
    "\n",
    "A = array([[1, 2], \n",
    "           [3, 4],\n",
    "           [5,6]])\n",
    "\n",
    "#factorize\n",
    "U, s, v =  svd(A)\n",
    "\n",
    "# create m x n sigma matrix\n",
    "Sigma = zeros((A.shape[0], A.shape[1]))\n",
    "Sigma"
   ]
  },
  {
   "cell_type": "code",
   "execution_count": 15,
   "id": "de3150e2",
   "metadata": {},
   "outputs": [
    {
     "data": {
      "text/plain": [
       "array([[9.52551809, 0.        ],\n",
       "       [0.        , 0.51430058],\n",
       "       [0.        , 0.        ]])"
      ]
     },
     "execution_count": 15,
     "metadata": {},
     "output_type": "execute_result"
    }
   ],
   "source": [
    "# populate Sigma with n x n diagonal matrix\n",
    "Sigma[:A.shape[1], :A.shape[1]] = diag(s)\n",
    "Sigma"
   ]
  },
  {
   "cell_type": "code",
   "execution_count": 17,
   "id": "b0ee07d6",
   "metadata": {},
   "outputs": [
    {
     "name": "stdout",
     "output_type": "stream",
     "text": [
      "[[1. 2.]\n",
      " [3. 4.]\n",
      " [5. 6.]]\n"
     ]
    }
   ],
   "source": [
    "# reconstruct matrix\n",
    "B = U.dot(Sigma.dot(v))\n",
    "print(B)"
   ]
  },
  {
   "cell_type": "code",
   "execution_count": null,
   "id": "ef087725",
   "metadata": {},
   "outputs": [],
   "source": []
  }
 ],
 "metadata": {
  "kernelspec": {
   "display_name": "Python 3",
   "language": "python",
   "name": "python3"
  },
  "language_info": {
   "codemirror_mode": {
    "name": "ipython",
    "version": 3
   },
   "file_extension": ".py",
   "mimetype": "text/x-python",
   "name": "python",
   "nbconvert_exporter": "python",
   "pygments_lexer": "ipython3",
   "version": "3.8.8"
  }
 },
 "nbformat": 4,
 "nbformat_minor": 5
}
