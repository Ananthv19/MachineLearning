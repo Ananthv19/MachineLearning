{
 "cells": [
  {
   "cell_type": "markdown",
   "id": "652214d8",
   "metadata": {},
   "source": [
    "it is often used\n",
    "in a wide array of applications including compressing, denoising, and data reduction."
   ]
  },
  {
   "cell_type": "markdown",
   "id": "733d792a",
   "metadata": {},
   "source": [
    "the Singular Value Decomposition (SVD) of a matrix is a factorization of that matrix into three matrices."
   ]
  },
  {
   "cell_type": "markdown",
   "id": "65f9094b",
   "metadata": {},
   "source": [
    "The diagonal values in the Σ matrix are known as the singular values of the original matrix\n",
    "A."
   ]
  },
  {
   "cell_type": "markdown",
   "id": "292ad916",
   "metadata": {},
   "source": [
    "The columns of the U matrix are called the left-singular vectors of A, and the columns\n",
    "of V are called the right-singular vectors of A."
   ]
  },
  {
   "cell_type": "markdown",
   "id": "92282830",
   "metadata": {},
   "source": [
    "## 3.1 Calculate SVD"
   ]
  },
  {
   "cell_type": "code",
   "execution_count": 2,
   "id": "eb937e49",
   "metadata": {},
   "outputs": [
    {
     "name": "stdout",
     "output_type": "stream",
     "text": [
      "[[-0.2298477   0.88346102  0.40824829]\n",
      " [-0.52474482  0.24078249 -0.81649658]\n",
      " [-0.81964194 -0.40189603  0.40824829]]\n",
      "[9.52551809 0.51430058]\n",
      "[[-0.61962948 -0.78489445]\n",
      " [-0.78489445  0.61962948]]\n"
     ]
    }
   ],
   "source": [
    "from numpy import array\n",
    "from scipy.linalg import svd\n",
    "\n",
    "A = array([[1, 2], \n",
    "           [3, 4],\n",
    "           [5,6]])\n",
    "\n",
    "# factorize\n",
    "U, s, v = svd(A)\n",
    "print(U)\n",
    "print(s)\n",
    "print(v)"
   ]
  },
  {
   "cell_type": "code",
   "execution_count": 9,
   "id": "c6bc2a88",
   "metadata": {},
   "outputs": [
    {
     "name": "stdout",
     "output_type": "stream",
     "text": [
      "[[ 5  5]\n",
      " [-1  7]]\n",
      "[[-0.31622777 -0.9486833 ]\n",
      " [-0.9486833   0.31622777]]\n",
      "[8.94427191 4.47213595]\n",
      "[[-0.70710678 -0.70710678]\n",
      " [-0.70710678  0.70710678]]\n"
     ]
    }
   ],
   "source": [
    "u1, s1, v1 = svd(array([[5, -1], [5, 7]]))\n",
    "print(array([[5, 5], [-1, 7]]))\n",
    "print(u1)\n",
    "print(s1)\n",
    "print(v1)"
   ]
  },
  {
   "cell_type": "code",
   "execution_count": null,
   "id": "9e3f9242",
   "metadata": {},
   "outputs": [],
   "source": []
  },
  {
   "cell_type": "code",
   "execution_count": null,
   "id": "416ab379",
   "metadata": {},
   "outputs": [],
   "source": []
  },
  {
   "cell_type": "markdown",
   "id": "eec9ca53",
   "metadata": {},
   "source": [
    "## 3.2 Reconstruct Matrix"
   ]
  },
  {
   "cell_type": "markdown",
   "id": "ce57af56",
   "metadata": {},
   "source": [
    "The U, s, and V\n",
    "elements returned from the svd() cannot be multiplied directly. The s vector must be converted\n",
    "into a diagonal matrix using the diag() function."
   ]
  },
  {
   "cell_type": "code",
   "execution_count": 11,
   "id": "c712e548",
   "metadata": {},
   "outputs": [
    {
     "data": {
      "text/plain": [
       "array([[0., 0.],\n",
       "       [0., 0.],\n",
       "       [0., 0.]])"
      ]
     },
     "execution_count": 11,
     "metadata": {},
     "output_type": "execute_result"
    }
   ],
   "source": [
    "# reconstruct rectangular matrix from svd.\n",
    "from numpy import zeros\n",
    "from numpy import diag\n",
    "\n",
    "A = array([[1, 2], \n",
    "           [3, 4],\n",
    "           [5,6]])\n",
    "\n",
    "#factorize\n",
    "U, s, v =  svd(A)\n",
    "\n",
    "# create m x n sigma matrix\n",
    "Sigma = zeros((A.shape[0], A.shape[1]))\n",
    "Sigma"
   ]
  },
  {
   "cell_type": "code",
   "execution_count": 15,
   "id": "de3150e2",
   "metadata": {},
   "outputs": [
    {
     "data": {
      "text/plain": [
       "array([[9.52551809, 0.        ],\n",
       "       [0.        , 0.51430058],\n",
       "       [0.        , 0.        ]])"
      ]
     },
     "execution_count": 15,
     "metadata": {},
     "output_type": "execute_result"
    }
   ],
   "source": [
    "# populate Sigma with n x n diagonal matrix\n",
    "Sigma[:A.shape[1], :A.shape[1]] = diag(s)\n",
    "Sigma"
   ]
  },
  {
   "cell_type": "code",
   "execution_count": 17,
   "id": "b0ee07d6",
   "metadata": {},
   "outputs": [
    {
     "name": "stdout",
     "output_type": "stream",
     "text": [
      "[[1. 2.]\n",
      " [3. 4.]\n",
      " [5. 6.]]\n"
     ]
    }
   ],
   "source": [
    "# reconstruct matrix\n",
    "B = U.dot(Sigma.dot(v))\n",
    "print(B)"
   ]
  },
  {
   "cell_type": "markdown",
   "id": "6aa80a58",
   "metadata": {},
   "source": [
    "The above complication with the Σ diagonal only exists with the case where m and n are\n",
    "not equal. The diagonal matrix can be used directly when reconstructing a square matrix"
   ]
  },
  {
   "cell_type": "code",
   "execution_count": 3,
   "id": "fce43888",
   "metadata": {},
   "outputs": [
    {
     "name": "stdout",
     "output_type": "stream",
     "text": [
      "[[1 2 3]\n",
      " [4 5 6]\n",
      " [7 8 9]]\n",
      "[1.68481034e+01 1.06836951e+00 3.33475287e-16]\n"
     ]
    },
    {
     "data": {
      "text/plain": [
       "array([[1.68481034e+01, 0.00000000e+00, 0.00000000e+00],\n",
       "       [0.00000000e+00, 1.06836951e+00, 0.00000000e+00],\n",
       "       [0.00000000e+00, 0.00000000e+00, 3.33475287e-16]])"
      ]
     },
     "execution_count": 3,
     "metadata": {},
     "output_type": "execute_result"
    }
   ],
   "source": [
    "# reconstruct square matrix from svd\n",
    "from numpy import array\n",
    "from numpy import diag\n",
    "from scipy.linalg import svd\n",
    "\n",
    "A = array([[1,2,3], [4,5,6], [7,8,9]])\n",
    "print(A)\n",
    "\n",
    "# factorize\n",
    "U, s, V = svd(A)\n",
    "\n",
    "print(s)\n",
    "\n",
    "# create n x n sigma matrix\n",
    "Sigma = diag(s)\n",
    "Sigma"
   ]
  },
  {
   "cell_type": "code",
   "execution_count": 4,
   "id": "07646d5b",
   "metadata": {},
   "outputs": [
    {
     "name": "stdout",
     "output_type": "stream",
     "text": [
      "[[1. 2. 3.]\n",
      " [4. 5. 6.]\n",
      " [7. 8. 9.]]\n"
     ]
    }
   ],
   "source": [
    "# reconstruct matrix\n",
    "B= U.dot(Sigma.dot(V))\n",
    "print(B)"
   ]
  },
  {
   "cell_type": "code",
   "execution_count": null,
   "id": "98f5687f",
   "metadata": {},
   "outputs": [],
   "source": []
  },
  {
   "cell_type": "code",
   "execution_count": null,
   "id": "a5dd8ba0",
   "metadata": {},
   "outputs": [],
   "source": []
  },
  {
   "cell_type": "markdown",
   "id": "35e2f20d",
   "metadata": {},
   "source": [
    "### Movie rating"
   ]
  },
  {
   "cell_type": "code",
   "execution_count": 31,
   "id": "69f1f8c3",
   "metadata": {},
   "outputs": [
    {
     "name": "stdout",
     "output_type": "stream",
     "text": [
      "[[1 1 1 0 0]\n",
      " [3 3 3 0 0]\n",
      " [4 4 4 0 0]\n",
      " [5 5 5 0 0]\n",
      " [0 2 0 4 4]\n",
      " [0 0 0 5 5]\n",
      " [0 1 0 2 2]]\n"
     ]
    }
   ],
   "source": [
    "D = array([[1,1,1,0,0],\n",
    "           [3,3,3,0,0],\n",
    "           [4,4,4,0,0],\n",
    "           [5,5,5,0,0],\n",
    "           [0,2,0,4,4],\n",
    "           [0,0,0,5,5],\n",
    "           [0,1,0,2,2]])\n",
    "print(D)"
   ]
  },
  {
   "cell_type": "code",
   "execution_count": 47,
   "id": "83aefadd",
   "metadata": {},
   "outputs": [],
   "source": [
    "U1, s1, V1 = svd(D)"
   ]
  },
  {
   "cell_type": "code",
   "execution_count": 48,
   "id": "d5e0655a",
   "metadata": {},
   "outputs": [
    {
     "name": "stdout",
     "output_type": "stream",
     "text": [
      "[[-1.37599126e-01  2.36114514e-02  1.08084718e-02  9.90147543e-01\n",
      "  -1.26568534e-16 -1.26568534e-16  0.00000000e+00]\n",
      " [-4.12797378e-01  7.08343543e-02  3.24254153e-02 -5.94088526e-02\n",
      "  -8.85034377e-01  1.91609371e-01  0.00000000e+00]\n",
      " [-5.50396503e-01  9.44458057e-02  4.32338870e-02 -7.92118034e-02\n",
      "   4.24264069e-01  7.07106781e-01  0.00000000e+00]\n",
      " [-6.87995629e-01  1.18057257e-01  5.40423588e-02 -9.90147543e-02\n",
      "   1.91609371e-01 -6.80651048e-01  0.00000000e+00]\n",
      " [-1.52775087e-01 -5.91100963e-01 -6.53650843e-01 -9.73880310e-17\n",
      "   4.77815907e-17 -1.00067988e-17 -4.47213595e-01]\n",
      " [-7.22165140e-02 -7.31311857e-01  6.78209218e-01  4.93038066e-32\n",
      "  -7.10764783e-17  0.00000000e+00  0.00000000e+00]\n",
      " [-7.63875433e-02 -2.95550482e-01 -3.26825421e-01 -4.86940155e-17\n",
      "  -3.16203559e-17 -5.00339942e-18  8.94427191e-01]]\n"
     ]
    }
   ],
   "source": [
    "print(U1)"
   ]
  },
  {
   "cell_type": "code",
   "execution_count": null,
   "id": "31ed0974",
   "metadata": {},
   "outputs": [],
   "source": []
  },
  {
   "cell_type": "code",
   "execution_count": 35,
   "id": "3335d51b",
   "metadata": {},
   "outputs": [
    {
     "data": {
      "text/plain": [
       "array([1.24810147e+01, 9.50861406e+00, 1.34555971e+00, 1.84716760e-16,\n",
       "       9.74452038e-33])"
      ]
     },
     "execution_count": 35,
     "metadata": {},
     "output_type": "execute_result"
    }
   ],
   "source": [
    "s"
   ]
  },
  {
   "cell_type": "code",
   "execution_count": 39,
   "id": "0e0930e9",
   "metadata": {},
   "outputs": [
    {
     "data": {
      "text/plain": [
       "array([[1.24810147e+01, 0.00000000e+00, 0.00000000e+00, 0.00000000e+00,\n",
       "        0.00000000e+00],\n",
       "       [0.00000000e+00, 9.50861406e+00, 0.00000000e+00, 0.00000000e+00,\n",
       "        0.00000000e+00],\n",
       "       [0.00000000e+00, 0.00000000e+00, 1.34555971e+00, 0.00000000e+00,\n",
       "        0.00000000e+00],\n",
       "       [0.00000000e+00, 0.00000000e+00, 0.00000000e+00, 1.84716760e-16,\n",
       "        0.00000000e+00],\n",
       "       [0.00000000e+00, 0.00000000e+00, 0.00000000e+00, 0.00000000e+00,\n",
       "        9.74452038e-33]])"
      ]
     },
     "execution_count": 39,
     "metadata": {},
     "output_type": "execute_result"
    }
   ],
   "source": [
    "sd = diag(s)\n",
    "sd"
   ]
  },
  {
   "cell_type": "code",
   "execution_count": null,
   "id": "9f97831c",
   "metadata": {},
   "outputs": [],
   "source": []
  },
  {
   "cell_type": "code",
   "execution_count": 36,
   "id": "c40b5cc7",
   "metadata": {},
   "outputs": [
    {
     "name": "stdout",
     "output_type": "stream",
     "text": [
      "[[-5.62258405e-01 -5.92859901e-01 -5.62258405e-01 -9.01335372e-02\n",
      "  -9.01335372e-02]\n",
      " [ 1.26641382e-01 -2.87705846e-02  1.26641382e-01 -6.95376220e-01\n",
      "  -6.95376220e-01]\n",
      " [ 4.09667482e-01 -8.04791520e-01  4.09667482e-01  9.12571001e-02\n",
      "   9.12571001e-02]\n",
      " [-7.07106781e-01  3.72941547e-16  7.07106781e-01 -2.84242227e-17\n",
      "   2.70869285e-17]\n",
      " [-0.00000000e+00  1.27687359e-16 -1.27687359e-16  7.07106781e-01\n",
      "  -7.07106781e-01]]\n"
     ]
    }
   ],
   "source": [
    "print(V)"
   ]
  },
  {
   "cell_type": "code",
   "execution_count": null,
   "id": "c465a4cb",
   "metadata": {},
   "outputs": [],
   "source": []
  },
  {
   "cell_type": "markdown",
   "id": "e3448343",
   "metadata": {},
   "source": [
    "#### Reconstruct"
   ]
  },
  {
   "cell_type": "code",
   "execution_count": 40,
   "id": "42e4200c",
   "metadata": {},
   "outputs": [
    {
     "ename": "ValueError",
     "evalue": "shapes (7,7) and (5,5) not aligned: 7 (dim 1) != 5 (dim 0)",
     "output_type": "error",
     "traceback": [
      "\u001b[1;31m---------------------------------------------------------------------------\u001b[0m",
      "\u001b[1;31mValueError\u001b[0m                                Traceback (most recent call last)",
      "\u001b[1;32m<ipython-input-40-4281bd5a0632>\u001b[0m in \u001b[0;36m<module>\u001b[1;34m\u001b[0m\n\u001b[1;32m----> 1\u001b[1;33m \u001b[0mB\u001b[0m \u001b[1;33m=\u001b[0m \u001b[0mU\u001b[0m\u001b[1;33m.\u001b[0m\u001b[0mdot\u001b[0m\u001b[1;33m(\u001b[0m\u001b[0msd\u001b[0m\u001b[1;33m.\u001b[0m\u001b[0mdot\u001b[0m\u001b[1;33m(\u001b[0m\u001b[0mV\u001b[0m\u001b[1;33m)\u001b[0m\u001b[1;33m)\u001b[0m\u001b[1;33m\u001b[0m\u001b[1;33m\u001b[0m\u001b[0m\n\u001b[0m\u001b[0;32m      2\u001b[0m \u001b[0mprint\u001b[0m\u001b[1;33m(\u001b[0m\u001b[0mB\u001b[0m\u001b[1;33m)\u001b[0m\u001b[1;33m\u001b[0m\u001b[1;33m\u001b[0m\u001b[0m\n",
      "\u001b[1;31mValueError\u001b[0m: shapes (7,7) and (5,5) not aligned: 7 (dim 1) != 5 (dim 0)"
     ]
    }
   ],
   "source": [
    "B = U.dot(sd.dot(V))\n",
    "print(B)"
   ]
  },
  {
   "cell_type": "code",
   "execution_count": 44,
   "id": "60de3daa",
   "metadata": {},
   "outputs": [
    {
     "data": {
      "text/plain": [
       "array([[0., 0., 0., 0., 0.],\n",
       "       [0., 0., 0., 0., 0.],\n",
       "       [0., 0., 0., 0., 0.],\n",
       "       [0., 0., 0., 0., 0.],\n",
       "       [0., 0., 0., 0., 0.],\n",
       "       [0., 0., 0., 0., 0.],\n",
       "       [0., 0., 0., 0., 0.]])"
      ]
     },
     "execution_count": 44,
     "metadata": {},
     "output_type": "execute_result"
    }
   ],
   "source": [
    "# create m x n Sigma matrix\n",
    "from numpy import zeros\n",
    "Si = zeros((D.shape[0], D.shape[1]))\n",
    "Si"
   ]
  },
  {
   "cell_type": "code",
   "execution_count": 49,
   "id": "4d44c64c",
   "metadata": {},
   "outputs": [
    {
     "name": "stdout",
     "output_type": "stream",
     "text": [
      "[[1.24810147e+01 0.00000000e+00 0.00000000e+00 0.00000000e+00\n",
      "  0.00000000e+00]\n",
      " [0.00000000e+00 9.50861406e+00 0.00000000e+00 0.00000000e+00\n",
      "  0.00000000e+00]\n",
      " [0.00000000e+00 0.00000000e+00 1.34555971e+00 0.00000000e+00\n",
      "  0.00000000e+00]\n",
      " [0.00000000e+00 0.00000000e+00 0.00000000e+00 1.84716760e-16\n",
      "  0.00000000e+00]\n",
      " [0.00000000e+00 0.00000000e+00 0.00000000e+00 0.00000000e+00\n",
      "  9.74452038e-33]\n",
      " [0.00000000e+00 0.00000000e+00 0.00000000e+00 0.00000000e+00\n",
      "  0.00000000e+00]\n",
      " [0.00000000e+00 0.00000000e+00 0.00000000e+00 0.00000000e+00\n",
      "  0.00000000e+00]]\n"
     ]
    }
   ],
   "source": [
    "#populate sigma with n x n diagonal matrix\n",
    "Si[:D.shape[1], :D.shape[1]] = diag(s1)\n",
    "print(Si)"
   ]
  },
  {
   "cell_type": "code",
   "execution_count": 50,
   "id": "872f77ef",
   "metadata": {},
   "outputs": [
    {
     "name": "stdout",
     "output_type": "stream",
     "text": [
      "[[ 1.00000000e+00  1.00000000e+00  1.00000000e+00  1.60615687e-16\n",
      "   1.41232139e-16]\n",
      " [ 3.00000000e+00  3.00000000e+00  3.00000000e+00 -6.31770349e-17\n",
      "  -1.20677157e-16]\n",
      " [ 4.00000000e+00  4.00000000e+00  4.00000000e+00  7.38751631e-17\n",
      "  -2.79166592e-18]\n",
      " [ 5.00000000e+00  5.00000000e+00  5.00000000e+00 -9.67102611e-17\n",
      "  -1.92543797e-16]\n",
      " [ 1.06443722e-16  2.00000000e+00 -1.27266478e-15  4.00000000e+00\n",
      "   4.00000000e+00]\n",
      " [ 2.82097303e-16  6.03813458e-16 -3.76347628e-16  5.00000000e+00\n",
      "   5.00000000e+00]\n",
      " [ 5.55111512e-17  1.00000000e+00 -6.10622664e-16  2.00000000e+00\n",
      "   2.00000000e+00]]\n"
     ]
    }
   ],
   "source": [
    "#reconstruct matrix\n",
    "B= U1.dot(Si.dot(V1))\n",
    "print(B)"
   ]
  },
  {
   "cell_type": "code",
   "execution_count": null,
   "id": "5a0c4121",
   "metadata": {},
   "outputs": [],
   "source": []
  },
  {
   "cell_type": "code",
   "execution_count": null,
   "id": "21bfa475",
   "metadata": {},
   "outputs": [],
   "source": []
  },
  {
   "cell_type": "markdown",
   "id": "cd34093e",
   "metadata": {},
   "source": [
    "## 3.3 Pseudoinverse"
   ]
  },
  {
   "cell_type": "markdown",
   "id": "45300d25",
   "metadata": {},
   "source": [
    "The pseudoinverse is the generalization of the matrix inverse for square matrices to rectangular\n",
    "matrices where the number of rows and columns are not equal."
   ]
  },
  {
   "cell_type": "markdown",
   "id": "0a7036cd",
   "metadata": {},
   "source": [
    "The pseudoinverse is calculated using the singular value decomposition of A"
   ]
  },
  {
   "cell_type": "markdown",
   "id": "7cabdd74",
   "metadata": {},
   "source": [
    "A<sup>+</sup> = V.D<sup>+</sup>.U<sup>T</sup>"
   ]
  },
  {
   "cell_type": "markdown",
   "id": "d1977c33",
   "metadata": {},
   "source": [
    "Where A<sup>+</sup> is the pseudoinverse, D<sup>+</sup> is the pseudoinverse of the  diagonal matrix Σ and V is the transpose of V<sup>T</sup>."
   ]
  },
  {
   "cell_type": "markdown",
   "id": "038f20c0",
   "metadata": {},
   "source": [
    "The pseudoinverse provides one way of solving the linear regression equation, specifically\n",
    "when there are more rows than there are columns,"
   ]
  },
  {
   "cell_type": "code",
   "execution_count": 51,
   "id": "c1361166",
   "metadata": {},
   "outputs": [
    {
     "name": "stdout",
     "output_type": "stream",
     "text": [
      "[[0.1 0.2]\n",
      " [0.3 0.4]\n",
      " [0.5 0.6]\n",
      " [0.7 0.8]]\n"
     ]
    }
   ],
   "source": [
    "# pseudoinverse\n",
    "from numpy import array\n",
    "from numpy.linalg import pinv\n",
    "\n",
    "A = array([\n",
    "          [0.1, 0.2],\n",
    "          [0.3, 0.4],\n",
    "          [0.5, 0.6],\n",
    "          [0.7, 0.8]])\n",
    "\n",
    "print(A)"
   ]
  },
  {
   "cell_type": "code",
   "execution_count": 52,
   "id": "5b3a7042",
   "metadata": {},
   "outputs": [
    {
     "name": "stdout",
     "output_type": "stream",
     "text": [
      "[[-1.00000000e+01 -5.00000000e+00  9.07607323e-15  5.00000000e+00]\n",
      " [ 8.50000000e+00  4.50000000e+00  5.00000000e-01 -3.50000000e+00]]\n"
     ]
    }
   ],
   "source": [
    "# calculate pseudoinverse\n",
    "B=pinv(A)\n",
    "print(B)"
   ]
  },
  {
   "cell_type": "code",
   "execution_count": null,
   "id": "edd7d522",
   "metadata": {},
   "outputs": [],
   "source": []
  },
  {
   "cell_type": "markdown",
   "id": "862482ed",
   "metadata": {},
   "source": [
    "### Pseudoinverse via scd"
   ]
  },
  {
   "cell_type": "code",
   "execution_count": 54,
   "id": "949ffcac",
   "metadata": {},
   "outputs": [
    {
     "name": "stdout",
     "output_type": "stream",
     "text": [
      "[[0.1 0.2]\n",
      " [0.3 0.4]\n",
      " [0.5 0.6]\n",
      " [0.7 0.8]]\n"
     ]
    }
   ],
   "source": [
    "A = array([\n",
    "[0.1, 0.2],\n",
    "[0.3, 0.4],\n",
    "[0.5, 0.6],\n",
    "[0.7, 0.8]])\n",
    "\n",
    "print(A)"
   ]
  },
  {
   "cell_type": "code",
   "execution_count": 55,
   "id": "07b71c51",
   "metadata": {},
   "outputs": [],
   "source": [
    "# factorize\n",
    "U, s, V = svd(A)"
   ]
  },
  {
   "cell_type": "code",
   "execution_count": 57,
   "id": "491067f4",
   "metadata": {},
   "outputs": [
    {
     "data": {
      "text/plain": [
       "array([1.42690955, 0.06268282])"
      ]
     },
     "execution_count": 57,
     "metadata": {},
     "output_type": "execute_result"
    }
   ],
   "source": [
    "s"
   ]
  },
  {
   "cell_type": "code",
   "execution_count": 56,
   "id": "073bae2f",
   "metadata": {},
   "outputs": [
    {
     "data": {
      "text/plain": [
       "array([ 0.70081527, 15.95333376])"
      ]
     },
     "execution_count": 56,
     "metadata": {},
     "output_type": "execute_result"
    }
   ],
   "source": [
    "# reciprocal of s\n",
    "d = 1.0/s\n",
    "d"
   ]
  },
  {
   "cell_type": "code",
   "execution_count": 59,
   "id": "df253f1f",
   "metadata": {},
   "outputs": [
    {
     "data": {
      "text/plain": [
       "array([[0., 0.],\n",
       "       [0., 0.],\n",
       "       [0., 0.],\n",
       "       [0., 0.]])"
      ]
     },
     "execution_count": 59,
     "metadata": {},
     "output_type": "execute_result"
    }
   ],
   "source": [
    "# create m x n D matrix\n",
    "D = zeros(A.shape)\n",
    "D"
   ]
  },
  {
   "cell_type": "code",
   "execution_count": 60,
   "id": "6b314a94",
   "metadata": {},
   "outputs": [
    {
     "data": {
      "text/plain": [
       "array([[ 0.70081527,  0.        ],\n",
       "       [ 0.        , 15.95333376],\n",
       "       [ 0.        ,  0.        ],\n",
       "       [ 0.        ,  0.        ]])"
      ]
     },
     "execution_count": 60,
     "metadata": {},
     "output_type": "execute_result"
    }
   ],
   "source": [
    "# populate D with n x n diagonal matrix\n",
    "D[:A.shape[1], :A.shape[1]] = diag(d)\n",
    "D"
   ]
  },
  {
   "cell_type": "code",
   "execution_count": 63,
   "id": "eac99b43",
   "metadata": {},
   "outputs": [
    {
     "name": "stdout",
     "output_type": "stream",
     "text": [
      "[[-1.00000000e+01 -5.00000000e+00  9.07607323e-15  5.00000000e+00]\n",
      " [ 8.50000000e+00  4.50000000e+00  5.00000000e-01 -3.50000000e+00]]\n"
     ]
    }
   ],
   "source": [
    "# calculate pseudoinverse\n",
    "B = V.T.dot(D.T).dot(U.T)\n",
    "print(B)"
   ]
  },
  {
   "cell_type": "code",
   "execution_count": null,
   "id": "724c9586",
   "metadata": {},
   "outputs": [],
   "source": []
  }
 ],
 "metadata": {
  "kernelspec": {
   "display_name": "Python 3",
   "language": "python",
   "name": "python3"
  },
  "language_info": {
   "codemirror_mode": {
    "name": "ipython",
    "version": 3
   },
   "file_extension": ".py",
   "mimetype": "text/x-python",
   "name": "python",
   "nbconvert_exporter": "python",
   "pygments_lexer": "ipython3",
   "version": "3.8.8"
  }
 },
 "nbformat": 4,
 "nbformat_minor": 5
}
