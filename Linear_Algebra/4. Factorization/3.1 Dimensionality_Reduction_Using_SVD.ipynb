{
 "cells": [
  {
   "cell_type": "markdown",
   "id": "dcfd4638",
   "metadata": {},
   "source": [
    "## 3.1.1 Dimensionality Reduction"
   ]
  },
  {
   "cell_type": "markdown",
   "id": "7f07e98a",
   "metadata": {},
   "source": [
    "To do this we can perform an SVD\n",
    "operation on the original data and select the top k largest singular values in Σ. These columns\n",
    "can be selected from Σ and the rows selected from VT. An approximate B of the original vector\n",
    "A can then be reconstructed."
   ]
  },
  {
   "cell_type": "code",
   "execution_count": 18,
   "id": "542c1c22",
   "metadata": {},
   "outputs": [
    {
     "name": "stdout",
     "output_type": "stream",
     "text": [
      "[[ 1  2  3  4  5  6  7  8  9 10]\n",
      " [11 12 13 14 15 16 17 18 19 20]\n",
      " [21 22 23 24 25 26 27 28 29 30]]\n"
     ]
    }
   ],
   "source": [
    "# data reduction with SVD\n",
    "from numpy import array\n",
    "from numpy import diag\n",
    "from numpy import zeros\n",
    "from scipy.linalg import svd\n",
    "\n",
    "A = array([\n",
    "[1,2,3,4,5,6,7,8,9,10],\n",
    "[11,12,13,14,15,16,17,18,19,20],\n",
    "[21,22,23,24,25,26,27,28,29,30]])\n",
    "print(A)"
   ]
  },
  {
   "cell_type": "code",
   "execution_count": 19,
   "id": "742455fc",
   "metadata": {},
   "outputs": [],
   "source": [
    "# factorize\n",
    "U, s, V = svd(A)"
   ]
  },
  {
   "cell_type": "code",
   "execution_count": 20,
   "id": "dc1c71f2",
   "metadata": {},
   "outputs": [],
   "source": [
    "# create m x n Sigma matrix\n",
    "Sigma = zeros((A.shape[0], A.shape[1]))"
   ]
  },
  {
   "cell_type": "code",
   "execution_count": 21,
   "id": "44da1745",
   "metadata": {},
   "outputs": [],
   "source": [
    "# populate Sigma with n x n diagonal matrix\n",
    "Sigma[:A.shape[0], :A.shape[0]] = diag(s)"
   ]
  },
  {
   "cell_type": "code",
   "execution_count": 22,
   "id": "736da0ba",
   "metadata": {},
   "outputs": [
    {
     "name": "stdout",
     "output_type": "stream",
     "text": [
      "[[-0.24139304 -0.25728686 -0.27318068 -0.2890745  -0.30496832 -0.32086214\n",
      "  -0.33675595 -0.35264977 -0.36854359 -0.38443741]\n",
      " [ 0.53589546  0.42695236  0.31800926  0.20906617  0.10012307 -0.00882003\n",
      "  -0.11776313 -0.22670623 -0.33564933 -0.44459242]\n",
      " [ 0.09975293 -0.01037753  0.23987452  0.05273845  0.0996209  -0.46517509\n",
      "  -0.52300449 -0.23591804  0.593137    0.14935136]\n",
      " [-0.259848   -0.19489762 -0.10988774  0.9273013  -0.07153728 -0.05251768\n",
      "  -0.04829915 -0.05415057 -0.07582496 -0.0603383 ]\n",
      " [-0.26312174 -0.0585767  -0.12150761 -0.05740164  0.9302533  -0.0441965\n",
      "  -0.05005435 -0.07728074 -0.13808364 -0.12003039]\n",
      " [-0.34412869 -0.09157816  0.43274424 -0.05958094 -0.05492318  0.70339002\n",
      "  -0.33412339 -0.23272698  0.08693936 -0.10601229]\n",
      " [-0.3607094   0.01575684  0.51799467 -0.04727562 -0.05090152 -0.33292338\n",
      "   0.61579275 -0.27850803  0.07385978 -0.15308609]\n",
      " [-0.33345757  0.21857007  0.28415895 -0.02511566 -0.05422893 -0.22221261\n",
      "  -0.27509879  0.75032187 -0.10121342 -0.24172391]\n",
      " [-0.23733137  0.57140887 -0.45105898  0.01252895 -0.06910398  0.11951822\n",
      "   0.08414965 -0.10361154  0.46917172 -0.39567153]\n",
      " [-0.30296011  0.57190501 -0.00875539  0.01380706 -0.05685882 -0.08131326\n",
      "  -0.14406831 -0.23288126 -0.36263916  0.60376424]]\n",
      "\n",
      "\n",
      "[[-0.24139304 -0.25728686 -0.27318068 -0.2890745  -0.30496832 -0.32086214\n",
      "  -0.33675595 -0.35264977 -0.36854359 -0.38443741]\n",
      " [ 0.53589546  0.42695236  0.31800926  0.20906617  0.10012307 -0.00882003\n",
      "  -0.11776313 -0.22670623 -0.33564933 -0.44459242]]\n"
     ]
    }
   ],
   "source": [
    "#select \n",
    "n_elements = 2\n",
    "\n",
    "Sigma = Sigma[:, :n_elements]\n",
    "print(V)\n",
    "print('\\n')\n",
    "V =  V[:n_elements, :]\n",
    "print(V)"
   ]
  },
  {
   "cell_type": "code",
   "execution_count": 25,
   "id": "7667e5fd",
   "metadata": {},
   "outputs": [
    {
     "data": {
      "text/plain": [
       "array([[ 1.,  2.,  3.,  4.,  5.,  6.,  7.,  8.,  9., 10.],\n",
       "       [11., 12., 13., 14., 15., 16., 17., 18., 19., 20.],\n",
       "       [21., 22., 23., 24., 25., 26., 27., 28., 29., 30.]])"
      ]
     },
     "execution_count": 25,
     "metadata": {},
     "output_type": "execute_result"
    }
   ],
   "source": [
    "# reconstruct\n",
    "B = U.dot(Sigma.dot(V))\n",
    "B"
   ]
  },
  {
   "cell_type": "code",
   "execution_count": 26,
   "id": "5a2c22c1",
   "metadata": {},
   "outputs": [
    {
     "name": "stdout",
     "output_type": "stream",
     "text": [
      "[[-18.52157747  -6.47697214]\n",
      " [-49.81310011  -1.91182038]\n",
      " [-81.10462276   2.65333138]]\n"
     ]
    }
   ],
   "source": [
    "# transform\n",
    "T = U.dot(Sigma)\n",
    "print(T)"
   ]
  },
  {
   "cell_type": "code",
   "execution_count": 27,
   "id": "65987232",
   "metadata": {},
   "outputs": [
    {
     "name": "stdout",
     "output_type": "stream",
     "text": [
      "[[-18.52157747  -6.47697214]\n",
      " [-49.81310011  -1.91182038]\n",
      " [-81.10462276   2.65333138]]\n"
     ]
    }
   ],
   "source": [
    "T = A.dot(V.T)\n",
    "print(T)"
   ]
  },
  {
   "cell_type": "code",
   "execution_count": null,
   "id": "72e68896",
   "metadata": {},
   "outputs": [],
   "source": []
  },
  {
   "cell_type": "code",
   "execution_count": null,
   "id": "8466087e",
   "metadata": {},
   "outputs": [],
   "source": []
  },
  {
   "cell_type": "markdown",
   "id": "a3ecbb33",
   "metadata": {},
   "source": [
    "#### TruncatedSVD"
   ]
  },
  {
   "cell_type": "code",
   "execution_count": 29,
   "id": "79ca5751",
   "metadata": {},
   "outputs": [
    {
     "name": "stdout",
     "output_type": "stream",
     "text": [
      "[[ 1  2  3  4  5  6  7  8  9 10]\n",
      " [11 12 13 14 15 16 17 18 19 20]\n",
      " [21 22 23 24 25 26 27 28 29 30]]\n"
     ]
    }
   ],
   "source": [
    "from sklearn.decomposition import TruncatedSVD\n",
    "\n",
    "print(A)"
   ]
  },
  {
   "cell_type": "code",
   "execution_count": 30,
   "id": "b348146c",
   "metadata": {},
   "outputs": [
    {
     "data": {
      "text/plain": [
       "TruncatedSVD()"
      ]
     },
     "execution_count": 30,
     "metadata": {},
     "output_type": "execute_result"
    }
   ],
   "source": [
    "# create transform\n",
    "svd = TruncatedSVD(n_components=2)\n",
    "svd"
   ]
  },
  {
   "cell_type": "code",
   "execution_count": 31,
   "id": "48cd57fa",
   "metadata": {},
   "outputs": [
    {
     "data": {
      "text/plain": [
       "TruncatedSVD()"
      ]
     },
     "execution_count": 31,
     "metadata": {},
     "output_type": "execute_result"
    }
   ],
   "source": [
    "#fit transform\n",
    "svd.fit(A)"
   ]
  },
  {
   "cell_type": "code",
   "execution_count": 32,
   "id": "3b3f2894",
   "metadata": {},
   "outputs": [
    {
     "name": "stdout",
     "output_type": "stream",
     "text": [
      "[[18.52157747  6.47697214]\n",
      " [49.81310011  1.91182038]\n",
      " [81.10462276 -2.65333138]]\n"
     ]
    }
   ],
   "source": [
    "# apply transform\n",
    "result = svd.transform(A)\n",
    "print(result)"
   ]
  },
  {
   "cell_type": "code",
   "execution_count": null,
   "id": "800c4f50",
   "metadata": {},
   "outputs": [],
   "source": []
  }
 ],
 "metadata": {
  "kernelspec": {
   "display_name": "Python 3",
   "language": "python",
   "name": "python3"
  },
  "language_info": {
   "codemirror_mode": {
    "name": "ipython",
    "version": 3
   },
   "file_extension": ".py",
   "mimetype": "text/x-python",
   "name": "python",
   "nbconvert_exporter": "python",
   "pygments_lexer": "ipython3",
   "version": "3.8.8"
  }
 },
 "nbformat": 4,
 "nbformat_minor": 5
}
