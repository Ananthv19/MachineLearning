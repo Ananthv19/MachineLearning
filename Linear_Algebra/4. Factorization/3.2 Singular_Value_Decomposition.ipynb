{
 "cells": [
  {
   "cell_type": "code",
   "execution_count": 6,
   "id": "1c99571b",
   "metadata": {},
   "outputs": [
    {
     "data": {
      "text/plain": [
       "array([[0.86098943+0.15855506j, 0.96065728+0.24493764j,\n",
       "        0.76642113+0.8392693j , 0.21057974+0.96088021j,\n",
       "        0.17000827+0.50935831j, 0.70167709+0.91498716j],\n",
       "       [0.4099949 +0.28631238j, 0.37704167+0.33636653j,\n",
       "        0.36397416+0.06105407j, 0.23842297+0.07036614j,\n",
       "        0.47018923+0.15420732j, 0.69353183+0.9187092j ],\n",
       "       [0.0838375 +0.44318518j, 0.31740376+0.64156972j,\n",
       "        0.67181387+0.64863782j, 0.33051798+0.63732744j,\n",
       "        0.91889753+0.83259073j, 0.15268808+0.15608455j],\n",
       "       [0.71216098+0.54927858j, 0.39422415+0.72124562j,\n",
       "        0.05839416+0.79995067j, 0.17169993+0.10488006j,\n",
       "        0.6920566 +0.02422205j, 0.49780233+0.11722114j],\n",
       "       [0.01602702+0.81574955j, 0.39687203+0.9515899j ,\n",
       "        0.21011845+0.653405j  , 0.37971193+0.85291506j,\n",
       "        0.38749737+0.28853957j, 0.35581031+0.28526298j],\n",
       "       [0.27207967+0.63717894j, 0.96602348+0.21429236j,\n",
       "        0.28325593+0.42372907j, 0.24277027+0.14857528j,\n",
       "        0.46920957+0.16130459j, 0.23228411+0.86705978j],\n",
       "       [0.27242588+0.05998938j, 0.82837703+0.1975303j ,\n",
       "        0.88422436+0.07717147j, 0.58378561+0.29615065j,\n",
       "        0.31698408+0.37042992j, 0.76595707+0.43162204j],\n",
       "       [0.52044609+0.76926694j, 0.12907236+0.68270709j,\n",
       "        0.4727542 +0.8782639j , 0.57458307+0.83960439j,\n",
       "        0.81790494+0.83276394j, 0.74036949+0.33728878j],\n",
       "       [0.37520315+0.57988059j, 0.07585793+0.39235527j,\n",
       "        0.47596039+0.36703646j, 0.79823325+0.95146017j,\n",
       "        0.60765013+0.32953011j, 0.42729451+0.56426786j]])"
      ]
     },
     "execution_count": 6,
     "metadata": {},
     "output_type": "execute_result"
    }
   ],
   "source": [
    "import numpy as np\n",
    "a= np.random.rand(9, 6) + 1j*np.random.rand(9, 6)\n",
    "a"
   ]
  },
  {
   "cell_type": "markdown",
   "id": "5e9a7411",
   "metadata": {},
   "source": [
    "### Reconstruction based on full SVD:"
   ]
  },
  {
   "cell_type": "code",
   "execution_count": 7,
   "id": "1cba25c8",
   "metadata": {},
   "outputs": [],
   "source": [
    "U, s, V = np.linalg.svd(a, full_matrices=True)"
   ]
  },
  {
   "cell_type": "code",
   "execution_count": 8,
   "id": "bd60a8c4",
   "metadata": {},
   "outputs": [
    {
     "data": {
      "text/plain": [
       "array([5.16204763, 1.74069291, 1.31152003, 0.8668866 , 0.76026966,\n",
       "       0.29179377])"
      ]
     },
     "execution_count": 8,
     "metadata": {},
     "output_type": "execute_result"
    }
   ],
   "source": [
    "s"
   ]
  },
  {
   "cell_type": "code",
   "execution_count": null,
   "id": "fa00c0c8",
   "metadata": {},
   "outputs": [],
   "source": []
  },
  {
   "cell_type": "code",
   "execution_count": 10,
   "id": "c1ea4f52",
   "metadata": {},
   "outputs": [
    {
     "data": {
      "text/plain": [
       "((9, 9), (6, 6), (6,))"
      ]
     },
     "execution_count": 10,
     "metadata": {},
     "output_type": "execute_result"
    }
   ],
   "source": [
    "U.shape, V.shape, s.shape"
   ]
  },
  {
   "cell_type": "code",
   "execution_count": 12,
   "id": "b19acb5b",
   "metadata": {},
   "outputs": [
    {
     "data": {
      "text/plain": [
       "array([[0.+0.j, 0.+0.j, 0.+0.j, 0.+0.j, 0.+0.j, 0.+0.j],\n",
       "       [0.+0.j, 0.+0.j, 0.+0.j, 0.+0.j, 0.+0.j, 0.+0.j],\n",
       "       [0.+0.j, 0.+0.j, 0.+0.j, 0.+0.j, 0.+0.j, 0.+0.j],\n",
       "       [0.+0.j, 0.+0.j, 0.+0.j, 0.+0.j, 0.+0.j, 0.+0.j],\n",
       "       [0.+0.j, 0.+0.j, 0.+0.j, 0.+0.j, 0.+0.j, 0.+0.j],\n",
       "       [0.+0.j, 0.+0.j, 0.+0.j, 0.+0.j, 0.+0.j, 0.+0.j],\n",
       "       [0.+0.j, 0.+0.j, 0.+0.j, 0.+0.j, 0.+0.j, 0.+0.j],\n",
       "       [0.+0.j, 0.+0.j, 0.+0.j, 0.+0.j, 0.+0.j, 0.+0.j],\n",
       "       [0.+0.j, 0.+0.j, 0.+0.j, 0.+0.j, 0.+0.j, 0.+0.j]])"
      ]
     },
     "execution_count": 12,
     "metadata": {},
     "output_type": "execute_result"
    }
   ],
   "source": [
    "S = np.zeros((9, 6), dtype=complex)\n",
    "S"
   ]
  },
  {
   "cell_type": "code",
   "execution_count": 14,
   "id": "0fbdde17",
   "metadata": {},
   "outputs": [
    {
     "data": {
      "text/plain": [
       "array([[5.16204763+0.j, 0.        +0.j, 0.        +0.j, 0.        +0.j,\n",
       "        0.        +0.j, 0.        +0.j],\n",
       "       [0.        +0.j, 1.74069291+0.j, 0.        +0.j, 0.        +0.j,\n",
       "        0.        +0.j, 0.        +0.j],\n",
       "       [0.        +0.j, 0.        +0.j, 1.31152003+0.j, 0.        +0.j,\n",
       "        0.        +0.j, 0.        +0.j],\n",
       "       [0.        +0.j, 0.        +0.j, 0.        +0.j, 0.8668866 +0.j,\n",
       "        0.        +0.j, 0.        +0.j],\n",
       "       [0.        +0.j, 0.        +0.j, 0.        +0.j, 0.        +0.j,\n",
       "        0.76026966+0.j, 0.        +0.j],\n",
       "       [0.        +0.j, 0.        +0.j, 0.        +0.j, 0.        +0.j,\n",
       "        0.        +0.j, 0.29179377+0.j],\n",
       "       [0.        +0.j, 0.        +0.j, 0.        +0.j, 0.        +0.j,\n",
       "        0.        +0.j, 0.        +0.j],\n",
       "       [0.        +0.j, 0.        +0.j, 0.        +0.j, 0.        +0.j,\n",
       "        0.        +0.j, 0.        +0.j],\n",
       "       [0.        +0.j, 0.        +0.j, 0.        +0.j, 0.        +0.j,\n",
       "        0.        +0.j, 0.        +0.j]])"
      ]
     },
     "execution_count": 14,
     "metadata": {},
     "output_type": "execute_result"
    }
   ],
   "source": [
    "S[:6, :6] = np.diag(s)\n",
    "S"
   ]
  },
  {
   "cell_type": "code",
   "execution_count": 15,
   "id": "f4807cd4",
   "metadata": {},
   "outputs": [
    {
     "data": {
      "text/plain": [
       "True"
      ]
     },
     "execution_count": 15,
     "metadata": {},
     "output_type": "execute_result"
    }
   ],
   "source": [
    "np.allclose(a, np.dot(U, np.dot(S, V)))"
   ]
  },
  {
   "cell_type": "code",
   "execution_count": null,
   "id": "2abafb3d",
   "metadata": {},
   "outputs": [],
   "source": []
  },
  {
   "cell_type": "markdown",
   "id": "a1cff405",
   "metadata": {},
   "source": [
    "### Reconstruction based on reduced SVD:"
   ]
  },
  {
   "cell_type": "code",
   "execution_count": 18,
   "id": "95eeff4d",
   "metadata": {},
   "outputs": [
    {
     "data": {
      "text/plain": [
       "array([5.16204763, 1.74069291, 1.31152003, 0.8668866 , 0.76026966,\n",
       "       0.29179377])"
      ]
     },
     "execution_count": 18,
     "metadata": {},
     "output_type": "execute_result"
    }
   ],
   "source": [
    "U, s, v = np.linalg.svd(a, full_matrices=False)\n",
    "s"
   ]
  },
  {
   "cell_type": "code",
   "execution_count": 19,
   "id": "6fdeed15",
   "metadata": {},
   "outputs": [
    {
     "data": {
      "text/plain": [
       "((9, 6), (6, 6), (6,))"
      ]
     },
     "execution_count": 19,
     "metadata": {},
     "output_type": "execute_result"
    }
   ],
   "source": [
    "U.shape, V.shape, s.shape"
   ]
  },
  {
   "cell_type": "code",
   "execution_count": 20,
   "id": "a2ec73cc",
   "metadata": {},
   "outputs": [
    {
     "data": {
      "text/plain": [
       "array([[5.16204763, 0.        , 0.        , 0.        , 0.        ,\n",
       "        0.        ],\n",
       "       [0.        , 1.74069291, 0.        , 0.        , 0.        ,\n",
       "        0.        ],\n",
       "       [0.        , 0.        , 1.31152003, 0.        , 0.        ,\n",
       "        0.        ],\n",
       "       [0.        , 0.        , 0.        , 0.8668866 , 0.        ,\n",
       "        0.        ],\n",
       "       [0.        , 0.        , 0.        , 0.        , 0.76026966,\n",
       "        0.        ],\n",
       "       [0.        , 0.        , 0.        , 0.        , 0.        ,\n",
       "        0.29179377]])"
      ]
     },
     "execution_count": 20,
     "metadata": {},
     "output_type": "execute_result"
    }
   ],
   "source": [
    "S = np.diag(s)\n",
    "S"
   ]
  },
  {
   "cell_type": "code",
   "execution_count": 21,
   "id": "e4718086",
   "metadata": {},
   "outputs": [
    {
     "data": {
      "text/plain": [
       "True"
      ]
     },
     "execution_count": 21,
     "metadata": {},
     "output_type": "execute_result"
    }
   ],
   "source": [
    "np.allclose(a, np.dot(U, np.dot(S, V)))"
   ]
  },
  {
   "cell_type": "code",
   "execution_count": null,
   "id": "9b79b49d",
   "metadata": {},
   "outputs": [],
   "source": []
  }
 ],
 "metadata": {
  "kernelspec": {
   "display_name": "Python 3",
   "language": "python",
   "name": "python3"
  },
  "language_info": {
   "codemirror_mode": {
    "name": "ipython",
    "version": 3
   },
   "file_extension": ".py",
   "mimetype": "text/x-python",
   "name": "python",
   "nbconvert_exporter": "python",
   "pygments_lexer": "ipython3",
   "version": "3.8.8"
  }
 },
 "nbformat": 4,
 "nbformat_minor": 5
}
