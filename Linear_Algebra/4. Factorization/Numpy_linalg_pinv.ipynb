{
 "cells": [
  {
   "cell_type": "markdown",
   "id": "260d7354",
   "metadata": {},
   "source": [
    "The pseudo-inverse of a matrix A, denoted A^+, is defined as: “the matrix that ‘solves’ [the least-squares problem] Ax = b,” i.e., if \\bar{x} is said solution, then A^+ is that matrix such that \\bar{x} = A^+b."
   ]
  },
  {
   "cell_type": "code",
   "execution_count": null,
   "id": "9e7a6133",
   "metadata": {},
   "outputs": [],
   "source": []
  },
  {
   "cell_type": "markdown",
   "id": "20783f2b",
   "metadata": {},
   "source": [
    "It can be shown that if Q_1 \\Sigma Q_2^T = A is the singular value decomposition of A, then A^+ = Q_2 \\Sigma^+ Q_1^T, where Q_{1,2} are orthogonal matrices, \\Sigma is a diagonal matrix consisting of A’s so-called singular values, (followed, typically, by zeros), and then \\Sigma^+ is simply the diagonal matrix consisting of the reciprocals of A’s singular values (again, followed by zeros)."
   ]
  },
  {
   "cell_type": "code",
   "execution_count": 6,
   "id": "35323d28",
   "metadata": {},
   "outputs": [
    {
     "data": {
      "text/plain": [
       "array([[ 3.25770181e-01, -4.34774983e-01,  8.94112013e-01,\n",
       "         7.18406395e-01,  2.70091195e-01, -2.34836554e-01],\n",
       "       [-8.41830563e-01, -4.29499239e-01, -4.57704356e-01,\n",
       "        -2.04980320e-01,  1.40690638e+00,  1.06745317e+00],\n",
       "       [ 7.90447769e-01,  5.80427810e-01, -1.44309732e+00,\n",
       "         6.19176961e-01, -1.79263287e+00,  1.84557553e+00],\n",
       "       [-1.52509131e+00,  2.57788779e-01,  8.77230316e-01,\n",
       "         1.12357460e-04, -4.47082977e-01,  1.32570174e+00],\n",
       "       [-8.71681583e-01, -7.42129170e-01, -4.12290067e-01,\n",
       "        -1.94265627e+00, -1.66144443e+00, -1.29964005e+00],\n",
       "       [-2.09403068e-01,  1.02274123e+00,  7.30676624e-01,\n",
       "        -2.55366000e-01, -4.47081029e-01,  3.79007487e-01],\n",
       "       [-1.97548156e-01,  2.67147811e-01, -1.65791022e-01,\n",
       "        -1.01600382e+00,  1.75497309e+00, -5.84170997e-01],\n",
       "       [ 1.09407301e+00,  1.54062850e+00, -4.28921170e-02,\n",
       "        -8.87767228e-01, -1.57074002e+00,  8.85289069e-01],\n",
       "       [ 3.45157081e-01, -6.46559586e-01,  6.24769096e-01,\n",
       "         6.45868293e-01,  1.11191792e+00,  1.08944673e+00]])"
      ]
     },
     "execution_count": 6,
     "metadata": {},
     "output_type": "execute_result"
    }
   ],
   "source": [
    "import numpy as np\n",
    "\n",
    "a = np.random.randn(9, 6)\n",
    "a"
   ]
  },
  {
   "cell_type": "code",
   "execution_count": 7,
   "id": "376a50ef",
   "metadata": {},
   "outputs": [
    {
     "data": {
      "text/plain": [
       "array([[ 0.14967581, -0.07471879,  0.0011685 , -0.30789347,  0.04090805,\n",
       "        -0.09876332,  0.02416956,  0.29423269,  0.33518156],\n",
       "       [-0.17128598, -0.09987428, -0.01297154,  0.07206891, -0.33102931,\n",
       "         0.25154916,  0.1614362 ,  0.03218162, -0.42678239],\n",
       "       [ 0.23564229, -0.1265548 , -0.25208634,  0.13630995,  0.05867919,\n",
       "         0.13003439, -0.08547805,  0.17469455,  0.27294188],\n",
       "       [ 0.01284989, -0.14817793,  0.0895865 ,  0.04082832, -0.31340023,\n",
       "         0.01427476, -0.18836995, -0.32055144, -0.2728463 ],\n",
       "       [-0.04650212,  0.12603665, -0.07881721, -0.06853866, -0.13914384,\n",
       "        -0.00703969,  0.20282069, -0.01665561,  0.04215395],\n",
       "       [ 0.01379537,  0.20072727,  0.11958803,  0.11791932,  0.05588123,\n",
       "        -0.02262953, -0.00923683,  0.16889756,  0.31045236]])"
      ]
     },
     "execution_count": 7,
     "metadata": {},
     "output_type": "execute_result"
    }
   ],
   "source": [
    "B = np.linalg.pinv(a)\n",
    "B"
   ]
  },
  {
   "cell_type": "code",
   "execution_count": null,
   "id": "395af6ab",
   "metadata": {},
   "outputs": [],
   "source": []
  },
  {
   "cell_type": "code",
   "execution_count": 8,
   "id": "c59fe013",
   "metadata": {},
   "outputs": [
    {
     "data": {
      "text/plain": [
       "True"
      ]
     },
     "execution_count": 8,
     "metadata": {},
     "output_type": "execute_result"
    }
   ],
   "source": [
    "np.allclose(a, np.dot(a, np.dot(B, a)))"
   ]
  },
  {
   "cell_type": "code",
   "execution_count": 9,
   "id": "18a1c78c",
   "metadata": {},
   "outputs": [
    {
     "data": {
      "text/plain": [
       "True"
      ]
     },
     "execution_count": 9,
     "metadata": {},
     "output_type": "execute_result"
    }
   ],
   "source": [
    "np.allclose(B, np.dot(B, np.dot(a, B)))"
   ]
  },
  {
   "cell_type": "code",
   "execution_count": null,
   "id": "3f44720d",
   "metadata": {},
   "outputs": [],
   "source": []
  }
 ],
 "metadata": {
  "kernelspec": {
   "display_name": "Python 3",
   "language": "python",
   "name": "python3"
  },
  "language_info": {
   "codemirror_mode": {
    "name": "ipython",
    "version": 3
   },
   "file_extension": ".py",
   "mimetype": "text/x-python",
   "name": "python",
   "nbconvert_exporter": "python",
   "pygments_lexer": "ipython3",
   "version": "3.8.8"
  }
 },
 "nbformat": 4,
 "nbformat_minor": 5
}
