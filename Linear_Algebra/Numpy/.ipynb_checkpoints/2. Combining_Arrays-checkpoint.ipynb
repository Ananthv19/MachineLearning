{
 "cells": [
  {
   "cell_type": "code",
   "execution_count": 1,
   "id": "ba4c3217",
   "metadata": {},
   "outputs": [],
   "source": [
    "#NumPy provides many functions to create new arrays from existing arrays. Let’s look at two of\n",
    "#the most popular functions we may need or encounter."
   ]
  },
  {
   "cell_type": "markdown",
   "id": "4a58bb3b",
   "metadata": {},
   "source": [
    "## 2.1  Vertical Stack"
   ]
  },
  {
   "cell_type": "code",
   "execution_count": 4,
   "id": "adf06425",
   "metadata": {},
   "outputs": [
    {
     "name": "stdout",
     "output_type": "stream",
     "text": [
      "[1 2 3]\n",
      "[4 5 6]\n",
      "[[1 2 3]\n",
      " [4 5 6]]\n",
      "(2, 3)\n"
     ]
    }
   ],
   "source": [
    "# Given two or more existing arrays, you can stack them vertically using the vstack() function.\n",
    "\n",
    "from numpy import array\n",
    "from numpy import vstack\n",
    "\n",
    "a1 = array([1,2,3])\n",
    "print(a1)\n",
    "\n",
    "a2 = array([4,5,6])\n",
    "print(a2)\n",
    "\n",
    "a3 = vstack((a1,a2))\n",
    "print(a3)\n",
    "print(a3.shape)\n"
   ]
  },
  {
   "cell_type": "code",
   "execution_count": null,
   "id": "cccdec4a",
   "metadata": {},
   "outputs": [],
   "source": []
  },
  {
   "cell_type": "code",
   "execution_count": null,
   "id": "c124f18c",
   "metadata": {},
   "outputs": [],
   "source": []
  },
  {
   "cell_type": "markdown",
   "id": "6686f0ff",
   "metadata": {},
   "source": [
    "## 2.2  Horizontal Stack"
   ]
  },
  {
   "cell_type": "code",
   "execution_count": 5,
   "id": "18b51c54",
   "metadata": {},
   "outputs": [
    {
     "name": "stdout",
     "output_type": "stream",
     "text": [
      "[1 2 3]\n",
      "[4 5 6]\n",
      "[1 2 3 4 5 6]\n",
      "(6,)\n"
     ]
    }
   ],
   "source": [
    "#Given two or more existing arrays, you can stack them horizontally using the hstack() function.\n",
    "\n",
    "from numpy import hstack\n",
    "\n",
    "a1 = array([1,2,3])\n",
    "print(a1)\n",
    "\n",
    "a2 = array([4,5,6])\n",
    "print(a2)\n",
    "\n",
    "\n",
    "a3 = hstack((a1,a2))\n",
    "print(a3)\n",
    "print(a3.shape)"
   ]
  },
  {
   "cell_type": "code",
   "execution_count": 6,
   "id": "35cca61e",
   "metadata": {},
   "outputs": [
    {
     "data": {
      "text/plain": [
       "array([[1, 4],\n",
       "       [2, 5],\n",
       "       [3, 6]])"
      ]
     },
     "execution_count": 6,
     "metadata": {},
     "output_type": "execute_result"
    }
   ],
   "source": [
    "a = array([[1], [2], [3]])\n",
    "b = array([[4], [5], [6]])\n",
    "\n",
    "hstack((a,b))"
   ]
  },
  {
   "cell_type": "code",
   "execution_count": null,
   "id": "050fb94a",
   "metadata": {},
   "outputs": [],
   "source": []
  }
 ],
 "metadata": {
  "kernelspec": {
   "display_name": "Python 3",
   "language": "python",
   "name": "python3"
  },
  "language_info": {
   "codemirror_mode": {
    "name": "ipython",
    "version": 3
   },
   "file_extension": ".py",
   "mimetype": "text/x-python",
   "name": "python",
   "nbconvert_exporter": "python",
   "pygments_lexer": "ipython3",
   "version": "3.8.8"
  }
 },
 "nbformat": 4,
 "nbformat_minor": 5
}
