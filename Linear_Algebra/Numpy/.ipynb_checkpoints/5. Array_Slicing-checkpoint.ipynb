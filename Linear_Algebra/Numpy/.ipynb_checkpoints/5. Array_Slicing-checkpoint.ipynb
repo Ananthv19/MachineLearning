{
 "cells": [
  {
   "cell_type": "markdown",
   "id": "39a38ece",
   "metadata": {},
   "source": [
    "## 5.1  One-Dimensional Slicing"
   ]
  },
  {
   "cell_type": "code",
   "execution_count": 1,
   "id": "861b2636",
   "metadata": {},
   "outputs": [
    {
     "name": "stdout",
     "output_type": "stream",
     "text": [
      "[11 22 33 44 55]\n"
     ]
    }
   ],
   "source": [
    "from numpy import array\n",
    "\n",
    "data = array([11, 22, 33, 44, 55])\n",
    "print(data[:])"
   ]
  },
  {
   "cell_type": "code",
   "execution_count": 2,
   "id": "5a77e5f4",
   "metadata": {},
   "outputs": [
    {
     "name": "stdout",
     "output_type": "stream",
     "text": [
      "[11]\n"
     ]
    }
   ],
   "source": [
    "print(data[0:1])"
   ]
  },
  {
   "cell_type": "code",
   "execution_count": 3,
   "id": "8fa69d05",
   "metadata": {},
   "outputs": [
    {
     "name": "stdout",
     "output_type": "stream",
     "text": [
      "[44 55]\n"
     ]
    }
   ],
   "source": [
    "print(data[-2:])"
   ]
  },
  {
   "cell_type": "code",
   "execution_count": null,
   "id": "c1e7447e",
   "metadata": {},
   "outputs": [],
   "source": []
  },
  {
   "cell_type": "code",
   "execution_count": null,
   "id": "bafee1d1",
   "metadata": {},
   "outputs": [],
   "source": []
  },
  {
   "cell_type": "markdown",
   "id": "0898bb31",
   "metadata": {},
   "source": [
    "## 5.2 Two-Dimensional Slicing"
   ]
  },
  {
   "cell_type": "code",
   "execution_count": null,
   "id": "91aa032f",
   "metadata": {},
   "outputs": [],
   "source": []
  }
 ],
 "metadata": {
  "kernelspec": {
   "display_name": "Python 3",
   "language": "python",
   "name": "python3"
  },
  "language_info": {
   "codemirror_mode": {
    "name": "ipython",
    "version": 3
   },
   "file_extension": ".py",
   "mimetype": "text/x-python",
   "name": "python",
   "nbconvert_exporter": "python",
   "pygments_lexer": "ipython3",
   "version": "3.8.8"
  }
 },
 "nbformat": 4,
 "nbformat_minor": 5
}
