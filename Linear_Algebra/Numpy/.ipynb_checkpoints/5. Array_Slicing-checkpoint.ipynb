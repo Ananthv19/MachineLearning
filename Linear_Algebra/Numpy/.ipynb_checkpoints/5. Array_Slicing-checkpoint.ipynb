{
 "cells": [
  {
   "cell_type": "markdown",
   "id": "dbb343d9",
   "metadata": {},
   "source": [
    "## 5.1  One-Dimensional Slicing"
   ]
  },
  {
   "cell_type": "code",
   "execution_count": 1,
   "id": "93bd4bfb",
   "metadata": {},
   "outputs": [
    {
     "name": "stdout",
     "output_type": "stream",
     "text": [
      "[11 22 33 44 55]\n"
     ]
    }
   ],
   "source": [
    "from numpy import array\n",
    "\n",
    "data = array([11, 22, 33, 44, 55])\n",
    "print(data[:])"
   ]
  },
  {
   "cell_type": "code",
   "execution_count": 2,
   "id": "89c3c497",
   "metadata": {},
   "outputs": [
    {
     "name": "stdout",
     "output_type": "stream",
     "text": [
      "[11]\n"
     ]
    }
   ],
   "source": [
    "print(data[0:1])"
   ]
  },
  {
   "cell_type": "code",
   "execution_count": 3,
   "id": "0c2fdf1b",
   "metadata": {},
   "outputs": [
    {
     "name": "stdout",
     "output_type": "stream",
     "text": [
      "[44 55]\n"
     ]
    }
   ],
   "source": [
    "print(data[-2:])"
   ]
  },
  {
   "cell_type": "code",
   "execution_count": null,
   "id": "6ee5cc0e",
   "metadata": {},
   "outputs": [],
   "source": []
  },
  {
   "cell_type": "code",
   "execution_count": null,
   "id": "ebb38db7",
   "metadata": {},
   "outputs": [],
   "source": []
  },
  {
   "cell_type": "markdown",
   "id": "4dfaacba",
   "metadata": {},
   "source": [
    "## 5.2 Two-Dimensional Slicing"
   ]
  },
  {
   "cell_type": "markdown",
   "id": "c05b0740",
   "metadata": {},
   "source": [
    "#### we can select all rows and all columns except the last one by specifying : for in the rows index, and :-1 in the columns index. \n",
    "\n",
    "#### x=[:, :-1]  //slicing input variable\n",
    "\n",
    "#### y=[:-1]  //slicing output variable"
   ]
  },
  {
   "cell_type": "code",
   "execution_count": 4,
   "id": "76a993e4",
   "metadata": {},
   "outputs": [],
   "source": [
    "data = array([\n",
    "[11, 22, 33],\n",
    "[44, 55, 66],\n",
    "[77, 88, 99]])\n"
   ]
  },
  {
   "cell_type": "code",
   "execution_count": 6,
   "id": "15943d80",
   "metadata": {},
   "outputs": [],
   "source": [
    "x, y = data[:, :-1], data[:, -1]"
   ]
  },
  {
   "cell_type": "code",
   "execution_count": 7,
   "id": "21735ff9",
   "metadata": {},
   "outputs": [
    {
     "data": {
      "text/plain": [
       "array([[11, 22],\n",
       "       [44, 55],\n",
       "       [77, 88]])"
      ]
     },
     "execution_count": 7,
     "metadata": {},
     "output_type": "execute_result"
    }
   ],
   "source": [
    "x"
   ]
  },
  {
   "cell_type": "code",
   "execution_count": 8,
   "id": "2e2dcebc",
   "metadata": {},
   "outputs": [
    {
     "data": {
      "text/plain": [
       "array([33, 66, 99])"
      ]
     },
     "execution_count": 8,
     "metadata": {},
     "output_type": "execute_result"
    }
   ],
   "source": [
    "y"
   ]
  },
  {
   "cell_type": "code",
   "execution_count": null,
   "id": "7d169e9d",
   "metadata": {},
   "outputs": [],
   "source": []
  },
  {
   "cell_type": "code",
   "execution_count": null,
   "id": "1425624e",
   "metadata": {},
   "outputs": [],
   "source": []
  },
  {
   "cell_type": "markdown",
   "id": "31cfe9dc",
   "metadata": {},
   "source": [
    "### Split Train and Test Rows"
   ]
  },
  {
   "cell_type": "markdown",
   "id": "609a4b50",
   "metadata": {},
   "source": [
    "##### It is common to split a loaded dataset into separate train and test sets. This is a splitting of rows where some portion will be used to train the model and remaining portion will be used to estimate the skill of the trained model."
   ]
  },
  {
   "cell_type": "markdown",
   "id": "9a8b06d6",
   "metadata": {},
   "source": [
    "#### the training dataset would be all rows from the beginning to the split point.\n",
    "#### train = data[:split, :]"
   ]
  },
  {
   "cell_type": "markdown",
   "id": "e8b8a4d1",
   "metadata": {},
   "source": [
    "#### the test dataset would be all rows starting from the split point to the end ofthe dimension.\n",
    "#### test = data[split:, :]"
   ]
  },
  {
   "cell_type": "code",
   "execution_count": 9,
   "id": "123880c5",
   "metadata": {},
   "outputs": [
    {
     "data": {
      "text/plain": [
       "array([[11, 22, 33],\n",
       "       [44, 55, 66],\n",
       "       [77, 88, 99]])"
      ]
     },
     "execution_count": 9,
     "metadata": {},
     "output_type": "execute_result"
    }
   ],
   "source": [
    "data"
   ]
  },
  {
   "cell_type": "code",
   "execution_count": 10,
   "id": "9ac4708e",
   "metadata": {},
   "outputs": [],
   "source": [
    "split = 2;\n",
    "train, test = data[:split, :], data[split:, :]"
   ]
  },
  {
   "cell_type": "code",
   "execution_count": 11,
   "id": "ca1c43b9",
   "metadata": {},
   "outputs": [
    {
     "data": {
      "text/plain": [
       "array([[11, 22, 33],\n",
       "       [44, 55, 66]])"
      ]
     },
     "execution_count": 11,
     "metadata": {},
     "output_type": "execute_result"
    }
   ],
   "source": [
    "train"
   ]
  },
  {
   "cell_type": "code",
   "execution_count": 12,
   "id": "29681d13",
   "metadata": {},
   "outputs": [
    {
     "data": {
      "text/plain": [
       "array([[77, 88, 99]])"
      ]
     },
     "execution_count": 12,
     "metadata": {},
     "output_type": "execute_result"
    }
   ],
   "source": [
    "test"
   ]
  },
  {
   "cell_type": "code",
   "execution_count": null,
   "id": "6c0e5023",
   "metadata": {},
   "outputs": [],
   "source": []
  }
 ],
 "metadata": {
  "kernelspec": {
   "display_name": "Python 3",
   "language": "python",
   "name": "python3"
  },
  "language_info": {
   "codemirror_mode": {
    "name": "ipython",
    "version": 3
   },
   "file_extension": ".py",
   "mimetype": "text/x-python",
   "name": "python",
   "nbconvert_exporter": "python",
   "pygments_lexer": "ipython3",
   "version": "3.8.8"
  }
 },
 "nbformat": 4,
 "nbformat_minor": 5
}
