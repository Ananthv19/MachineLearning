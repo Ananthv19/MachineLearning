{
 "cells": [
  {
   "cell_type": "markdown",
   "id": "8f4097b3",
   "metadata": {},
   "source": [
    "#### After slicing your data, you may need to reshape it. For example, some libraries, such as scikit-learn, may require that a one-dimensional array of output variables (y) be shaped as a two-dimensional array with one column and outcomes for each column"
   ]
  },
  {
   "cell_type": "code",
   "execution_count": 1,
   "id": "28ca0894",
   "metadata": {},
   "outputs": [
    {
     "name": "stdout",
     "output_type": "stream",
     "text": [
      "(5,)\n"
     ]
    }
   ],
   "source": [
    "from numpy import array\n",
    "\n",
    "data = array([11, 22, 33, 44, 55])\n",
    "print(data.shape)"
   ]
  },
  {
   "cell_type": "code",
   "execution_count": 4,
   "id": "f6d8ea24",
   "metadata": {},
   "outputs": [],
   "source": [
    "data = [[11, 22],\n",
    "[44, 55],\n",
    "[77, 88]]\n",
    "data = array(data)\n"
   ]
  },
  {
   "cell_type": "code",
   "execution_count": 5,
   "id": "ad34ee85",
   "metadata": {},
   "outputs": [
    {
     "data": {
      "text/plain": [
       "(3, 2)"
      ]
     },
     "execution_count": 5,
     "metadata": {},
     "output_type": "execute_result"
    }
   ],
   "source": [
    "data.shape"
   ]
  },
  {
   "cell_type": "code",
   "execution_count": 6,
   "id": "3fb7ca71",
   "metadata": {},
   "outputs": [
    {
     "name": "stdout",
     "output_type": "stream",
     "text": [
      "Rows: 3\n"
     ]
    }
   ],
   "source": [
    "print('Rows: %d' %data.shape[0]) # 0th index for number of rows"
   ]
  },
  {
   "cell_type": "code",
   "execution_count": 7,
   "id": "1f72e891",
   "metadata": {},
   "outputs": [
    {
     "name": "stdout",
     "output_type": "stream",
     "text": [
      "Cols: 2\n"
     ]
    }
   ],
   "source": [
    "print('Cols: %d' %data.shape[1]) #1st index for the number of columns"
   ]
  },
  {
   "cell_type": "code",
   "execution_count": null,
   "id": "6ea0cadd",
   "metadata": {},
   "outputs": [],
   "source": []
  },
  {
   "cell_type": "code",
   "execution_count": null,
   "id": "9f3fe1d7",
   "metadata": {},
   "outputs": [],
   "source": []
  },
  {
   "cell_type": "markdown",
   "id": "0f7d7c94",
   "metadata": {},
   "source": [
    "## 6.1 Reshape 1D to 2D Array"
   ]
  },
  {
   "cell_type": "markdown",
   "id": "3c133878",
   "metadata": {},
   "source": [
    "#### It is common to need to reshape a one-dimensional array into a two-dimensional array with one column and multiple arrays."
   ]
  },
  {
   "cell_type": "markdown",
   "id": "b6411a96",
   "metadata": {},
   "source": [
    "#### Numpy provides reshape() function on the Numpy array object that can be used to reshape the data."
   ]
  },
  {
   "cell_type": "markdown",
   "id": "4614b3e1",
   "metadata": {},
   "source": [
    "#### The reshape() function takes a single argument that specifies the new shape of the array."
   ]
  },
  {
   "cell_type": "code",
   "execution_count": 14,
   "id": "d0e09f6f",
   "metadata": {},
   "outputs": [
    {
     "name": "stdout",
     "output_type": "stream",
     "text": [
      "(6,)\n"
     ]
    }
   ],
   "source": [
    "data = array([11, 22, 33, 44, 55, 66])\n",
    "print(data.shape)"
   ]
  },
  {
   "cell_type": "code",
   "execution_count": 25,
   "id": "61761619",
   "metadata": {},
   "outputs": [
    {
     "data": {
      "text/plain": [
       "array([[11, 22],\n",
       "       [33, 44],\n",
       "       [55, 66]])"
      ]
     },
     "execution_count": 25,
     "metadata": {},
     "output_type": "execute_result"
    }
   ],
   "source": [
    "data = data.reshape((3, 2))\n",
    "data"
   ]
  },
  {
   "cell_type": "code",
   "execution_count": 26,
   "id": "7c534927",
   "metadata": {},
   "outputs": [
    {
     "data": {
      "text/plain": [
       "(3, 2)"
      ]
     },
     "execution_count": 26,
     "metadata": {},
     "output_type": "execute_result"
    }
   ],
   "source": [
    "data.shape"
   ]
  },
  {
   "cell_type": "code",
   "execution_count": 17,
   "id": "d66b026e",
   "metadata": {},
   "outputs": [],
   "source": [
    "data = array([11, 22, 33, 44, 55, 66])\n",
    "data = data.reshape([data.shape[0], 1])"
   ]
  },
  {
   "cell_type": "code",
   "execution_count": 18,
   "id": "c165f60b",
   "metadata": {},
   "outputs": [
    {
     "data": {
      "text/plain": [
       "array([[11],\n",
       "       [22],\n",
       "       [33],\n",
       "       [44],\n",
       "       [55],\n",
       "       [66]])"
      ]
     },
     "execution_count": 18,
     "metadata": {},
     "output_type": "execute_result"
    }
   ],
   "source": [
    "data"
   ]
  },
  {
   "cell_type": "code",
   "execution_count": 19,
   "id": "94e76068",
   "metadata": {},
   "outputs": [
    {
     "data": {
      "text/plain": [
       "(6, 1)"
      ]
     },
     "execution_count": 19,
     "metadata": {},
     "output_type": "execute_result"
    }
   ],
   "source": [
    "data.shape"
   ]
  },
  {
   "cell_type": "code",
   "execution_count": 22,
   "id": "b7db2b83",
   "metadata": {},
   "outputs": [],
   "source": [
    "data = array([11, 22, 33, 44, 55, 66])\n",
    "data = data.reshape([2, 3])"
   ]
  },
  {
   "cell_type": "code",
   "execution_count": 23,
   "id": "5f799fed",
   "metadata": {},
   "outputs": [
    {
     "data": {
      "text/plain": [
       "array([[11, 22, 33],\n",
       "       [44, 55, 66]])"
      ]
     },
     "execution_count": 23,
     "metadata": {},
     "output_type": "execute_result"
    }
   ],
   "source": [
    "data"
   ]
  },
  {
   "cell_type": "code",
   "execution_count": null,
   "id": "49e0ca64",
   "metadata": {},
   "outputs": [],
   "source": []
  },
  {
   "cell_type": "code",
   "execution_count": null,
   "id": "6c2b1b67",
   "metadata": {},
   "outputs": [],
   "source": []
  },
  {
   "cell_type": "markdown",
   "id": "9ca306f1",
   "metadata": {},
   "source": [
    "## 6.2  Reshape 2D to 1D Array"
   ]
  },
  {
   "cell_type": "code",
   "execution_count": 29,
   "id": "ab9bdf01",
   "metadata": {},
   "outputs": [],
   "source": [
    "data = array([[1, 2, 3],\n",
    "             [4, 5, 6]])\n",
    "data = data.flatten()"
   ]
  },
  {
   "cell_type": "code",
   "execution_count": 30,
   "id": "25594a88",
   "metadata": {},
   "outputs": [
    {
     "data": {
      "text/plain": [
       "array([1, 2, 3, 4, 5, 6])"
      ]
     },
     "execution_count": 30,
     "metadata": {},
     "output_type": "execute_result"
    }
   ],
   "source": [
    "data"
   ]
  },
  {
   "cell_type": "code",
   "execution_count": null,
   "id": "24a4ff18",
   "metadata": {},
   "outputs": [],
   "source": []
  },
  {
   "cell_type": "code",
   "execution_count": null,
   "id": "ed91cf15",
   "metadata": {},
   "outputs": [],
   "source": []
  },
  {
   "cell_type": "markdown",
   "id": "3821cbf4",
   "metadata": {},
   "source": [
    "## 6.3 Reshape 2D to 3D Array"
   ]
  },
  {
   "cell_type": "markdown",
   "id": "e65c6872",
   "metadata": {},
   "source": [
    "#### The reshape function can be used directly, specifying the new dimensionality. This is clear with an example where each sequence has multiple time steps with one observation (feature) at each time step."
   ]
  },
  {
   "cell_type": "markdown",
   "id": "b7bee78a",
   "metadata": {},
   "source": [
    "#### We can use the sizes in the shape attribute on the array to specify the number of samples (rows) and columns (time steps) and fix the number of features at 1."
   ]
  },
  {
   "cell_type": "code",
   "execution_count": 38,
   "id": "3b5e5a30",
   "metadata": {},
   "outputs": [
    {
     "data": {
      "text/plain": [
       "(3, 4)"
      ]
     },
     "execution_count": 38,
     "metadata": {},
     "output_type": "execute_result"
    }
   ],
   "source": [
    "data = [[11, 22, 33, 44],\n",
    "[55, 66, 77, 88],\n",
    "[99, 111, 222, 333]]\n",
    "\n",
    "data = array(data)\n",
    "data.shape"
   ]
  },
  {
   "cell_type": "code",
   "execution_count": 43,
   "id": "c0c480f3",
   "metadata": {},
   "outputs": [],
   "source": [
    "data = data.reshape((data.shape[0], data.shape[1], 1))"
   ]
  },
  {
   "cell_type": "code",
   "execution_count": 42,
   "id": "e2536c91",
   "metadata": {},
   "outputs": [
    {
     "data": {
      "text/plain": [
       "array([[[ 11],\n",
       "        [ 22],\n",
       "        [ 33],\n",
       "        [ 44]],\n",
       "\n",
       "       [[ 55],\n",
       "        [ 66],\n",
       "        [ 77],\n",
       "        [ 88]],\n",
       "\n",
       "       [[ 99],\n",
       "        [111],\n",
       "        [222],\n",
       "        [333]]])"
      ]
     },
     "execution_count": 42,
     "metadata": {},
     "output_type": "execute_result"
    }
   ],
   "source": [
    "data"
   ]
  },
  {
   "cell_type": "code",
   "execution_count": 37,
   "id": "a9d16527",
   "metadata": {},
   "outputs": [
    {
     "data": {
      "text/plain": [
       "(3, 2, 1)"
      ]
     },
     "execution_count": 37,
     "metadata": {},
     "output_type": "execute_result"
    }
   ],
   "source": [
    "data.shape"
   ]
  },
  {
   "cell_type": "code",
   "execution_count": 45,
   "id": "2ba711d9",
   "metadata": {},
   "outputs": [
    {
     "data": {
      "text/plain": [
       "array([[[11],\n",
       "        [22]],\n",
       "\n",
       "       [[33],\n",
       "        [44]],\n",
       "\n",
       "       [[55],\n",
       "        [66]]])"
      ]
     },
     "execution_count": 45,
     "metadata": {},
     "output_type": "execute_result"
    }
   ],
   "source": [
    "data = [[11, 22],\n",
    "[33, 44],\n",
    "[55, 66]]\n",
    "\n",
    "data = array(data)\n",
    "\n",
    "data = data.reshape((data.shape[0], data.shape[1], 1))\n",
    "data"
   ]
  },
  {
   "cell_type": "code",
   "execution_count": 49,
   "id": "f0320100",
   "metadata": {},
   "outputs": [],
   "source": [
    "data = [[11, 22, 33, 44],\n",
    "[55, 66, 77, 88],\n",
    "[99, 111, 222, 333]]\n",
    "\n",
    "data = array(data)\n",
    "\n",
    "data = data.reshape((data.shape[0]-1, data.shape[1]-1, 2))"
   ]
  },
  {
   "cell_type": "code",
   "execution_count": 47,
   "id": "a98d0a42",
   "metadata": {},
   "outputs": [
    {
     "data": {
      "text/plain": [
       "array([[[ 11],\n",
       "        [ 22],\n",
       "        [ 33],\n",
       "        [ 44]],\n",
       "\n",
       "       [[ 55],\n",
       "        [ 66],\n",
       "        [ 77],\n",
       "        [ 88]],\n",
       "\n",
       "       [[ 99],\n",
       "        [111],\n",
       "        [222],\n",
       "        [333]]])"
      ]
     },
     "execution_count": 47,
     "metadata": {},
     "output_type": "execute_result"
    }
   ],
   "source": [
    "data"
   ]
  },
  {
   "cell_type": "code",
   "execution_count": 50,
   "id": "96f23ff5",
   "metadata": {},
   "outputs": [
    {
     "data": {
      "text/plain": [
       "(2, 3, 2)"
      ]
     },
     "execution_count": 50,
     "metadata": {},
     "output_type": "execute_result"
    }
   ],
   "source": [
    "data.shape"
   ]
  },
  {
   "cell_type": "code",
   "execution_count": null,
   "id": "76b709d6",
   "metadata": {},
   "outputs": [],
   "source": []
  }
 ],
 "metadata": {
  "kernelspec": {
   "display_name": "Python 3",
   "language": "python",
   "name": "python3"
  },
  "language_info": {
   "codemirror_mode": {
    "name": "ipython",
    "version": 3
   },
   "file_extension": ".py",
   "mimetype": "text/x-python",
   "name": "python",
   "nbconvert_exporter": "python",
   "pygments_lexer": "ipython3",
   "version": "3.8.8"
  }
 },
 "nbformat": 4,
 "nbformat_minor": 5
}
