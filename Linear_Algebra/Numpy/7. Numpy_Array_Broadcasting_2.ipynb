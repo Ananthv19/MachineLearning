{
 "cells": [
  {
   "cell_type": "markdown",
   "id": "1152fc2c",
   "metadata": {},
   "source": [
    "#### Broadcasting is Numpy's terminology for performing mathematical operations between arrays with different shapes"
   ]
  },
  {
   "cell_type": "markdown",
   "id": "77e8157f",
   "metadata": {},
   "source": [
    "#### Broadcasting is often described as an operation between a \"smaller\" and a \"larger\" array."
   ]
  },
  {
   "cell_type": "code",
   "execution_count": 1,
   "id": "25016f7b",
   "metadata": {},
   "outputs": [],
   "source": [
    "# https://eli.thegreenplace.net/2015/broadcasting-arrays-in-numpy/"
   ]
  },
  {
   "cell_type": "code",
   "execution_count": 3,
   "id": "5f7003ac",
   "metadata": {},
   "outputs": [],
   "source": [
    "from numpy import array"
   ]
  },
  {
   "cell_type": "code",
   "execution_count": 4,
   "id": "023dfac8",
   "metadata": {},
   "outputs": [],
   "source": [
    "macros = array([\n",
    "  [0.3, 2.5, 3.5],\n",
    "  [2.9, 27.5, 0],\n",
    "  [0.4, 1.3, 23.9],\n",
    "  [14.4, 6, 2.3]])"
   ]
  },
  {
   "cell_type": "code",
   "execution_count": 5,
   "id": "ff5630a7",
   "metadata": {},
   "outputs": [
    {
     "data": {
      "text/plain": [
       "array([[0., 0., 0.],\n",
       "       [0., 0., 0.],\n",
       "       [0., 0., 0.],\n",
       "       [0., 0., 0.]])"
      ]
     },
     "execution_count": 5,
     "metadata": {},
     "output_type": "execute_result"
    }
   ],
   "source": [
    "#Create a new array filled with zeros, of the same shape as macros.\n",
    "from numpy import zeros_like\n",
    "result = zeros_like(macros)\n",
    "result"
   ]
  },
  {
   "cell_type": "code",
   "execution_count": 7,
   "id": "b2dae42f",
   "metadata": {},
   "outputs": [
    {
     "data": {
      "text/plain": [
       "array([9, 4, 4])"
      ]
     },
     "execution_count": 7,
     "metadata": {},
     "output_type": "execute_result"
    }
   ],
   "source": [
    "cal_per_macro = array([9, 4, 4])\n",
    "cal_per_macro"
   ]
  },
  {
   "cell_type": "code",
   "execution_count": 11,
   "id": "881abb2e",
   "metadata": {},
   "outputs": [],
   "source": [
    "for i in range(macros.shape[0]):\n",
    "    result[i, :] = macros[i, :]* cal_per_macro"
   ]
  },
  {
   "cell_type": "code",
   "execution_count": 12,
   "id": "d652e6cf",
   "metadata": {},
   "outputs": [
    {
     "data": {
      "text/plain": [
       "array([[  2.7,  10. ,  14. ],\n",
       "       [ 26.1, 110. ,   0. ],\n",
       "       [  3.6,   5.2,  95.6],\n",
       "       [129.6,  24. ,   9.2]])"
      ]
     },
     "execution_count": 12,
     "metadata": {},
     "output_type": "execute_result"
    }
   ],
   "source": [
    "result"
   ]
  },
  {
   "cell_type": "code",
   "execution_count": null,
   "id": "dbc55b03",
   "metadata": {},
   "outputs": [],
   "source": []
  },
  {
   "cell_type": "code",
   "execution_count": 13,
   "id": "52cd4016",
   "metadata": {},
   "outputs": [],
   "source": [
    "from numpy import tile"
   ]
  },
  {
   "cell_type": "code",
   "execution_count": 14,
   "id": "57e9a3ea",
   "metadata": {},
   "outputs": [
    {
     "data": {
      "text/plain": [
       "array([0, 1, 2, 0, 1, 2])"
      ]
     },
     "execution_count": 14,
     "metadata": {},
     "output_type": "execute_result"
    }
   ],
   "source": [
    "# 'tile' function replicates the same array.\n",
    "a = array([0,1,2,])\n",
    "tile(a,2)"
   ]
  },
  {
   "cell_type": "code",
   "execution_count": 16,
   "id": "1c323c60",
   "metadata": {},
   "outputs": [
    {
     "data": {
      "text/plain": [
       "array([[0, 1, 2, 0, 1, 2],\n",
       "       [0, 1, 2, 0, 1, 2]])"
      ]
     },
     "execution_count": 16,
     "metadata": {},
     "output_type": "execute_result"
    }
   ],
   "source": [
    "tile(a,(2,2))"
   ]
  },
  {
   "cell_type": "code",
   "execution_count": 31,
   "id": "ce09715e",
   "metadata": {},
   "outputs": [
    {
     "data": {
      "text/plain": [
       "array([0, 1, 2])"
      ]
     },
     "execution_count": 31,
     "metadata": {},
     "output_type": "execute_result"
    }
   ],
   "source": [
    "tile(a,1) #Same array"
   ]
  },
  {
   "cell_type": "code",
   "execution_count": 17,
   "id": "87da2185",
   "metadata": {},
   "outputs": [
    {
     "data": {
      "text/plain": [
       "array([[[0, 1, 2, 0, 1, 2]],\n",
       "\n",
       "       [[0, 1, 2, 0, 1, 2]]])"
      ]
     },
     "execution_count": 17,
     "metadata": {},
     "output_type": "execute_result"
    }
   ],
   "source": [
    "tile(a,(2,1,2))"
   ]
  },
  {
   "cell_type": "code",
   "execution_count": 20,
   "id": "20b71366",
   "metadata": {},
   "outputs": [
    {
     "data": {
      "text/plain": [
       "array([[1, 2, 1, 2],\n",
       "       [3, 4, 3, 4]])"
      ]
     },
     "execution_count": 20,
     "metadata": {},
     "output_type": "execute_result"
    }
   ],
   "source": [
    "b = array([[1, 2], [3, 4]])\n",
    "tile(b, 2)"
   ]
  },
  {
   "cell_type": "code",
   "execution_count": 22,
   "id": "18487a1a",
   "metadata": {},
   "outputs": [
    {
     "data": {
      "text/plain": [
       "array([[1, 2],\n",
       "       [3, 4],\n",
       "       [1, 2],\n",
       "       [3, 4]])"
      ]
     },
     "execution_count": 22,
     "metadata": {},
     "output_type": "execute_result"
    }
   ],
   "source": [
    "tile(b, (2, 1))"
   ]
  },
  {
   "cell_type": "code",
   "execution_count": null,
   "id": "74debe8e",
   "metadata": {},
   "outputs": [],
   "source": []
  },
  {
   "cell_type": "code",
   "execution_count": null,
   "id": "2bdca4c8",
   "metadata": {},
   "outputs": [],
   "source": []
  },
  {
   "cell_type": "markdown",
   "id": "5b7cfdef",
   "metadata": {},
   "source": [
    "### Efficient way of multiplying arrays\n",
    "   Nice, it's shorter too. And much, much faster!"
   ]
  },
  {
   "cell_type": "code",
   "execution_count": 23,
   "id": "9c8e1a74",
   "metadata": {},
   "outputs": [],
   "source": [
    "# Use the 'tile' function to replicate cal_per_macro over the number\n",
    "# of rows 'macros' has (rows is the first element of the shape tuple for\n",
    "# a 2-D array)."
   ]
  },
  {
   "cell_type": "code",
   "execution_count": 28,
   "id": "f5189b1b",
   "metadata": {},
   "outputs": [
    {
     "data": {
      "text/plain": [
       "array([9, 4, 4])"
      ]
     },
     "execution_count": 28,
     "metadata": {},
     "output_type": "execute_result"
    }
   ],
   "source": [
    "cal_per_macro"
   ]
  },
  {
   "cell_type": "code",
   "execution_count": 29,
   "id": "eabcf0c0",
   "metadata": {},
   "outputs": [
    {
     "data": {
      "text/plain": [
       "4"
      ]
     },
     "execution_count": 29,
     "metadata": {},
     "output_type": "execute_result"
    }
   ],
   "source": [
    "macros.shape[0]"
   ]
  },
  {
   "cell_type": "code",
   "execution_count": 30,
   "id": "e3581d9a",
   "metadata": {},
   "outputs": [
    {
     "data": {
      "text/plain": [
       "(4, 1)"
      ]
     },
     "execution_count": 30,
     "metadata": {},
     "output_type": "execute_result"
    }
   ],
   "source": [
    "macros.shape[0], 1"
   ]
  },
  {
   "cell_type": "code",
   "execution_count": 35,
   "id": "0f9bbc70",
   "metadata": {},
   "outputs": [
    {
     "data": {
      "text/plain": [
       "array([[9, 4, 4],\n",
       "       [9, 4, 4],\n",
       "       [9, 4, 4],\n",
       "       [9, 4, 4]])"
      ]
     },
     "execution_count": 35,
     "metadata": {},
     "output_type": "execute_result"
    }
   ],
   "source": [
    "cal_per_macro_stretch = tile(cal_per_macro, (macros.shape[0], 1))\n",
    "cal_per_macro_stretch"
   ]
  },
  {
   "cell_type": "code",
   "execution_count": 36,
   "id": "15ea18b7",
   "metadata": {},
   "outputs": [
    {
     "data": {
      "text/plain": [
       "array([[  2.7,  10. ,  14. ],\n",
       "       [ 26.1, 110. ,   0. ],\n",
       "       [  3.6,   5.2,  95.6],\n",
       "       [129.6,  24. ,   9.2]])"
      ]
     },
     "execution_count": 36,
     "metadata": {},
     "output_type": "execute_result"
    }
   ],
   "source": [
    "macros * cal_per_macro_stretch"
   ]
  },
  {
   "cell_type": "code",
   "execution_count": null,
   "id": "176cf901",
   "metadata": {},
   "outputs": [],
   "source": []
  }
 ],
 "metadata": {
  "kernelspec": {
   "display_name": "Python 3",
   "language": "python",
   "name": "python3"
  },
  "language_info": {
   "codemirror_mode": {
    "name": "ipython",
    "version": 3
   },
   "file_extension": ".py",
   "mimetype": "text/x-python",
   "name": "python",
   "nbconvert_exporter": "python",
   "pygments_lexer": "ipython3",
   "version": "3.8.8"
  }
 },
 "nbformat": 4,
 "nbformat_minor": 5
}
