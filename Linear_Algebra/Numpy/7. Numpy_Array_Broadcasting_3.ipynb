{
 "cells": [
  {
   "cell_type": "code",
   "execution_count": 3,
   "id": "fed5fbc5",
   "metadata": {},
   "outputs": [],
   "source": [
    "# Example of broadcasting"
   ]
  },
  {
   "cell_type": "code",
   "execution_count": 2,
   "id": "c017df8a",
   "metadata": {},
   "outputs": [],
   "source": [
    "# (4, 3)                   (4, 3)\n",
    "#          == padding ==>          == result ==> (4, 3)\n",
    "# (3,)                     (1, 3)"
   ]
  },
  {
   "cell_type": "code",
   "execution_count": 4,
   "id": "8a95cd10",
   "metadata": {},
   "outputs": [],
   "source": [
    "# (3,)                       (1, 1, 3)\n",
    "#            == padding ==>             == result ==> (5, 4, 3)\n",
    "# (5, 4, 3)                  (5, 4, 3)"
   ]
  },
  {
   "cell_type": "code",
   "execution_count": 5,
   "id": "de9a7547",
   "metadata": {},
   "outputs": [],
   "source": [
    "# Note, however, that only left-padding with 1s is allowed. Therefore:\n",
    "\n",
    "    \n",
    "# (5,)                       (1, 1, 5)\n",
    "#            == padding ==>             ==> error (5 != 3)\n",
    "# (5, 4, 3)                  (5, 4, 3)"
   ]
  },
  {
   "cell_type": "code",
   "execution_count": 6,
   "id": "9a78ed7e",
   "metadata": {},
   "outputs": [],
   "source": [
    "# (5, 4, 3)                     (1, 5, 4, 3)\n",
    "#               == padding ==>                == result ==> (6, 5, 4, 3)\n",
    "# (6, 5, 4, 3)                  (6, 5, 4, 3)"
   ]
  },
  {
   "cell_type": "code",
   "execution_count": 7,
   "id": "7a17bd7e",
   "metadata": {},
   "outputs": [],
   "source": [
    "# (5, 4, 1)\n",
    "#            == no padding needed ==> result ==> (5, 4, 3)\n",
    "# (5, 1, 3)"
   ]
  },
  {
   "cell_type": "code",
   "execution_count": 8,
   "id": "757ad3dd",
   "metadata": {},
   "outputs": [
    {
     "data": {
      "text/plain": [
       "array([[2., 2., 2.],\n",
       "       [2., 2., 2.],\n",
       "       [2., 2., 2.],\n",
       "       [2., 2., 2.]])"
      ]
     },
     "execution_count": 8,
     "metadata": {},
     "output_type": "execute_result"
    }
   ],
   "source": [
    "from numpy import ones\n",
    "ones((4,3))+1"
   ]
  },
  {
   "cell_type": "code",
   "execution_count": 9,
   "id": "0c26a5d3",
   "metadata": {},
   "outputs": [
    {
     "data": {
      "text/plain": [
       "array([[1.]])"
      ]
     },
     "execution_count": 9,
     "metadata": {},
     "output_type": "execute_result"
    }
   ],
   "source": [
    "# is the same as\n",
    "\n",
    "one = ones((1,1))\n",
    "one"
   ]
  },
  {
   "cell_type": "code",
   "execution_count": 10,
   "id": "e782b2e3",
   "metadata": {},
   "outputs": [
    {
     "data": {
      "text/plain": [
       "array([[2., 2., 2.],\n",
       "       [2., 2., 2.],\n",
       "       [2., 2., 2.],\n",
       "       [2., 2., 2.]])"
      ]
     },
     "execution_count": 10,
     "metadata": {},
     "output_type": "execute_result"
    }
   ],
   "source": [
    "ones((4,3)) + one"
   ]
  },
  {
   "cell_type": "code",
   "execution_count": null,
   "id": "06d9af3e",
   "metadata": {},
   "outputs": [],
   "source": []
  },
  {
   "cell_type": "code",
   "execution_count": null,
   "id": "24d1acbc",
   "metadata": {},
   "outputs": [],
   "source": []
  },
  {
   "cell_type": "markdown",
   "id": "a50eb544",
   "metadata": {},
   "source": [
    "## Explicit broadcasting with numpy.broadcast"
   ]
  },
  {
   "cell_type": "code",
   "execution_count": 11,
   "id": "3aac869a",
   "metadata": {},
   "outputs": [],
   "source": [
    "from numpy import array\n",
    "macros = array([\n",
    "  [0.3, 2.5, 3.5],\n",
    "  [2.9, 27.5, 0],\n",
    "  [0.4, 1.3, 23.9],\n",
    "  [14.4, 6, 2.3]])"
   ]
  },
  {
   "cell_type": "code",
   "execution_count": 12,
   "id": "fa894c1d",
   "metadata": {},
   "outputs": [],
   "source": [
    "cal_per_macro = array([9, 4, 4])"
   ]
  },
  {
   "cell_type": "code",
   "execution_count": 14,
   "id": "0edfb6d5",
   "metadata": {},
   "outputs": [
    {
     "data": {
      "text/plain": [
       "(4, 3)"
      ]
     },
     "execution_count": 14,
     "metadata": {},
     "output_type": "execute_result"
    }
   ],
   "source": [
    "macros.shape"
   ]
  },
  {
   "cell_type": "code",
   "execution_count": 15,
   "id": "6717cae3",
   "metadata": {},
   "outputs": [
    {
     "data": {
      "text/plain": [
       "(3,)"
      ]
     },
     "execution_count": 15,
     "metadata": {},
     "output_type": "execute_result"
    }
   ],
   "source": [
    "cal_per_macro.shape"
   ]
  },
  {
   "cell_type": "code",
   "execution_count": 16,
   "id": "737541e2",
   "metadata": {},
   "outputs": [],
   "source": [
    "from numpy import broadcast"
   ]
  },
  {
   "cell_type": "code",
   "execution_count": 19,
   "id": "80767252",
   "metadata": {},
   "outputs": [
    {
     "data": {
      "text/plain": [
       "(4, 3)"
      ]
     },
     "execution_count": 19,
     "metadata": {},
     "output_type": "execute_result"
    }
   ],
   "source": [
    "b = broadcast(macros, cal_per_macro)\n",
    "b.shape"
   ]
  },
  {
   "cell_type": "code",
   "execution_count": 24,
   "id": "4ac135da",
   "metadata": {},
   "outputs": [
    {
     "name": "stdout",
     "output_type": "stream",
     "text": [
      "1:  0.3  9\n",
      "2:  2.5  4\n",
      "3:  3.5  4\n",
      "4:  2.9  9\n",
      "5:  27.5  4\n",
      "6:  0.0  4\n",
      "7:  0.4  9\n",
      "8:  1.3  4\n",
      "9:  23.9  4\n",
      "10:  14.4  9\n",
      "11:  6.0  4\n",
      "12:  2.3  4\n"
     ]
    }
   ],
   "source": [
    "for i, j in b:\n",
    "    print('{0}:  {1}  {2}'.format(b.index, i, j))"
   ]
  },
  {
   "cell_type": "code",
   "execution_count": null,
   "id": "409aaed0",
   "metadata": {},
   "outputs": [],
   "source": []
  },
  {
   "cell_type": "code",
   "execution_count": null,
   "id": "48b17191",
   "metadata": {},
   "outputs": [],
   "source": []
  },
  {
   "cell_type": "markdown",
   "id": "4a0d8dee",
   "metadata": {},
   "source": [
    "### Computing outer products with broadcasting"
   ]
  },
  {
   "cell_type": "code",
   "execution_count": 25,
   "id": "3e179edd",
   "metadata": {},
   "outputs": [],
   "source": [
    "from numpy import arange\n",
    "from numpy import reshape"
   ]
  },
  {
   "cell_type": "code",
   "execution_count": 26,
   "id": "d00b1917",
   "metadata": {},
   "outputs": [
    {
     "data": {
      "text/plain": [
       "array([ 1,  2,  3,  4,  5,  6,  7,  8,  9, 10])"
      ]
     },
     "execution_count": 26,
     "metadata": {},
     "output_type": "execute_result"
    }
   ],
   "source": [
    "ten = arange(1, 11)\n",
    "ten"
   ]
  },
  {
   "cell_type": "code",
   "execution_count": 27,
   "id": "b9806a6a",
   "metadata": {},
   "outputs": [
    {
     "data": {
      "text/plain": [
       "(10,)"
      ]
     },
     "execution_count": 27,
     "metadata": {},
     "output_type": "execute_result"
    }
   ],
   "source": [
    "ten.shape"
   ]
  },
  {
   "cell_type": "code",
   "execution_count": 28,
   "id": "6f8b7318",
   "metadata": {},
   "outputs": [
    {
     "data": {
      "text/plain": [
       "array([[ 1],\n",
       "       [ 2],\n",
       "       [ 3],\n",
       "       [ 4],\n",
       "       [ 5],\n",
       "       [ 6],\n",
       "       [ 7],\n",
       "       [ 8],\n",
       "       [ 9],\n",
       "       [10]])"
      ]
     },
     "execution_count": 28,
     "metadata": {},
     "output_type": "execute_result"
    }
   ],
   "source": [
    "# Using Numpy's reshape method to convert the row vector into a\n",
    "# column vector.\n",
    "ten.reshape((10,1))"
   ]
  },
  {
   "cell_type": "code",
   "execution_count": 29,
   "id": "77234241",
   "metadata": {},
   "outputs": [
    {
     "data": {
      "text/plain": [
       "(10,)"
      ]
     },
     "execution_count": 29,
     "metadata": {},
     "output_type": "execute_result"
    }
   ],
   "source": [
    "ten.shape"
   ]
  },
  {
   "cell_type": "code",
   "execution_count": 31,
   "id": "303f0a7a",
   "metadata": {},
   "outputs": [
    {
     "data": {
      "text/plain": [
       "(10, 1)"
      ]
     },
     "execution_count": 31,
     "metadata": {},
     "output_type": "execute_result"
    }
   ],
   "source": [
    "ten.reshape((10,1)).shape"
   ]
  },
  {
   "cell_type": "code",
   "execution_count": null,
   "id": "07004043",
   "metadata": {},
   "outputs": [],
   "source": []
  },
  {
   "cell_type": "code",
   "execution_count": 32,
   "id": "0cdf7c42",
   "metadata": {},
   "outputs": [],
   "source": [
    "# Let's see what the 'broadcast' class tells us about the resulting\n",
    "# shape of broadcasting ten and its column-vector version"
   ]
  },
  {
   "cell_type": "code",
   "execution_count": 33,
   "id": "24d4784e",
   "metadata": {},
   "outputs": [
    {
     "data": {
      "text/plain": [
       "(10, 10)"
      ]
     },
     "execution_count": 33,
     "metadata": {},
     "output_type": "execute_result"
    }
   ],
   "source": [
    "broadcast(ten, ten.reshape((10, 1))).shape"
   ]
  },
  {
   "cell_type": "code",
   "execution_count": 34,
   "id": "d7ffb33d",
   "metadata": {},
   "outputs": [
    {
     "data": {
      "text/plain": [
       "array([[  1,   2,   3,   4,   5,   6,   7,   8,   9,  10],\n",
       "       [  2,   4,   6,   8,  10,  12,  14,  16,  18,  20],\n",
       "       [  3,   6,   9,  12,  15,  18,  21,  24,  27,  30],\n",
       "       [  4,   8,  12,  16,  20,  24,  28,  32,  36,  40],\n",
       "       [  5,  10,  15,  20,  25,  30,  35,  40,  45,  50],\n",
       "       [  6,  12,  18,  24,  30,  36,  42,  48,  54,  60],\n",
       "       [  7,  14,  21,  28,  35,  42,  49,  56,  63,  70],\n",
       "       [  8,  16,  24,  32,  40,  48,  56,  64,  72,  80],\n",
       "       [  9,  18,  27,  36,  45,  54,  63,  72,  81,  90],\n",
       "       [ 10,  20,  30,  40,  50,  60,  70,  80,  90, 100]])"
      ]
     },
     "execution_count": 34,
     "metadata": {},
     "output_type": "execute_result"
    }
   ],
   "source": [
    "ten * ten.reshape((10, 1))"
   ]
  },
  {
   "cell_type": "code",
   "execution_count": null,
   "id": "8877cdea",
   "metadata": {},
   "outputs": [],
   "source": []
  },
  {
   "cell_type": "code",
   "execution_count": null,
   "id": "15eff87f",
   "metadata": {},
   "outputs": [],
   "source": []
  },
  {
   "cell_type": "markdown",
   "id": "2608e074",
   "metadata": {},
   "source": [
    "## Use the right tool for the job"
   ]
  },
  {
   "cell_type": "code",
   "execution_count": 35,
   "id": "051a1248",
   "metadata": {},
   "outputs": [
    {
     "data": {
      "text/plain": [
       "array([[  2.7,  10. ,  14. ],\n",
       "       [ 26.1, 110. ,   0. ],\n",
       "       [  3.6,   5.2,  95.6],\n",
       "       [129.6,  24. ,   9.2]])"
      ]
     },
     "execution_count": 35,
     "metadata": {},
     "output_type": "execute_result"
    }
   ],
   "source": [
    "macros * cal_per_macro"
   ]
  },
  {
   "cell_type": "code",
   "execution_count": 52,
   "id": "113a128f",
   "metadata": {},
   "outputs": [
    {
     "data": {
      "text/plain": [
       "array([ 26.7, 136.1, 104.4, 162.8])"
      ]
     },
     "execution_count": 52,
     "metadata": {},
     "output_type": "execute_result"
    }
   ],
   "source": [
    "from numpy import sum\n",
    "import numpy as np\n",
    "sum(macros * cal_per_macro, axis=1)"
   ]
  },
  {
   "cell_type": "code",
   "execution_count": null,
   "id": "336271a3",
   "metadata": {},
   "outputs": [],
   "source": []
  },
  {
   "cell_type": "code",
   "execution_count": null,
   "id": "3776b295",
   "metadata": {},
   "outputs": [],
   "source": []
  },
  {
   "cell_type": "code",
   "execution_count": 53,
   "id": "d1a9fb98",
   "metadata": {},
   "outputs": [],
   "source": [
    "## axis "
   ]
  },
  {
   "cell_type": "code",
   "execution_count": 54,
   "id": "f1d24972",
   "metadata": {},
   "outputs": [
    {
     "data": {
      "text/plain": [
       "10"
      ]
     },
     "execution_count": 54,
     "metadata": {},
     "output_type": "execute_result"
    }
   ],
   "source": [
    "sum(([1,2],[3,4]))"
   ]
  },
  {
   "cell_type": "code",
   "execution_count": 55,
   "id": "70385d51",
   "metadata": {},
   "outputs": [
    {
     "data": {
      "text/plain": [
       "array([4, 6])"
      ]
     },
     "execution_count": 55,
     "metadata": {},
     "output_type": "execute_result"
    }
   ],
   "source": [
    "sum(([1,2],[3,4]), axis=0)"
   ]
  },
  {
   "cell_type": "code",
   "execution_count": 56,
   "id": "325865cd",
   "metadata": {},
   "outputs": [
    {
     "data": {
      "text/plain": [
       "array([3, 7])"
      ]
     },
     "execution_count": 56,
     "metadata": {},
     "output_type": "execute_result"
    }
   ],
   "source": [
    "sum(([1,2],[3,4]), axis=1)"
   ]
  },
  {
   "cell_type": "code",
   "execution_count": null,
   "id": "28ca0e5e",
   "metadata": {},
   "outputs": [],
   "source": []
  }
 ],
 "metadata": {
  "kernelspec": {
   "display_name": "Python 3",
   "language": "python",
   "name": "python3"
  },
  "language_info": {
   "codemirror_mode": {
    "name": "ipython",
    "version": 3
   },
   "file_extension": ".py",
   "mimetype": "text/x-python",
   "name": "python",
   "nbconvert_exporter": "python",
   "pygments_lexer": "ipython3",
   "version": "3.8.8"
  }
 },
 "nbformat": 4,
 "nbformat_minor": 5
}
